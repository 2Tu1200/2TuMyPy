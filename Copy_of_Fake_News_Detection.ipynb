{
  "metadata": {
    "kernelspec": {
      "language": "python",
      "display_name": "Python 3",
      "name": "python3"
    },
    "language_info": {
      "pygments_lexer": "ipython3",
      "nbconvert_exporter": "python",
      "version": "3.6.4",
      "file_extension": ".py",
      "codemirror_mode": {
        "name": "ipython",
        "version": 3
      },
      "name": "python",
      "mimetype": "text/x-python"
    },
    "colab": {
      "provenance": [],
      "include_colab_link": true
    }
  },
  "nbformat_minor": 0,
  "nbformat": 4,
  "cells": [
    {
      "cell_type": "markdown",
      "metadata": {
        "id": "view-in-github",
        "colab_type": "text"
      },
      "source": [
        "<a href=\"https://colab.research.google.com/github/2Tu1200/2TuMyPy/blob/main/Copy_of_Fake_News_Detection.ipynb\" target=\"_parent\"><img src=\"https://colab.research.google.com/assets/colab-badge.svg\" alt=\"Open In Colab\"/></a>"
      ]
    },
    {
      "cell_type": "code",
      "source": [
        "#FAKE NEWS DETECTION WITH NAIVE BAYES CLASSIFIER"
      ],
      "metadata": {
        "id": "3R3Is8U1KvOP"
      },
      "execution_count": null,
      "outputs": []
    },
    {
      "cell_type": "code",
      "source": [
        "# Import libraries: pandas, TfidfVectorizer, MultinomialNB\n",
        "# Load dataset: news article text and labels (real or fake)\n",
        "# Separate text and labels: X for text, y for labels\n",
        "# Vectorize text data: numerical representation for ML algorithms\n",
        "# Train Naive Bayes classifier: simple and effective for text classification\n",
        "# Make predictions on new data: predict labels for new news articles\n",
        "# Print predictions: list of labels (real or fake) for new articles"
      ],
      "metadata": {
        "id": "z0hqnep2KvOR"
      },
      "execution_count": null,
      "outputs": []
    },
    {
      "cell_type": "code",
      "source": [
        "# Import required necessary libraries\n",
        "import pandas as pd\n",
        "from sklearn.feature_extraction.text import TfidfVectorizer\n",
        "from sklearn.naive_bayes import MultinomialNB\n",
        "\n",
        "# Load the dataset\n",
        "data = pd.read_csv('fake_news_data.csv')\n",
        "\n",
        "# Separate the text and labels\n",
        "X = data['text']\n",
        "y = data['label']\n",
        "\n",
        "# Vectorize the text data\n",
        "vectorizer = TfidfVectorizer()\n",
        "X_vec = vectorizer.fit_transform(X)\n",
        "\n",
        "# Train a Naive Bayes classifier\n",
        "classifier = MultinomialNB()\n",
        "classifier.fit(X_vec, y)\n",
        "\n",
        "# Make predictions on the new data set\n",
        "new_data = ['This is a real news article.', 'This is a fake news article.']\n",
        "new_vec = vectorizer.transform(new_data)\n",
        "predictions = classifier.predict(new_vec)\n",
        "\n",
        "# Print predictions\n",
        "print(predictions)\n"
      ],
      "metadata": {
        "_uuid": "8f2839f25d086af736a60e9eeb907d3b93b6e0e5",
        "_cell_guid": "b1076dfc-b9ad-4769-8c92-a6c4dae69d19",
        "trusted": true,
        "id": "VS0PYWU3KvOS"
      },
      "execution_count": null,
      "outputs": []
    }
  ]
}