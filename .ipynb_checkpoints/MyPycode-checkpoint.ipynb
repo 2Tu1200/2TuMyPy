{
 "cells": [
  {
   "cell_type": "markdown",
   "metadata": {},
   "source": [
    "My Python files running here "
   ]
  },
  {
   "cell_type": "code",
   "execution_count": 1,
   "metadata": {},
   "outputs": [
    {
     "data": {
      "text/plain": [
       "8"
      ]
     },
     "execution_count": 1,
     "metadata": {},
     "output_type": "execute_result"
    }
   ],
   "source": [
    "5+3"
   ]
  },
  {
   "cell_type": "markdown",
   "metadata": {},
   "source": [
    "Actually I created this file (MyPycode) in VScode, and opened in JN to check and its running well here. Markdown feature too is very necessary, so that I can take notes about my codes using any environment (Python or JS). Also, It was not autosaving, untill I removed it from the protected folder category from ransomeware protection of Win10. Thanks and CU again."
   ]
  },
  {
   "cell_type": "markdown",
   "metadata": {},
   "source": [
    "The only extension in VScode required is \"Live Server\" for JS coding. Additionally I installed Jupyter notebook extension with python. Its working here well."
   ]
  },
  {
   "cell_type": "code",
   "execution_count": 1,
   "metadata": {},
   "outputs": [
    {
     "data": {
      "application/javascript": [
       "var x = 5;\n",
       "var y = 6;\n",
       "var z = x + y;\n",
       "element.text(z)\n"
      ],
      "text/plain": [
       "<IPython.core.display.Javascript object>"
      ]
     },
     "metadata": {},
     "output_type": "display_data"
    }
   ],
   "source": [
    "%%js\n",
    "var x = 5;\n",
    "var y = 6;\n",
    "var z = x + y;\n",
    "element.text(z)"
   ]
  },
  {
   "cell_type": "markdown",
   "metadata": {},
   "source": [
    "Here I am running JS using magic command (%%), as It enables me to run any language here in JN. "
   ]
  },
  {
   "cell_type": "code",
   "execution_count": 2,
   "metadata": {},
   "outputs": [
    {
     "data": {
      "application/javascript": [
       "alert(\"hello, world!\");\n"
      ],
      "text/plain": [
       "<IPython.core.display.Javascript object>"
      ]
     },
     "metadata": {},
     "output_type": "display_data"
    }
   ],
   "source": [
    "%%js\n",
    "alert(\"hello, world!\");"
   ]
  },
  {
   "cell_type": "markdown",
   "metadata": {},
   "source": [
    "Here I am taking print output as a notification."
   ]
  },
  {
   "cell_type": "code",
   "execution_count": 3,
   "metadata": {},
   "outputs": [
    {
     "data": {
      "application/javascript": [
       "alert(\"hello, world!\")"
      ],
      "text/plain": [
       "<IPython.core.display.Javascript object>"
      ]
     },
     "metadata": {},
     "output_type": "display_data"
    }
   ],
   "source": [
    "from IPython.display import Javascript\n",
    "simpjs = Javascript('alert(\"hello, world!\")')\n",
    "display(simpjs)"
   ]
  },
  {
   "cell_type": "markdown",
   "metadata": {},
   "source": [
    "Here I am using a built-in module in IPython, doing the same thing."
   ]
  },
  {
   "cell_type": "code",
   "execution_count": 5,
   "metadata": {
    "scrolled": true
   },
   "outputs": [
    {
     "ename": "SyntaxError",
     "evalue": "invalid syntax (1798331433.py, line 1)",
     "output_type": "error",
     "traceback": [
      "\u001b[1;36m  Cell \u001b[1;32mIn[5], line 1\u001b[1;36m\u001b[0m\n\u001b[1;33m    var msg = \"Hello, World!\"\u001b[0m\n\u001b[1;37m        ^\u001b[0m\n\u001b[1;31mSyntaxError\u001b[0m\u001b[1;31m:\u001b[0m invalid syntax\n"
     ]
    }
   ],
   "source": [
    "var msg = \"Hello, World!\"\n",
    "console.log(msg)\n"
   ]
  },
  {
   "cell_type": "markdown",
   "metadata": {},
   "source": [
    "However, console.log command is not running. For that, i have to install Visual Studio and Node. NVM and then Ijavascript."
   ]
  },
  {
   "cell_type": "markdown",
   "metadata": {},
   "source": [
    "It was a nightmare (running console.log command) running my JS codes in JN. Because MSVisual studio was asking for more than 31 gb in space to download and install, that too not granted. But, thanks Conda. I installed conda, entered in my working directory (JScode) and running only 4 commands on Conda command prompt installed a JS kernel here. 4 commands are: \n",
    "conda install nodejs\n",
    "conda install jupyter\n",
    "npm install -g ijavascript\n",
    "ijsinstall.\n",
    "Thanks God. Now I can run all my Python and JS commands at one place, take notes, and can keep backup to manage after PC disaster. Thanks OA."
   ]
  },
  {
   "cell_type": "code",
   "execution_count": 1,
   "metadata": {},
   "outputs": [
    {
     "name": "stdout",
     "output_type": "stream",
     "text": [
      "Hello, World!\n"
     ]
    }
   ],
   "source": [
    "var msg = \"Hello, World!\"\n",
    "console.log(msg)\n"
   ]
  },
  {
   "cell_type": "markdown",
   "metadata": {},
   "source": [
    "How I changed the default working directory of Jupyter Notebook:\n",
    "    \n",
    "    ***run anaconda command prompt\n",
    "    ***run jupyter notebook --generate-config\n",
    "    ***a directory .jupyter/ should have created in your home with a file jupyter_notebook_config.py\n",
    "\n",
    "You don't have to do anything on the prompt anymore. it shows something like:\n",
    "\n",
    "C:\\Users\\name\\.jupyter\n",
    "Find this folder on your C: drive, and in this folder, find the python file jupyter_notebook_config.py.\n",
    "Drag the file into a Notepad ++ to edit it. When editing, look around line 214, for the string that looks like:\n",
    "\n",
    "#c.NotebookApp.notebook_dir = ''\n",
    "Uncomment it, i.e., delete the \"#\" in the first column. Now add our target folder address into the ' ' like this:\n",
    "\n",
    "c.NotebookApp.notebook_dir = 'C:\\\\Users\\\\name\\\\Desktop\\\\foldername'\n",
    "Then save the file. Then open anaconda prompt again, type jupyter notebook.\n",
    "This should launch Jupyter Notebook in the browser in the folder with the above address.\n",
    "Here, the key point is to UNCOMMENT (which means to delete) the # at front of the line, and then, USE \\\\ double slashes (for the path separator) between folders. If you use only single slashes \\, it won't work.\n",
    "\n",
    "    ***Now In the start menu, right click Jupyter Notebook -> Properties. In the Target field, change %USERPROFILE% to your new \"D:/path\".\n",
    "Add the path that you would like (but use / not \\ for path).\n",
    "\n",
    "Now, Just clicking the JN shortcut provided by Conda opens JN in my desired folder.|||\n",
    "\n",
    "Thanks by 22."
   ]
  },
  {
   "cell_type": "code",
   "execution_count": null,
   "metadata": {},
   "outputs": [],
   "source": []
  }
 ],
 "metadata": {
  "kernelspec": {
   "display_name": "JavaScript (Node.js)",
   "language": "javascript",
   "name": "javascript"
  },
  "language_info": {
   "file_extension": ".js",
   "mimetype": "application/javascript",
   "name": "javascript",
   "version": "16.13.1"
  },
  "vscode": {
   "interpreter": {
    "hash": "548469c6c2bafbb029779e083e6b7a8ec6c3c4d82809e86f97f722b1b0da594c"
   }
  }
 },
 "nbformat": 4,
 "nbformat_minor": 2
}
