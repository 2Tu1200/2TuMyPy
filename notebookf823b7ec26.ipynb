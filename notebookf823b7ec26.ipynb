{
  "metadata": {
    "kernelspec": {
      "display_name": "Python 3 (ipykernel)",
      "language": "python",
      "name": "python3"
    },
    "language_info": {
      "codemirror_mode": {
        "name": "ipython",
        "version": 3
      },
      "file_extension": ".py",
      "mimetype": "text/x-python",
      "name": "python",
      "nbconvert_exporter": "python",
      "pygments_lexer": "ipython3",
      "version": "3.9.16"
    },
    "kaggle": {
      "accelerator": "none",
      "dataSources": [],
      "dockerImageVersionId": 30786,
      "isInternetEnabled": false,
      "language": "python",
      "sourceType": "notebook",
      "isGpuEnabled": false
    },
    "colab": {
      "name": "notebookf823b7ec26",
      "provenance": [],
      "include_colab_link": true
    }
  },
  "nbformat_minor": 5,
  "nbformat": 4,
  "cells": [
    {
      "cell_type": "markdown",
      "metadata": {
        "id": "view-in-github",
        "colab_type": "text"
      },
      "source": [
        "<a href=\"https://colab.research.google.com/github/2Tu1200/2TuMyPy/blob/main/notebookf823b7ec26.ipynb\" target=\"_parent\"><img src=\"https://colab.research.google.com/assets/colab-badge.svg\" alt=\"Open In Colab\"/></a>"
      ]
    },
    {
      "cell_type": "markdown",
      "source": [
        "#### Hurrah...........to run different Pyspark apps using different Spark sessions, even restart is not required. Log-out is enough."
      ],
      "metadata": {
        "id": "6PScIdmXVE8t"
      },
      "id": "6PScIdmXVE8t"
    },
    {
      "cell_type": "markdown",
      "source": [
        "# My PySpark"
      ],
      "metadata": {
        "id": "r_TJ-JROVE8y"
      },
      "id": "r_TJ-JROVE8y"
    },
    {
      "cell_type": "markdown",
      "source": [],
      "metadata": {
        "id": "olBd6o4nVbMn"
      },
      "id": "olBd6o4nVbMn"
    },
    {
      "cell_type": "markdown",
      "source": [
        "PySpark can be easily installed as per the directions mentioned in CJ of my phone or following the instructions in \"Taming Big data by Apache Spark by Frank Kane\". After seeing the \"SPARK\" logo and confirmed that spark has been successfully loaded, \"Findspark\" is the magic module that should be installed with command like \"Pip3 install Findspark\". Run command prompt and type Python to get triple arrow sign of Python command prompt and type \"Import Findspark\" and \"Findspark.init('C:\\spark'), it should run silently, that's correct. Now another important library is Py4J, that I installed by runing \"Pip3 install Py4J\" install ##Now It should run on Jupyter Notebook, as mentioned down."
      ],
      "metadata": {
        "id": "0S-fNuLPVE8y"
      },
      "id": "0S-fNuLPVE8y"
    },
    {
      "cell_type": "markdown",
      "source": [
        "# Initially it was giving error like:"
      ],
      "metadata": {
        "id": "5EhD1YLlVE8z"
      },
      "id": "5EhD1YLlVE8z"
    },
    {
      "cell_type": "code",
      "source": [
        "\n",
        "from pyspark import SparkConf, SparkContext\n",
        "import collections"
      ],
      "metadata": {
        "execution": {
          "iopub.status.busy": "2024-10-29T17:12:21.592251Z",
          "iopub.execute_input": "2024-10-29T17:12:21.593018Z",
          "iopub.status.idle": "2024-10-29T17:12:21.599401Z",
          "shell.execute_reply.started": "2024-10-29T17:12:21.592973Z",
          "shell.execute_reply": "2024-10-29T17:12:21.598145Z"
        },
        "trusted": true,
        "id": "WMWbzbiUVE80"
      },
      "execution_count": 1,
      "outputs": [],
      "id": "WMWbzbiUVE80"
    },
    {
      "cell_type": "markdown",
      "source": [
        "# Now It should run on Jupyter Notebook, through above mentioned steps.  "
      ],
      "metadata": {
        "id": "pljXulPmVE82"
      },
      "id": "pljXulPmVE82"
    },
    {
      "cell_type": "markdown",
      "source": [
        "## Now pyspark is accessible through findspark module, so below 3 lines are necessary to access PySpark in Jupyter Notebook ysstem"
      ],
      "metadata": {
        "id": "0bnXtYqnVE83"
      },
      "id": "0bnXtYqnVE83"
    },
    {
      "cell_type": "code",
      "source": [
        "import findspark"
      ],
      "metadata": {
        "execution": {
          "iopub.status.busy": "2024-10-29T17:29:36.998749Z",
          "iopub.execute_input": "2024-10-29T17:29:36.999656Z",
          "iopub.status.idle": "2024-10-29T17:29:37.022666Z",
          "shell.execute_reply.started": "2024-10-29T17:29:36.999613Z",
          "shell.execute_reply": "2024-10-29T17:29:37.021408Z"
        },
        "trusted": true,
        "id": "PIoRZ_ZoVE83",
        "outputId": "45932bb9-5b0b-41a3-dc94-07160b995a68",
        "colab": {
          "base_uri": "https://localhost:8080/",
          "height": 314
        }
      },
      "execution_count": 5,
      "outputs": [
        {
          "output_type": "error",
          "ename": "ModuleNotFoundError",
          "evalue": "No module named 'findspark'",
          "traceback": [
            "\u001b[0;31m---------------------------------------------------------------------------\u001b[0m",
            "\u001b[0;31mModuleNotFoundError\u001b[0m                       Traceback (most recent call last)",
            "\u001b[0;32m<ipython-input-5-ff073c74b5db>\u001b[0m in \u001b[0;36m<cell line: 1>\u001b[0;34m()\u001b[0m\n\u001b[0;32m----> 1\u001b[0;31m \u001b[0;32mimport\u001b[0m \u001b[0mfindspark\u001b[0m\u001b[0;34m\u001b[0m\u001b[0;34m\u001b[0m\u001b[0m\n\u001b[0m",
            "\u001b[0;31mModuleNotFoundError\u001b[0m: No module named 'findspark'",
            "",
            "\u001b[0;31m---------------------------------------------------------------------------\u001b[0;32m\nNOTE: If your import is failing due to a missing package, you can\nmanually install dependencies using either !pip or !apt.\n\nTo view examples of installing some common dependencies, click the\n\"Open Examples\" button below.\n\u001b[0;31m---------------------------------------------------------------------------\u001b[0m\n"
          ],
          "errorDetails": {
            "actions": [
              {
                "action": "open_url",
                "actionText": "Open Examples",
                "url": "/notebooks/snippets/importing_libraries.ipynb"
              }
            ]
          }
        }
      ],
      "id": "PIoRZ_ZoVE83"
    },
    {
      "cell_type": "code",
      "source": [
        "findspark.init('C:\\spark')"
      ],
      "metadata": {
        "id": "WvAnT-SSVE84",
        "outputId": "511bdcdb-7f6a-475c-f360-1e84df7fca50",
        "colab": {
          "base_uri": "https://localhost:8080/",
          "height": 141
        }
      },
      "execution_count": 4,
      "outputs": [
        {
          "output_type": "error",
          "ename": "NameError",
          "evalue": "name 'findspark' is not defined",
          "traceback": [
            "\u001b[0;31m---------------------------------------------------------------------------\u001b[0m",
            "\u001b[0;31mNameError\u001b[0m                                 Traceback (most recent call last)",
            "\u001b[0;32m<ipython-input-4-bde53465f359>\u001b[0m in \u001b[0;36m<cell line: 1>\u001b[0;34m()\u001b[0m\n\u001b[0;32m----> 1\u001b[0;31m \u001b[0mfindspark\u001b[0m\u001b[0;34m.\u001b[0m\u001b[0minit\u001b[0m\u001b[0;34m(\u001b[0m\u001b[0;34m'C:\\spark'\u001b[0m\u001b[0;34m)\u001b[0m\u001b[0;34m\u001b[0m\u001b[0;34m\u001b[0m\u001b[0m\n\u001b[0m",
            "\u001b[0;31mNameError\u001b[0m: name 'findspark' is not defined"
          ]
        }
      ],
      "id": "WvAnT-SSVE84"
    },
    {
      "cell_type": "code",
      "source": [
        "import pyspark"
      ],
      "metadata": {
        "id": "5yaaJucLVE84"
      },
      "execution_count": 9,
      "outputs": [],
      "id": "5yaaJucLVE84"
    },
    {
      "cell_type": "markdown",
      "source": [
        "## See how smoothly it's being assessed here (above cell) ##"
      ],
      "metadata": {
        "id": "XecZFlZEVE85"
      },
      "id": "XecZFlZEVE85"
    },
    {
      "cell_type": "markdown",
      "source": [
        "# Starting my new SparkSession"
      ],
      "metadata": {
        "id": "mQEvYSoCVE85"
      },
      "id": "mQEvYSoCVE85"
    },
    {
      "cell_type": "code",
      "source": [
        "from pyspark.sql import SparkSession"
      ],
      "metadata": {
        "id": "MPLL5CoEVE85"
      },
      "execution_count": 10,
      "outputs": [],
      "id": "MPLL5CoEVE85"
    },
    {
      "cell_type": "markdown",
      "source": [
        "##Hold-on for 10 secs as starting a Spark Session just takes a while."
      ],
      "metadata": {
        "id": "fgRRPk41VE85"
      },
      "id": "fgRRPk41VE85"
    },
    {
      "cell_type": "code",
      "source": [
        "spark = SparkSession.builder.appName('Basics').getOrCreate()"
      ],
      "metadata": {
        "scrolled": true,
        "id": "u4yn1syyVE86"
      },
      "execution_count": 11,
      "outputs": [],
      "id": "u4yn1syyVE86"
    },
    {
      "cell_type": "markdown",
      "source": [
        "This was the error while I was running above code here, again n again. Now I am trying starting a manual Spark Session through command prompt."
      ],
      "metadata": {
        "id": "CJ2redLDVE86"
      },
      "id": "CJ2redLDVE86"
    },
    {
      "cell_type": "markdown",
      "source": [
        "## Bastard, Yeh (Manual Spark session, tabhi start ho raha hai jab main internet connected hoon, Khair, now proceed ahead."
      ],
      "metadata": {
        "id": "1ZD3zGHoVE86"
      },
      "id": "1ZD3zGHoVE86"
    },
    {
      "cell_type": "code",
      "source": [
        "spark = SparkSession.builder.appName('Basics').getOrCreate()"
      ],
      "metadata": {
        "scrolled": true,
        "id": "BaSVmps-VE86"
      },
      "execution_count": null,
      "outputs": [],
      "id": "BaSVmps-VE86"
    },
    {
      "cell_type": "markdown",
      "source": [
        "After Running the manual Spark session and running internet"
      ],
      "metadata": {
        "id": "ufEkBAfqVE87"
      },
      "id": "ufEkBAfqVE87"
    },
    {
      "cell_type": "code",
      "source": [
        "spark = SparkSession.builder.appName('Basics').getOrCreate()"
      ],
      "metadata": {
        "scrolled": true,
        "id": "D0f_ghTfVE87"
      },
      "execution_count": null,
      "outputs": [],
      "id": "D0f_ghTfVE87"
    },
    {
      "cell_type": "markdown",
      "source": [
        "##Saalaa, Lagataa Hai system restart karke dekhnaa padegaa"
      ],
      "metadata": {
        "id": "vFWtqI6UVE87"
      },
      "id": "vFWtqI6UVE87"
    },
    {
      "cell_type": "code",
      "source": [
        "exit()"
      ],
      "metadata": {
        "id": "PC4x3kxPVE87"
      },
      "execution_count": null,
      "outputs": [],
      "id": "PC4x3kxPVE87"
    },
    {
      "cell_type": "markdown",
      "source": [
        "# Saalaa, system restart aur net se connect karke, yeh \"spark = SparkSession.builder.appName('Basics').getOrCreate()\" sahi men chal gaya. Matlab SparkSession mera PC kaa desktop session me sirf ek hi baar create ho sakta hai. Thanks."
      ],
      "metadata": {
        "id": "HgBF-KmNVE87"
      },
      "id": "HgBF-KmNVE87"
    },
    {
      "cell_type": "code",
      "source": [
        "df = spark.read.json('people.json')"
      ],
      "metadata": {
        "id": "qlUIumgYVE87",
        "outputId": "63a5ed37-4620-4439-df40-a56856159465",
        "colab": {
          "base_uri": "https://localhost:8080/",
          "height": 287
        }
      },
      "execution_count": 8,
      "outputs": [
        {
          "output_type": "error",
          "ename": "AnalysisException",
          "evalue": "[PATH_NOT_FOUND] Path does not exist: file:/content/people.json.",
          "traceback": [
            "\u001b[0;31m---------------------------------------------------------------------------\u001b[0m",
            "\u001b[0;31mAnalysisException\u001b[0m                         Traceback (most recent call last)",
            "\u001b[0;32m<ipython-input-8-048d6a40147c>\u001b[0m in \u001b[0;36m<cell line: 1>\u001b[0;34m()\u001b[0m\n\u001b[0;32m----> 1\u001b[0;31m \u001b[0mdf\u001b[0m \u001b[0;34m=\u001b[0m \u001b[0mspark\u001b[0m\u001b[0;34m.\u001b[0m\u001b[0mread\u001b[0m\u001b[0;34m.\u001b[0m\u001b[0mjson\u001b[0m\u001b[0;34m(\u001b[0m\u001b[0;34m'people.json'\u001b[0m\u001b[0;34m)\u001b[0m\u001b[0;34m\u001b[0m\u001b[0;34m\u001b[0m\u001b[0m\n\u001b[0m",
            "\u001b[0;32m/usr/local/lib/python3.10/dist-packages/pyspark/sql/readwriter.py\u001b[0m in \u001b[0;36mjson\u001b[0;34m(self, path, schema, primitivesAsString, prefersDecimal, allowComments, allowUnquotedFieldNames, allowSingleQuotes, allowNumericLeadingZero, allowBackslashEscapingAnyCharacter, mode, columnNameOfCorruptRecord, dateFormat, timestampFormat, multiLine, allowUnquotedControlChars, lineSep, samplingRatio, dropFieldIfAllNull, encoding, locale, pathGlobFilter, recursiveFileLookup, modifiedBefore, modifiedAfter, allowNonNumericNumbers)\u001b[0m\n\u001b[1;32m    423\u001b[0m         \u001b[0;32mif\u001b[0m \u001b[0mtype\u001b[0m\u001b[0;34m(\u001b[0m\u001b[0mpath\u001b[0m\u001b[0;34m)\u001b[0m \u001b[0;34m==\u001b[0m \u001b[0mlist\u001b[0m\u001b[0;34m:\u001b[0m\u001b[0;34m\u001b[0m\u001b[0;34m\u001b[0m\u001b[0m\n\u001b[1;32m    424\u001b[0m             \u001b[0;32massert\u001b[0m \u001b[0mself\u001b[0m\u001b[0;34m.\u001b[0m\u001b[0m_spark\u001b[0m\u001b[0;34m.\u001b[0m\u001b[0m_sc\u001b[0m\u001b[0;34m.\u001b[0m\u001b[0m_jvm\u001b[0m \u001b[0;32mis\u001b[0m \u001b[0;32mnot\u001b[0m \u001b[0;32mNone\u001b[0m\u001b[0;34m\u001b[0m\u001b[0;34m\u001b[0m\u001b[0m\n\u001b[0;32m--> 425\u001b[0;31m             \u001b[0;32mreturn\u001b[0m \u001b[0mself\u001b[0m\u001b[0;34m.\u001b[0m\u001b[0m_df\u001b[0m\u001b[0;34m(\u001b[0m\u001b[0mself\u001b[0m\u001b[0;34m.\u001b[0m\u001b[0m_jreader\u001b[0m\u001b[0;34m.\u001b[0m\u001b[0mjson\u001b[0m\u001b[0;34m(\u001b[0m\u001b[0mself\u001b[0m\u001b[0;34m.\u001b[0m\u001b[0m_spark\u001b[0m\u001b[0;34m.\u001b[0m\u001b[0m_sc\u001b[0m\u001b[0;34m.\u001b[0m\u001b[0m_jvm\u001b[0m\u001b[0;34m.\u001b[0m\u001b[0mPythonUtils\u001b[0m\u001b[0;34m.\u001b[0m\u001b[0mtoSeq\u001b[0m\u001b[0;34m(\u001b[0m\u001b[0mpath\u001b[0m\u001b[0;34m)\u001b[0m\u001b[0;34m)\u001b[0m\u001b[0;34m)\u001b[0m\u001b[0;34m\u001b[0m\u001b[0;34m\u001b[0m\u001b[0m\n\u001b[0m\u001b[1;32m    426\u001b[0m         \u001b[0;32melif\u001b[0m \u001b[0misinstance\u001b[0m\u001b[0;34m(\u001b[0m\u001b[0mpath\u001b[0m\u001b[0;34m,\u001b[0m \u001b[0mRDD\u001b[0m\u001b[0;34m)\u001b[0m\u001b[0;34m:\u001b[0m\u001b[0;34m\u001b[0m\u001b[0;34m\u001b[0m\u001b[0m\n\u001b[1;32m    427\u001b[0m \u001b[0;34m\u001b[0m\u001b[0m\n",
            "\u001b[0;32m/usr/local/lib/python3.10/dist-packages/py4j/java_gateway.py\u001b[0m in \u001b[0;36m__call__\u001b[0;34m(self, *args)\u001b[0m\n\u001b[1;32m   1320\u001b[0m \u001b[0;34m\u001b[0m\u001b[0m\n\u001b[1;32m   1321\u001b[0m         \u001b[0manswer\u001b[0m \u001b[0;34m=\u001b[0m \u001b[0mself\u001b[0m\u001b[0;34m.\u001b[0m\u001b[0mgateway_client\u001b[0m\u001b[0;34m.\u001b[0m\u001b[0msend_command\u001b[0m\u001b[0;34m(\u001b[0m\u001b[0mcommand\u001b[0m\u001b[0;34m)\u001b[0m\u001b[0;34m\u001b[0m\u001b[0;34m\u001b[0m\u001b[0m\n\u001b[0;32m-> 1322\u001b[0;31m         return_value = get_return_value(\n\u001b[0m\u001b[1;32m   1323\u001b[0m             answer, self.gateway_client, self.target_id, self.name)\n\u001b[1;32m   1324\u001b[0m \u001b[0;34m\u001b[0m\u001b[0m\n",
            "\u001b[0;32m/usr/local/lib/python3.10/dist-packages/pyspark/errors/exceptions/captured.py\u001b[0m in \u001b[0;36mdeco\u001b[0;34m(*a, **kw)\u001b[0m\n\u001b[1;32m    183\u001b[0m                 \u001b[0;31m# Hide where the exception came from that shows a non-Pythonic\u001b[0m\u001b[0;34m\u001b[0m\u001b[0;34m\u001b[0m\u001b[0m\n\u001b[1;32m    184\u001b[0m                 \u001b[0;31m# JVM exception message.\u001b[0m\u001b[0;34m\u001b[0m\u001b[0;34m\u001b[0m\u001b[0m\n\u001b[0;32m--> 185\u001b[0;31m                 \u001b[0;32mraise\u001b[0m \u001b[0mconverted\u001b[0m \u001b[0;32mfrom\u001b[0m \u001b[0;32mNone\u001b[0m\u001b[0;34m\u001b[0m\u001b[0;34m\u001b[0m\u001b[0m\n\u001b[0m\u001b[1;32m    186\u001b[0m             \u001b[0;32melse\u001b[0m\u001b[0;34m:\u001b[0m\u001b[0;34m\u001b[0m\u001b[0;34m\u001b[0m\u001b[0m\n\u001b[1;32m    187\u001b[0m                 \u001b[0;32mraise\u001b[0m\u001b[0;34m\u001b[0m\u001b[0;34m\u001b[0m\u001b[0m\n",
            "\u001b[0;31mAnalysisException\u001b[0m: [PATH_NOT_FOUND] Path does not exist: file:/content/people.json."
          ]
        }
      ],
      "id": "qlUIumgYVE87"
    },
    {
      "cell_type": "code",
      "source": [
        "df.show()"
      ],
      "metadata": {
        "id": "wQfmFVB1VE88",
        "outputId": "b19a4a69-3de7-412b-ae70-924580149e2c"
      },
      "execution_count": null,
      "outputs": [
        {
          "name": "stdout",
          "output_type": "stream",
          "text": "+----+-------+\n\n| age|   name|\n\n+----+-------+\n\n|null|Michael|\n\n|  30|   Andy|\n\n|  19| Justin|\n\n+----+-------+\n\n\n"
        }
      ],
      "id": "wQfmFVB1VE88"
    },
    {
      "cell_type": "code",
      "source": [
        "df.printSchema()"
      ],
      "metadata": {
        "id": "g5PvROFPVE88",
        "outputId": "82b46159-7ace-4994-da13-4d0873937991"
      },
      "execution_count": null,
      "outputs": [
        {
          "name": "stdout",
          "output_type": "stream",
          "text": "root\n\n |-- age: long (nullable = true)\n\n |-- name: string (nullable = true)\n\n\n"
        }
      ],
      "id": "g5PvROFPVE88"
    },
    {
      "cell_type": "markdown",
      "source": [
        "Here (Line number 8)I have to be careful that People.json file should be located in the same directory where JN is currently running."
      ],
      "metadata": {
        "id": "kcz79EirVE89"
      },
      "id": "kcz79EirVE89"
    },
    {
      "cell_type": "markdown",
      "source": [
        "#Yeh Salaa (Line number 7) achanak chal pada, jab maine 1. \"Pip3 install Py4J\" install kiya. 2. JN restart karke Line number 5 aur 6 ke commands run kiye, matlab pehla app \"Basic\" create ho gaya...Hurrah"
      ],
      "metadata": {
        "id": "4Iu6x3tkVE89"
      },
      "id": "4Iu6x3tkVE89"
    },
    {
      "cell_type": "code",
      "source": [
        "from pyspark.sql import SparkSession"
      ],
      "metadata": {
        "id": "vFkd3658VE89"
      },
      "execution_count": null,
      "outputs": [],
      "id": "vFkd3658VE89"
    },
    {
      "cell_type": "markdown",
      "source": [
        "## Saalaa yahan tak toh thik chal raha hai.....ab isko kya hua ?"
      ],
      "metadata": {
        "id": "Y3Xb2zVyVE8-"
      },
      "id": "Y3Xb2zVyVE8-"
    },
    {
      "cell_type": "markdown",
      "source": [
        "Ab Scala daal kar dekhten hain"
      ],
      "metadata": {
        "id": "GBR_lGowVE8-"
      },
      "id": "GBR_lGowVE8-"
    },
    {
      "cell_type": "markdown",
      "source": [
        "Usase pehle ki Virtual Box or Ubuntu aur Scala dalen, hum Frank bhaiyaa kaa jo Spark instructions hai, wahi follow karten hain"
      ],
      "metadata": {
        "id": "g1TIe1OvVE8_"
      },
      "id": "g1TIe1OvVE8_"
    },
    {
      "cell_type": "markdown",
      "source": [
        "# Now continued from Line number 9:"
      ],
      "metadata": {
        "id": "WxNPy05dVE8_"
      },
      "id": "WxNPy05dVE8_"
    },
    {
      "cell_type": "code",
      "source": [
        "df.printSchema()"
      ],
      "metadata": {
        "id": "i5inmN1lVE8_",
        "outputId": "9ccc949e-fd34-491b-b801-23405afdf05b",
        "colab": {
          "base_uri": "https://localhost:8080/",
          "height": 141
        }
      },
      "execution_count": 12,
      "outputs": [
        {
          "output_type": "error",
          "ename": "NameError",
          "evalue": "name 'df' is not defined",
          "traceback": [
            "\u001b[0;31m---------------------------------------------------------------------------\u001b[0m",
            "\u001b[0;31mNameError\u001b[0m                                 Traceback (most recent call last)",
            "\u001b[0;32m<ipython-input-12-09aa658342f2>\u001b[0m in \u001b[0;36m<cell line: 1>\u001b[0;34m()\u001b[0m\n\u001b[0;32m----> 1\u001b[0;31m \u001b[0mdf\u001b[0m\u001b[0;34m.\u001b[0m\u001b[0mprintSchema\u001b[0m\u001b[0;34m(\u001b[0m\u001b[0;34m)\u001b[0m\u001b[0;34m\u001b[0m\u001b[0;34m\u001b[0m\u001b[0m\n\u001b[0m",
            "\u001b[0;31mNameError\u001b[0m: name 'df' is not defined"
          ]
        }
      ],
      "id": "i5inmN1lVE8_"
    },
    {
      "cell_type": "code",
      "source": [
        "df.describe().show()"
      ],
      "metadata": {
        "id": "IDiFJWMpVE8_",
        "outputId": "4139cf8b-2302-4a46-8e38-ab96ae034d46"
      },
      "execution_count": null,
      "outputs": [
        {
          "name": "stdout",
          "output_type": "stream",
          "text": "+-------+------------------+-------+\n\n|summary|               age|   name|\n\n+-------+------------------+-------+\n\n|  count|                 2|      3|\n\n|   mean|              24.5|   null|\n\n| stddev|7.7781745930520225|   null|\n\n|    min|                19|   Andy|\n\n|    max|                30|Michael|\n\n+-------+------------------+-------+\n\n\n"
        }
      ],
      "id": "IDiFJWMpVE8_"
    },
    {
      "cell_type": "markdown",
      "source": [
        "##Now Happily I am done with installing and accessing PySpark on JN. Also, I am to continue my study in PIERIAN DATA by Jose##"
      ],
      "metadata": {
        "id": "vdi6Sl8fVE9A"
      },
      "id": "vdi6Sl8fVE9A"
    },
    {
      "cell_type": "code",
      "source": [
        "session.stop()"
      ],
      "metadata": {
        "id": "0LHcmkXNVE9A",
        "outputId": "c238d48e-28a1-46dd-c197-7d5f35c3b9d3"
      },
      "execution_count": null,
      "outputs": [
        {
          "ename": "NameError",
          "evalue": "name 'session' is not defined",
          "output_type": "error",
          "traceback": [
            "\u001b[1;31m---------------------------------------------------------------------------\u001b[0m",
            "\u001b[1;31mNameError\u001b[0m                                 Traceback (most recent call last)",
            "Input \u001b[1;32mIn [11]\u001b[0m, in \u001b[0;36m<cell line: 1>\u001b[1;34m()\u001b[0m\n\u001b[1;32m----> 1\u001b[0m \u001b[43msession\u001b[49m\u001b[38;5;241m.\u001b[39mstop()\n",
            "\u001b[1;31mNameError\u001b[0m: name 'session' is not defined"
          ]
        }
      ],
      "id": "0LHcmkXNVE9A"
    },
    {
      "cell_type": "code",
      "source": [
        "SparkSession.stop()"
      ],
      "metadata": {
        "id": "doLk2iChVE9A",
        "outputId": "5b7d50ba-9a19-497d-f52e-adf832d114eb"
      },
      "execution_count": null,
      "outputs": [
        {
          "ename": "TypeError",
          "evalue": "stop() missing 1 required positional argument: 'self'",
          "output_type": "error",
          "traceback": [
            "\u001b[1;31m---------------------------------------------------------------------------\u001b[0m",
            "\u001b[1;31mTypeError\u001b[0m                                 Traceback (most recent call last)",
            "Input \u001b[1;32mIn [12]\u001b[0m, in \u001b[0;36m<cell line: 1>\u001b[1;34m()\u001b[0m\n\u001b[1;32m----> 1\u001b[0m \u001b[43mSparkSession\u001b[49m\u001b[38;5;241;43m.\u001b[39;49m\u001b[43mstop\u001b[49m\u001b[43m(\u001b[49m\u001b[43m)\u001b[49m\n",
            "\u001b[1;31mTypeError\u001b[0m: stop() missing 1 required positional argument: 'self'"
          ]
        }
      ],
      "id": "doLk2iChVE9A"
    },
    {
      "cell_type": "code",
      "source": [
        "SparkSession.stop('self')"
      ],
      "metadata": {
        "id": "56GOC2r2VE9A",
        "outputId": "97922dfa-d430-4610-b85d-1ba4f2bdc0eb"
      },
      "execution_count": null,
      "outputs": [
        {
          "ename": "AttributeError",
          "evalue": "'str' object has no attribute '_sc'",
          "output_type": "error",
          "traceback": [
            "\u001b[1;31m---------------------------------------------------------------------------\u001b[0m",
            "\u001b[1;31mAttributeError\u001b[0m                            Traceback (most recent call last)",
            "Input \u001b[1;32mIn [13]\u001b[0m, in \u001b[0;36m<cell line: 1>\u001b[1;34m()\u001b[0m\n\u001b[1;32m----> 1\u001b[0m \u001b[43mSparkSession\u001b[49m\u001b[38;5;241;43m.\u001b[39;49m\u001b[43mstop\u001b[49m\u001b[43m(\u001b[49m\u001b[38;5;124;43m'\u001b[39;49m\u001b[38;5;124;43mself\u001b[39;49m\u001b[38;5;124;43m'\u001b[39;49m\u001b[43m)\u001b[49m\n",
            "File \u001b[1;32mC:\\spark\\python\\pyspark\\sql\\session.py:601\u001b[0m, in \u001b[0;36mSparkSession.stop\u001b[1;34m(self)\u001b[0m\n\u001b[0;32m    597\u001b[0m \u001b[38;5;129m@since\u001b[39m(\u001b[38;5;241m2.0\u001b[39m)\n\u001b[0;32m    598\u001b[0m \u001b[38;5;28;01mdef\u001b[39;00m \u001b[38;5;21mstop\u001b[39m(\u001b[38;5;28mself\u001b[39m):\n\u001b[0;32m    599\u001b[0m     \u001b[38;5;124;03m\"\"\"Stop the underlying :class:`SparkContext`.\u001b[39;00m\n\u001b[0;32m    600\u001b[0m \u001b[38;5;124;03m    \"\"\"\u001b[39;00m\n\u001b[1;32m--> 601\u001b[0m     \u001b[38;5;28;43mself\u001b[39;49m\u001b[38;5;241;43m.\u001b[39;49m\u001b[43m_sc\u001b[49m\u001b[38;5;241m.\u001b[39mstop()\n\u001b[0;32m    602\u001b[0m     SparkSession\u001b[38;5;241m.\u001b[39m_instantiatedSession \u001b[38;5;241m=\u001b[39m \u001b[38;5;28;01mNone\u001b[39;00m\n",
            "\u001b[1;31mAttributeError\u001b[0m: 'str' object has no attribute '_sc'"
          ]
        }
      ],
      "id": "56GOC2r2VE9A"
    },
    {
      "cell_type": "code",
      "source": [
        "exit()"
      ],
      "metadata": {
        "id": "w_tfAnhlVE9F"
      },
      "execution_count": null,
      "outputs": [],
      "id": "w_tfAnhlVE9F"
    },
    {
      "cell_type": "markdown",
      "source": [
        "# Just typing (Line number 14) \"exit()\" terminated the kernel and SparkSession, Beta PySpark padhnaa hai toh, specific spark session me (automatic created by system restart ), internet on karke, upar ke sare command run karke, tab karnaa hogaa. **************Keep It Up************  "
      ],
      "metadata": {
        "id": "xzvHXeaXVE9G"
      },
      "id": "xzvHXeaXVE9G"
    },
    {
      "cell_type": "code",
      "source": [
        "from pyspark import SparkConf, SparkContext\n",
        "import collections\n",
        "\n",
        "conf = SparkConf().setMaster(\"local\").setAppName(\"RatingsHistogram\")\n",
        "sc = SparkContext(conf = conf)\n",
        "\n",
        "lines = sc.textFile(\"file:///D:/MyJScode/MyWork/ml-100k/u.data\")\n",
        "ratings = lines.map(lambda x: x.split()[2])\n",
        "result = ratings.countByValue()\n",
        "\n",
        "sortedResults = collections.OrderedDict(sorted(result.items()))\n",
        "for key, value in sortedResults.items():\n",
        "    print(\"%s %i\" % (key, value))\n"
      ],
      "metadata": {
        "id": "3dqPi9_zVE9G",
        "outputId": "0936c2ef-e387-4ad3-e453-2b3f7320016f"
      },
      "execution_count": null,
      "outputs": [
        {
          "ename": "ValueError",
          "evalue": "Cannot run multiple SparkContexts at once; existing SparkContext(app=Basics, master=local[*]) created by getOrCreate at C:\\Users\\Tu2\\AppData\\Local\\Temp\\ipykernel_7152\\787016349.py:1 ",
          "output_type": "error",
          "traceback": [
            "\u001b[1;31m---------------------------------------------------------------------------\u001b[0m",
            "\u001b[1;31mValueError\u001b[0m                                Traceback (most recent call last)",
            "Cell \u001b[1;32mIn[10], line 5\u001b[0m\n\u001b[0;32m      2\u001b[0m \u001b[38;5;28;01mimport\u001b[39;00m \u001b[38;5;21;01mcollections\u001b[39;00m\n\u001b[0;32m      4\u001b[0m conf \u001b[38;5;241m=\u001b[39m SparkConf()\u001b[38;5;241m.\u001b[39msetMaster(\u001b[38;5;124m\"\u001b[39m\u001b[38;5;124mlocal\u001b[39m\u001b[38;5;124m\"\u001b[39m)\u001b[38;5;241m.\u001b[39msetAppName(\u001b[38;5;124m\"\u001b[39m\u001b[38;5;124mRatingsHistogram\u001b[39m\u001b[38;5;124m\"\u001b[39m)\n\u001b[1;32m----> 5\u001b[0m sc \u001b[38;5;241m=\u001b[39m \u001b[43mSparkContext\u001b[49m\u001b[43m(\u001b[49m\u001b[43mconf\u001b[49m\u001b[43m \u001b[49m\u001b[38;5;241;43m=\u001b[39;49m\u001b[43m \u001b[49m\u001b[43mconf\u001b[49m\u001b[43m)\u001b[49m\n\u001b[0;32m      7\u001b[0m lines \u001b[38;5;241m=\u001b[39m sc\u001b[38;5;241m.\u001b[39mtextFile(\u001b[38;5;124m\"\u001b[39m\u001b[38;5;124mfile:///D:/MyJScode/MyWork/ml-100k/u.data\u001b[39m\u001b[38;5;124m\"\u001b[39m)\n\u001b[0;32m      8\u001b[0m ratings \u001b[38;5;241m=\u001b[39m lines\u001b[38;5;241m.\u001b[39mmap(\u001b[38;5;28;01mlambda\u001b[39;00m x: x\u001b[38;5;241m.\u001b[39msplit()[\u001b[38;5;241m2\u001b[39m])\n",
            "File \u001b[1;32mC:\\spark\\python\\pyspark\\context.py:115\u001b[0m, in \u001b[0;36mSparkContext.__init__\u001b[1;34m(self, master, appName, sparkHome, pyFiles, environment, batchSize, serializer, conf, gateway, jsc, profiler_cls)\u001b[0m\n\u001b[0;32m     80\u001b[0m \u001b[38;5;124;03m\"\"\"\u001b[39;00m\n\u001b[0;32m     81\u001b[0m \u001b[38;5;124;03mCreate a new SparkContext. At least the master and app name should be set,\u001b[39;00m\n\u001b[0;32m     82\u001b[0m \u001b[38;5;124;03meither through the named parameters here or through C{conf}.\u001b[39;00m\n\u001b[1;32m   (...)\u001b[0m\n\u001b[0;32m    112\u001b[0m \u001b[38;5;124;03mValueError:...\u001b[39;00m\n\u001b[0;32m    113\u001b[0m \u001b[38;5;124;03m\"\"\"\u001b[39;00m\n\u001b[0;32m    114\u001b[0m \u001b[38;5;28mself\u001b[39m\u001b[38;5;241m.\u001b[39m_callsite \u001b[38;5;241m=\u001b[39m first_spark_call() \u001b[38;5;129;01mor\u001b[39;00m CallSite(\u001b[38;5;28;01mNone\u001b[39;00m, \u001b[38;5;28;01mNone\u001b[39;00m, \u001b[38;5;28;01mNone\u001b[39;00m)\n\u001b[1;32m--> 115\u001b[0m \u001b[43mSparkContext\u001b[49m\u001b[38;5;241;43m.\u001b[39;49m\u001b[43m_ensure_initialized\u001b[49m\u001b[43m(\u001b[49m\u001b[38;5;28;43mself\u001b[39;49m\u001b[43m,\u001b[49m\u001b[43m \u001b[49m\u001b[43mgateway\u001b[49m\u001b[38;5;241;43m=\u001b[39;49m\u001b[43mgateway\u001b[49m\u001b[43m,\u001b[49m\u001b[43m \u001b[49m\u001b[43mconf\u001b[49m\u001b[38;5;241;43m=\u001b[39;49m\u001b[43mconf\u001b[49m\u001b[43m)\u001b[49m\n\u001b[0;32m    116\u001b[0m \u001b[38;5;28;01mtry\u001b[39;00m:\n\u001b[0;32m    117\u001b[0m     \u001b[38;5;28mself\u001b[39m\u001b[38;5;241m.\u001b[39m_do_init(master, appName, sparkHome, pyFiles, environment, batchSize, serializer,\n\u001b[0;32m    118\u001b[0m                   conf, jsc, profiler_cls)\n",
            "File \u001b[1;32mC:\\spark\\python\\pyspark\\context.py:270\u001b[0m, in \u001b[0;36mSparkContext._ensure_initialized\u001b[1;34m(cls, instance, gateway, conf)\u001b[0m\n\u001b[0;32m    267\u001b[0m     callsite \u001b[38;5;241m=\u001b[39m SparkContext\u001b[38;5;241m.\u001b[39m_active_spark_context\u001b[38;5;241m.\u001b[39m_callsite\n\u001b[0;32m    269\u001b[0m     \u001b[38;5;66;03m# Raise error if there is already a running Spark context\u001b[39;00m\n\u001b[1;32m--> 270\u001b[0m     \u001b[38;5;28;01mraise\u001b[39;00m \u001b[38;5;167;01mValueError\u001b[39;00m(\n\u001b[0;32m    271\u001b[0m         \u001b[38;5;124m\"\u001b[39m\u001b[38;5;124mCannot run multiple SparkContexts at once; \u001b[39m\u001b[38;5;124m\"\u001b[39m\n\u001b[0;32m    272\u001b[0m         \u001b[38;5;124m\"\u001b[39m\u001b[38;5;124mexisting SparkContext(app=\u001b[39m\u001b[38;5;132;01m%s\u001b[39;00m\u001b[38;5;124m, master=\u001b[39m\u001b[38;5;132;01m%s\u001b[39;00m\u001b[38;5;124m)\u001b[39m\u001b[38;5;124m\"\u001b[39m\n\u001b[0;32m    273\u001b[0m         \u001b[38;5;124m\"\u001b[39m\u001b[38;5;124m created by \u001b[39m\u001b[38;5;132;01m%s\u001b[39;00m\u001b[38;5;124m at \u001b[39m\u001b[38;5;132;01m%s\u001b[39;00m\u001b[38;5;124m:\u001b[39m\u001b[38;5;132;01m%s\u001b[39;00m\u001b[38;5;124m \u001b[39m\u001b[38;5;124m\"\u001b[39m\n\u001b[0;32m    274\u001b[0m         \u001b[38;5;241m%\u001b[39m (currentAppName, currentMaster,\n\u001b[0;32m    275\u001b[0m             callsite\u001b[38;5;241m.\u001b[39mfunction, callsite\u001b[38;5;241m.\u001b[39mfile, callsite\u001b[38;5;241m.\u001b[39mlinenum))\n\u001b[0;32m    276\u001b[0m \u001b[38;5;28;01melse\u001b[39;00m:\n\u001b[0;32m    277\u001b[0m     SparkContext\u001b[38;5;241m.\u001b[39m_active_spark_context \u001b[38;5;241m=\u001b[39m instance\n",
            "\u001b[1;31mValueError\u001b[0m: Cannot run multiple SparkContexts at once; existing SparkContext(app=Basics, master=local[*]) created by getOrCreate at C:\\Users\\Tu2\\AppData\\Local\\Temp\\ipykernel_7152\\787016349.py:1 "
          ]
        }
      ],
      "id": "3dqPi9_zVE9G"
    },
    {
      "cell_type": "code",
      "source": [
        "from pyspark import SparkConf, SparkContext\n",
        "import collections\n",
        "\n",
        "conf = SparkConf().setMaster(\"local\").setAppName(\"RatingsHistogram\")\n",
        "sc = SparkContext(conf = conf)\n",
        "\n",
        "lines = sc.textFile(\"file:///C:/SparkCourse/ml-100k/u.data\")\n",
        "ratings = lines.map(lambda x: x.split()[2])\n",
        "result = ratings.countByValue()\n",
        "\n",
        "sortedResults = collections.OrderedDict(sorted(result.items()))\n",
        "for key, value in sortedResults.items():\n",
        "    print(\"%s %i\" % (key, value))"
      ],
      "metadata": {
        "id": "RVKq4cB1VE9G",
        "outputId": "10208be7-bc20-4888-8a20-71ae38267560"
      },
      "execution_count": null,
      "outputs": [
        {
          "name": "stdout",
          "output_type": "stream",
          "text": "1 6110\n\n2 11370\n\n3 27145\n\n4 34174\n\n5 21201\n"
        }
      ],
      "id": "RVKq4cB1VE9G"
    },
    {
      "cell_type": "markdown",
      "source": [
        "# Jio ------------Mere-----------------Lal. Aakhir me uparwala module run kara hi liya maine----------dinbhar lagane ke baad. Mujhe Ye yaad rakhanaa hai ki yeh Python 3.5 ke baad ka version par Spark 2.1.1 kaafi problematic hai. Isliye maine ek virtual environment banaya (conda create myenv) activate kiya (conda activate myenv), python 3.5 install kiya pip ke through, findspark and Py4j install kiya pip ke through, aur finally JN install kiya, aur run kiya.Isliye jab bhi PySpark practice karna hai toh:\n",
        "\n",
        "## On Conda command prompt type \"Conda activate myenv\" and then \"Jupyter Notebook\" start karna hai. Upar ke 3-4 commands, Spark session start karna zaroori nahi hai,  run karna hai. Apna practice karna hai. Phir JN close karke type karna hai \"conda deactivate myenv\".\n",
        "\n",
        "### Internet really is not required for running PySpark\n",
        "\n",
        "# Thanks  and  Happy Learning PySpark: \"Taming Big Data by Frank\".   "
      ],
      "metadata": {
        "id": "IewvgMQqVE9H"
      },
      "id": "IewvgMQqVE9H"
    },
    {
      "cell_type": "markdown",
      "source": [
        "#### Hurrah...........to run different Pyspark apps using different Spark sessions, even restart is not required. Log-out is enough."
      ],
      "metadata": {
        "id": "l2NH0mN9VE9H"
      },
      "id": "l2NH0mN9VE9H"
    },
    {
      "cell_type": "code",
      "source": [],
      "metadata": {
        "id": "FIHj3S3NVE9H"
      },
      "execution_count": null,
      "outputs": [],
      "id": "FIHj3S3NVE9H"
    }
  ]
}