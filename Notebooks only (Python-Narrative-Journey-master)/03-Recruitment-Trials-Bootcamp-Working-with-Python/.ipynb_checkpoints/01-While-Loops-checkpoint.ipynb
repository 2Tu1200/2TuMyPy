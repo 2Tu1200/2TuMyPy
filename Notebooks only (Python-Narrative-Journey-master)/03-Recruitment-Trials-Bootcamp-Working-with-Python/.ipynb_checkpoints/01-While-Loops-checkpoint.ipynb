{
 "cells": [
  {
   "cell_type": "markdown",
   "metadata": {
    "collapsed": true
   },
   "source": [
    "# While Loops\n",
    "\n",
    "Now that we understand control flow with if, elif,and else statements let's learn about loops. The first loop we will learn about is the **while loop**.\n",
    "\n",
    "A while loop will repeatedly execute a single statement or group of statements as long as the condition being checked is true. The reason it is called a 'loop' is because the code statements are looped through over and over again until the condition is no longer met.\n",
    "\n",
    "Code indentation becomes very important as we begin to work with loops and control flow. Let's work through some examples recruit!"
   ]
  },
  {
   "cell_type": "code",
   "execution_count": 1,
   "metadata": {},
   "outputs": [
    {
     "name": "stdout",
     "output_type": "stream",
     "text": [
      "X is currently\n",
      "0\n",
      "Adding 1 to x\n",
      "X is currently\n",
      "1\n",
      "Adding 1 to x\n",
      "X is currently\n",
      "2\n",
      "Adding 1 to x\n"
     ]
    }
   ],
   "source": [
    "# Start by setting variable x to 0\n",
    "x = 0\n",
    "\n",
    "while x < 3:\n",
    "    print('X is currently')\n",
    "    print(x)\n",
    "    print(\"Adding 1 to x\")\n",
    "    x = x + 1 #alternatively you could write x += 1"
   ]
  },
  {
   "cell_type": "markdown",
   "metadata": {},
   "source": [
    "____\n",
    "#### Cautionary Note!\n",
    "Be careful with while loops! There is a potential to write a condition that always remains True, meaning you have an infinite running while loop. If this happens to you, try using Ctrl+C to kill the loop. Often in a notebook setting that won't work, so you can try to restart the kernel. If that still doesn't work, use Ctrl+C at the command line running the notebook. Still not working recruit? Oh boy, you're in trouble now! Try restarting your computer :)\n",
    "____\n",
    "Let's move on with some more examples. First let's show you how to accept an input from a user:"
   ]
  },
  {
   "cell_type": "code",
   "execution_count": 3,
   "metadata": {},
   "outputs": [
    {
     "name": "stdout",
     "output_type": "stream",
     "text": [
      "Please input a number: 2\n"
     ]
    }
   ],
   "source": [
    "# Run this cell only once\n",
    "# If you run it again without providing an\n",
    "# input your cell will get stuck with In[*] \n",
    "# To fix this, restart the kernel.\n",
    "\n",
    "# Okay, now for the code\n",
    "\n",
    "saved_input = input(\"Please input a number: \")"
   ]
  },
  {
   "cell_type": "code",
   "execution_count": 4,
   "metadata": {},
   "outputs": [
    {
     "data": {
      "text/plain": [
       "'2'"
      ]
     },
     "execution_count": 4,
     "metadata": {},
     "output_type": "execute_result"
    }
   ],
   "source": [
    "saved_input"
   ]
  },
  {
   "cell_type": "markdown",
   "metadata": {},
   "source": [
    "Notice its a string! You can always cast it with **int()** or **float()** to get a int or float to work with.\n",
    "\n",
    "Let's see how we could use this:"
   ]
  },
  {
   "cell_type": "code",
   "execution_count": 8,
   "metadata": {},
   "outputs": [
    {
     "name": "stdout",
     "output_type": "stream",
     "text": [
      "Welcome Agent\n",
      "Please provide your passcode: 234\n",
      "Please provide your passcode: 345\n",
      "Please provide your passcode: 123\n",
      "Correct Passcode!\n"
     ]
    }
   ],
   "source": [
    "print(\"Welcome Agent\")\n",
    "# start with some default passcode (needs to be defined before while loop starts)\n",
    "passcode = 0\n",
    "\n",
    "while passcode != 123:\n",
    "    passcode = int(input(\"Please provide your passcode: \"))\n",
    "\n",
    "# This won't run until the while loop is \n",
    "# done because of the indentation\n",
    "print(\"Correct Passcode!\")"
   ]
  },
  {
   "cell_type": "code",
   "execution_count": 9,
   "metadata": {},
   "outputs": [
    {
     "name": "stdout",
     "output_type": "stream",
     "text": [
      "Welcome Agent\n",
      "Please provide your passcode: 2\n",
      "Sorry wrong passcode provided\n",
      "Try Again\n",
      "\n",
      "\n",
      "Please provide your passcode: 3\n",
      "Sorry wrong passcode provided\n",
      "Try Again\n",
      "\n",
      "\n",
      "Please provide your passcode: 123\n",
      "Correct Passcode!\n"
     ]
    }
   ],
   "source": [
    "print(\"Welcome Agent\")\n",
    "# start with some default passcode (needs to be defined before while loop starts)\n",
    "passcode = 0\n",
    "\n",
    "while passcode != 123:\n",
    "    passcode = int(input(\"Please provide your passcode: \"))\n",
    "\n",
    "    #Nested control flow logic\n",
    "    if passcode != 123:\n",
    "        print(\"Sorry wrong passcode provided\")\n",
    "        print(\"Try Again\")\n",
    "        print('\\n')\n",
    "    \n",
    "# This won't run until the while loop is \n",
    "# done because of the indentation\n",
    "print(\"Correct Passcode!\")"
   ]
  },
  {
   "cell_type": "markdown",
   "metadata": {},
   "source": [
    "# break keyword"
   ]
  },
  {
   "cell_type": "markdown",
   "metadata": {},
   "source": [
    "\n",
    "The break keyword allows you to \"break\" out of the loop that contains the break keyword. For example"
   ]
  },
  {
   "cell_type": "code",
   "execution_count": 10,
   "metadata": {},
   "outputs": [
    {
     "name": "stdout",
     "output_type": "stream",
     "text": [
      "0\n",
      "add one to x\n",
      "1\n",
      "add one to x\n",
      "2\n",
      "add one to x\n"
     ]
    }
   ],
   "source": [
    "x = 0\n",
    "\n",
    "while x < 10:\n",
    "    print(x)\n",
    "    print('add one to x')\n",
    "    x += 1\n",
    "    \n",
    "    if x == 3:\n",
    "        # This will cause to break out of the top loop \n",
    "        # Note that if statements don't count as loops\n",
    "        break"
   ]
  },
  {
   "cell_type": "markdown",
   "metadata": {},
   "source": [
    "Excellent work recruit! Let's move on to discuss for loops!"
   ]
  }
 ],
 "metadata": {
  "kernelspec": {
   "display_name": "Python 3",
   "language": "python",
   "name": "python3"
  },
  "language_info": {
   "codemirror_mode": {
    "name": "ipython",
    "version": 3
   },
   "file_extension": ".py",
   "mimetype": "text/x-python",
   "name": "python",
   "nbconvert_exporter": "python",
   "pygments_lexer": "ipython3",
   "version": "3.6.1"
  }
 },
 "nbformat": 4,
 "nbformat_minor": 2
}
