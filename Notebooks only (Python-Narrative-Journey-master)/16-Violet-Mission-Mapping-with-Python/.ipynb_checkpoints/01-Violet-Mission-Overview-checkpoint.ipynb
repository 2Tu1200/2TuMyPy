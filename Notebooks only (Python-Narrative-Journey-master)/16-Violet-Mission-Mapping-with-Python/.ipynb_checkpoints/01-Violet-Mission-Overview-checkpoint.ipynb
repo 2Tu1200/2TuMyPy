{
 "cells": [
  {
   "cell_type": "markdown",
   "metadata": {
    "collapsed": true
   },
   "source": [
    "# Violet Mission Overview\n",
    "\n",
    "Excellent work so far Agent, we're almost there! It looks like decrypting the previous message gave us this link:\n",
    "\n",
    "https://docs.google.com/document/d/1ksatYxKicml8lthbNo52LHwBET_ywt4TDSjHbKwwXHk/edit\n",
    "\n",
    "Apparently its leading to a text file, can you figure how to decrypt this last link?"
   ]
  }
 ],
 "metadata": {
  "kernelspec": {
   "display_name": "Python 3",
   "language": "python",
   "name": "python3"
  },
  "language_info": {
   "codemirror_mode": {
    "name": "ipython",
    "version": 3
   },
   "file_extension": ".py",
   "mimetype": "text/x-python",
   "name": "python",
   "nbconvert_exporter": "python",
   "pygments_lexer": "ipython3",
   "version": "3.6.1"
  }
 },
 "nbformat": 4,
 "nbformat_minor": 2
}
