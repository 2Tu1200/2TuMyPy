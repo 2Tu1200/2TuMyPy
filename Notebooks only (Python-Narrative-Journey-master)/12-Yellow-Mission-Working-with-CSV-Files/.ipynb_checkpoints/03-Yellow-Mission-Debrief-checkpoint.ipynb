{
 "cells": [
  {
   "cell_type": "markdown",
   "metadata": {},
   "source": [
    "# Yellow Mission Debrief\n",
    "\n",
    "Excellent work Agent! Let's go over a quick debriefing to discuss what steps you took to get that email address."
   ]
  },
  {
   "cell_type": "markdown",
   "metadata": {},
   "source": [
    "----"
   ]
  },
  {
   "cell_type": "markdown",
   "metadata": {},
   "source": [
    "### Getting the Download Link from the CSV file\n",
    "\n",
    "Using the Python csv library and following the previous instructions for the file, we wanted to crab every element from the 3rd column (index 2) and concatenate them together to get a link for a pdf file that contains an email contact."
   ]
  },
  {
   "cell_type": "code",
   "execution_count": 48,
   "metadata": {
    "collapsed": true
   },
   "outputs": [],
   "source": [
    "import csv"
   ]
  },
  {
   "cell_type": "code",
   "execution_count": 50,
   "metadata": {
    "collapsed": true
   },
   "outputs": [],
   "source": [
    "f = open('Yellow-Mission-Files/download_link.csv','r')"
   ]
  },
  {
   "cell_type": "code",
   "execution_count": 51,
   "metadata": {
    "collapsed": true
   },
   "outputs": [],
   "source": [
    "c_read = csv.reader(f)"
   ]
  },
  {
   "cell_type": "code",
   "execution_count": 52,
   "metadata": {
    "collapsed": true
   },
   "outputs": [],
   "source": [
    "website = ''\n",
    "for row in c_read:\n",
    "    website += row[2]"
   ]
  },
  {
   "cell_type": "code",
   "execution_count": 53,
   "metadata": {},
   "outputs": [
    {
     "data": {
      "text/plain": [
       "'https://drive.google.com/file/d/14oSxiKv35enpyyr81dDqEhkwnUONghPQ/'"
      ]
     },
     "execution_count": 53,
     "metadata": {},
     "output_type": "execute_result"
    }
   ],
   "source": [
    "website"
   ]
  },
  {
   "cell_type": "code",
   "execution_count": 55,
   "metadata": {
    "collapsed": true
   },
   "outputs": [],
   "source": [
    "# We can open new tabs or windows with python \n",
    "# Note: Firewalls sometimes block this from opening\n",
    "import webbrowser"
   ]
  },
  {
   "cell_type": "code",
   "execution_count": 54,
   "metadata": {},
   "outputs": [
    {
     "data": {
      "text/plain": [
       "True"
      ]
     },
     "execution_count": 54,
     "metadata": {},
     "output_type": "execute_result"
    }
   ],
   "source": [
    "webbrowser.open_new_tab(website)"
   ]
  },
  {
   "cell_type": "code",
   "execution_count": 1,
   "metadata": {
    "collapsed": true
   },
   "outputs": [],
   "source": [
    "import csv"
   ]
  },
  {
   "cell_type": "code",
   "execution_count": 2,
   "metadata": {
    "collapsed": true
   },
   "outputs": [],
   "source": [
    "website = 'https://drive.google.com/file/d/14oSxiKv35enpyyr81dDqEhkwnUONghPQ/'"
   ]
  },
  {
   "cell_type": "markdown",
   "metadata": {},
   "source": [
    "## Searching the PDF for an Email\n",
    "\n",
    "\n",
    "First we need to figure out how to find an email in a string. We need to create some sort of regular expression function or piece of code that can search for an email within a string (since we will be extracting the text from each page of the PDF)."
   ]
  },
  {
   "cell_type": "code",
   "execution_count": 79,
   "metadata": {
    "collapsed": true
   },
   "outputs": [],
   "source": [
    "import re"
   ]
  },
  {
   "cell_type": "code",
   "execution_count": 92,
   "metadata": {
    "collapsed": true
   },
   "outputs": [],
   "source": [
    "test = \"This is a test string to practice re. Email is test@example.com but don't pick: @twitter gmail.com or hi@hi .\""
   ]
  },
  {
   "cell_type": "markdown",
   "metadata": {},
   "source": [
    "Square brackets can be used to indicate a set of chars, so [def] matches 'd' or 'e' or 'f'. The codes \\w, \\s etc. work inside square brackets too with the one exception that dot (.) just means a literal dot. \n",
    "\n",
    "To try to grab all emails, the square brackets are an easy way to add '.' and '-' to the set of chars which can appear around the @ with the pattern:\n",
    "    \n",
    "    r'[\\w_.-]+@[\\w_.-]+' \n",
    "    \n",
    "to get an email address:"
   ]
  },
  {
   "cell_type": "code",
   "execution_count": 93,
   "metadata": {
    "collapsed": true
   },
   "outputs": [],
   "source": [
    "# This pattern checks for the following:\n",
    "# Any alphanumerics,underscores,dots,or dashes that are joined together with an @ symbol\n",
    "matches = re.search(r'[\\w_.-]+@[\\w_.-]+',test)"
   ]
  },
  {
   "cell_type": "code",
   "execution_count": 94,
   "metadata": {},
   "outputs": [
    {
     "data": {
      "text/plain": [
       "'test@example.com'"
      ]
     },
     "execution_count": 94,
     "metadata": {},
     "output_type": "execute_result"
    }
   ],
   "source": [
    "matches.group()"
   ]
  },
  {
   "cell_type": "markdown",
   "metadata": {},
   "source": [
    "____\n",
    "Now that we have the link for the PDF file, we can download it and use regular expressions with the PyPDF2 library to find the email that is somewhere in this PDF file:"
   ]
  },
  {
   "cell_type": "code",
   "execution_count": 83,
   "metadata": {
    "collapsed": true
   },
   "outputs": [],
   "source": [
    "import PyPDF2"
   ]
  },
  {
   "cell_type": "code",
   "execution_count": 85,
   "metadata": {
    "collapsed": true
   },
   "outputs": [],
   "source": [
    "f = open('Yellow-Mission-Files/Contact_Email_Information.pdf','rb')"
   ]
  },
  {
   "cell_type": "code",
   "execution_count": 86,
   "metadata": {
    "collapsed": true
   },
   "outputs": [],
   "source": [
    "pdf = PyPDF2.PdfFileReader(f)"
   ]
  },
  {
   "cell_type": "code",
   "execution_count": 87,
   "metadata": {},
   "outputs": [
    {
     "data": {
      "text/plain": [
       "61"
      ]
     },
     "execution_count": 87,
     "metadata": {},
     "output_type": "execute_result"
    }
   ],
   "source": [
    "pdf.numPages"
   ]
  },
  {
   "cell_type": "code",
   "execution_count": 88,
   "metadata": {
    "collapsed": true
   },
   "outputs": [],
   "source": [
    "page_one = pdf.getPage(0)"
   ]
  },
  {
   "cell_type": "code",
   "execution_count": 99,
   "metadata": {},
   "outputs": [
    {
     "name": "stdout",
     "output_type": "stream",
     "text": [
      "trillio@n\n",
      "sy@ntheses.\n",
      "t@ake\n",
      "a@lchemy\n",
      "c@onsciousness\n",
      "telesc@ope\n",
      "t@he\n",
      "info@thegoldbugs.com\n"
     ]
    }
   ],
   "source": [
    "for n in range(pdf.numPages):\n",
    "    \n",
    "    page  = pdf.getPage(n)\n",
    "    page_text = page.extractText()\n",
    "    \n",
    "    match = re.search(r'[\\w.-]+@[\\w.-]+',page_text)\n",
    "    \n",
    "    if match:\n",
    "        print(match.group())"
   ]
  },
  {
   "cell_type": "markdown",
   "metadata": {},
   "source": [
    "Notice this still has the issues of returning objects with an @ in the middle of the string. While this sort of string is unusual, we can filter this out further by specifying optional endings that would only belong to an email, such as .com,.net.org etc..."
   ]
  },
  {
   "cell_type": "code",
   "execution_count": 100,
   "metadata": {},
   "outputs": [
    {
     "name": "stdout",
     "output_type": "stream",
     "text": [
      "info@thegoldbugs.com\n"
     ]
    }
   ],
   "source": [
    "for n in range(pdf.numPages):\n",
    "    \n",
    "    page  = pdf.getPage(n)\n",
    "    page_text = page.extractText()\n",
    "    \n",
    "    match = re.search(r'[\\w.-]+@[\\w.-]+(.com|.net|.org)',page_text)\n",
    "    \n",
    "    if match:\n",
    "        print(match.group())\n",
    "        "
   ]
  },
  {
   "cell_type": "markdown",
   "metadata": {},
   "source": [
    "Excellent. Now we have the email. Next step is to learn how to use Python to send an email to this address."
   ]
  }
 ],
 "metadata": {
  "anaconda-cloud": {},
  "kernelspec": {
   "display_name": "Python 3",
   "language": "python",
   "name": "python3"
  },
  "language_info": {
   "codemirror_mode": {
    "name": "ipython",
    "version": 3
   },
   "file_extension": ".py",
   "mimetype": "text/x-python",
   "name": "python",
   "nbconvert_exporter": "python",
   "pygments_lexer": "ipython3",
   "version": "3.6.1"
  }
 },
 "nbformat": 4,
 "nbformat_minor": 2
}
