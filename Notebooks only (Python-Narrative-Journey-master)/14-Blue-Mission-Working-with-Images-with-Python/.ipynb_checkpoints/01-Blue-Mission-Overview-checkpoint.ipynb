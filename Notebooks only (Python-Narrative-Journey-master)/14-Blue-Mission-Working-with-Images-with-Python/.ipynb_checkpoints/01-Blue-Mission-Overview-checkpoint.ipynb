{
 "cells": [
  {
   "cell_type": "markdown",
   "metadata": {
    "collapsed": true
   },
   "source": [
    "# Blue Mission Overview\n",
    "\n",
    "Looks like the email reply had two links:\n",
    "\n",
    "https://drive.google.com/file/d/15YyLqIuGlsCLr4ioKUeHRw8H2QjBNOz2/view\n",
    "\n",
    "https://drive.google.com/file/d/128MRLNuytoW7dVm6B7AF_cDVMeACyTFk/view\n",
    "\n",
    "See if you can figure out how to use these images to figure out the next step.\n",
    "\n",
    "Best of luck!"
   ]
  }
 ],
 "metadata": {
  "kernelspec": {
   "display_name": "Python 3",
   "language": "python",
   "name": "python3"
  },
  "language_info": {
   "codemirror_mode": {
    "name": "ipython",
    "version": 3
   },
   "file_extension": ".py",
   "mimetype": "text/x-python",
   "name": "python",
   "nbconvert_exporter": "python",
   "pygments_lexer": "ipython3",
   "version": "3.6.1"
  }
 },
 "nbformat": 4,
 "nbformat_minor": 2
}
