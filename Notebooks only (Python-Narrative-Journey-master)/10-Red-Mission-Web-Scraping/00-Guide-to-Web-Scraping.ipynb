{
 "cells": [
  {
   "cell_type": "markdown",
   "metadata": {},
   "source": [
    "# Guide to Web Scraping\n",
    "\n",
    "Your first mission will involve web scraping. Let's begin by discussing the general way to scrape a website, keep in mind, almost every \"web-scraping job\" is going to be unique, this is because almost every website is unique. Let's quickly discuss the main components of a website:\n",
    "\n",
    "## Basic components of a WebSite\n",
    "\n",
    "### HTML\n",
    "HTML stands for  Hypertext Markup Language and every website on the internet uses it to display information. Even the jupyter notebook system uses it to display this information in your browser. If you right click on a website and select \"View Page Source\" you can see the raw HTML of a web page. This is the information that Python will be looking at to grab information from. Let's take a look at a simple webpage's HTML:\n",
    "\n",
    "    <!DOCTYPE html>  \n",
    "    <html>  \n",
    "        <head>\n",
    "            <title>Title on Browser Tab</title>\n",
    "        </head>\n",
    "        <body>\n",
    "            <h1> Website Header </h1>\n",
    "            <p> Some Paragraph </p>\n",
    "        <body>\n",
    "    </html>"
   ]
  },
  {
   "cell_type": "markdown",
   "metadata": {},
   "source": [
    "Let's breakdown these components.\n",
    "\n",
    "Every <tag> indicates a specific block type on the webpage:\n",
    "\n",
    "    1.<DOCTYPE html> HTML documents will always start with this type declaration, letting the browser know its an HTML file.\n",
    "    2. The component blocks of the HTML document are placed between <html> and </html>.\n",
    "    3. Meta data and script connections (like a link to a CSS file or a JS file) are often placed in the <head> block.\n",
    "    4. The <title> tag block defines the title of the webpage (its what shows up in the tab of a website you're visiting).\n",
    "    5. Is between <body> and </body> tags are the blocks that will be visible to the site visitor.\n",
    "    6. Headings are defined by the <h1> through <h6> tags, where the number represents the size of the heading.\n",
    "    7. Paragraphs are defined by the <p> tag, this is essentially just normal text on the website.\n",
    "\n",
    "    There are many more tags than just these, such as <a> for hyperlinks, <table> for tables, <tr> for table rows, and <td> for table columns, and more!"
   ]
  },
  {
   "cell_type": "markdown",
   "metadata": {},
   "source": [
    "### CSS\n",
    "\n",
    "CSS stands for Cascading Style Sheets, this is what gives \"style\" to a website, including colors and fonts, and even some animations! CSS uses tags such as **id** or **class** to connect an HTML element to a CSS feature, such as a particular color. **id** is a unique id for an HTML tag and must be unique within the HTML document, basically a single use connection. **class** defines a general style that can then be linked to multiple HTML tags. Basically if you only want a single html tag to be red, you would use an id tag, if you wanted several HTML tags/blocks to be red, you would create a class in your CSS doc and then link it to the rest of these blocks."
   ]
  },
  {
   "cell_type": "markdown",
   "metadata": {},
   "source": [
    "### Scraping Guidelines\n",
    "\n",
    "Keep in mind you should always have permission for the website you are scraping! Check a websites terms and conditions for more info. Also keep in mind that a computer can send requests to a website very fast, so a website may block your computer's ip address if you send too many requests too quickly. Lastly, websites change all the time! You will most likely need to update your code often for long term web-scraping jobs."
   ]
  },
  {
   "cell_type": "markdown",
   "metadata": {},
   "source": [
    "## Web Scraping with Python\n",
    "\n",
    "There are a few libraries you will need, you can go to your command line and install them with conda install (if you are using anaconda distribution), or pip install for other python distributions.\n",
    "\n",
    "    conda install requests\n",
    "    conda install lxml\n",
    "    conda install bs4\n",
    "    \n",
    "if you are not using the Anaconda Installation, you can use **pip install** instead of **conda install**, for example:\n",
    "\n",
    "    pip install requests\n",
    "    pip install lxml\n",
    "    pip install bs4\n",
    "    \n",
    "Now let's see what we can do with these libraries.\n",
    "\n",
    "----"
   ]
  },
  {
   "cell_type": "markdown",
   "metadata": {},
   "source": [
    "### Example Task 0 - Grabbing the title of a page\n",
    "\n",
    "Let's start very simple, we will grab the title of a page. Remember that this is the HTML block with the **title** tag. For this task we will use **www.example.com** which is a website specifically made to serve as an example domain. Let's go through the main steps:"
   ]
  },
  {
   "cell_type": "code",
   "execution_count": 4,
   "metadata": {
    "collapsed": true
   },
   "outputs": [],
   "source": [
    "import requests"
   ]
  },
  {
   "cell_type": "code",
   "execution_count": 5,
   "metadata": {
    "collapsed": true
   },
   "outputs": [],
   "source": [
    "# Step 1: Use the requests library to grab the page\n",
    "# Note, this may fail if you have a firewall blocking Python/Jupyter \n",
    "# Note sometimes you need to run this twice if it fails the first time\n",
    "res = requests.get(\"http://www.example.com\")"
   ]
  },
  {
   "cell_type": "markdown",
   "metadata": {},
   "source": [
    "This object is a requests.models.Response object and it actually contains the information from the website, for example:"
   ]
  },
  {
   "cell_type": "code",
   "execution_count": 6,
   "metadata": {},
   "outputs": [
    {
     "data": {
      "text/plain": [
       "requests.models.Response"
      ]
     },
     "execution_count": 6,
     "metadata": {},
     "output_type": "execute_result"
    }
   ],
   "source": [
    "type(res)"
   ]
  },
  {
   "cell_type": "code",
   "execution_count": 7,
   "metadata": {},
   "outputs": [
    {
     "data": {
      "text/plain": [
       "'<!doctype html>\\n<html>\\n<head>\\n    <title>Example Domain</title>\\n\\n    <meta charset=\"utf-8\" />\\n    <meta http-equiv=\"Content-type\" content=\"text/html; charset=utf-8\" />\\n    <meta name=\"viewport\" content=\"width=device-width, initial-scale=1\" />\\n    <style type=\"text/css\">\\n    body {\\n        background-color: #f0f0f2;\\n        margin: 0;\\n        padding: 0;\\n        font-family: \"Open Sans\", \"Helvetica Neue\", Helvetica, Arial, sans-serif;\\n        \\n    }\\n    div {\\n        width: 600px;\\n        margin: 5em auto;\\n        padding: 50px;\\n        background-color: #fff;\\n        border-radius: 1em;\\n    }\\n    a:link, a:visited {\\n        color: #38488f;\\n        text-decoration: none;\\n    }\\n    @media (max-width: 700px) {\\n        body {\\n            background-color: #fff;\\n        }\\n        div {\\n            width: auto;\\n            margin: 0 auto;\\n            border-radius: 0;\\n            padding: 1em;\\n        }\\n    }\\n    </style>    \\n</head>\\n\\n<body>\\n<div>\\n    <h1>Example Domain</h1>\\n    <p>This domain is established to be used for illustrative examples in documents. You may use this\\n    domain in examples without prior coordination or asking for permission.</p>\\n    <p><a href=\"http://www.iana.org/domains/example\">More information...</a></p>\\n</div>\\n</body>\\n</html>\\n'"
      ]
     },
     "execution_count": 7,
     "metadata": {},
     "output_type": "execute_result"
    }
   ],
   "source": [
    "res.text"
   ]
  },
  {
   "cell_type": "markdown",
   "metadata": {},
   "source": [
    "____\n",
    "Now we use BeautifulSoup to analyze the extracted page. Technically we could use our own custom script to loook for items in the string of **res.text** but the BeautifulSoup library already has lots of built-in tools and methods to grab information from a string of this nature (basically an HTML file). Using BeautifulSoup we can create a \"soup\" object that contains all the \"ingredients\" of the webpage. Don't ask me about the weird library names, I didn't choose them! :)"
   ]
  },
  {
   "cell_type": "code",
   "execution_count": 8,
   "metadata": {
    "collapsed": true
   },
   "outputs": [],
   "source": [
    "import bs4"
   ]
  },
  {
   "cell_type": "code",
   "execution_count": 9,
   "metadata": {
    "collapsed": true
   },
   "outputs": [],
   "source": [
    "soup = bs4.BeautifulSoup(res.text,\"lxml\")"
   ]
  },
  {
   "cell_type": "markdown",
   "metadata": {},
   "source": [
    "Now let's use the **.select()** method to grab elements. We are looking for the 'title' tag, so we will pass in 'title'\n"
   ]
  },
  {
   "cell_type": "code",
   "execution_count": 10,
   "metadata": {},
   "outputs": [
    {
     "data": {
      "text/plain": [
       "[<title>Example Domain</title>]"
      ]
     },
     "execution_count": 10,
     "metadata": {},
     "output_type": "execute_result"
    }
   ],
   "source": [
    "soup.select('title')"
   ]
  },
  {
   "cell_type": "markdown",
   "metadata": {},
   "source": [
    "Notice what is returned here, its actually a list containing all the title elements (along with their tags). You can use indexing or even looping to grab the elements from the list. Since this object it still a specialized tag, we cna use method calls to grab just the text."
   ]
  },
  {
   "cell_type": "code",
   "execution_count": 11,
   "metadata": {
    "collapsed": true
   },
   "outputs": [],
   "source": [
    "title_tag = soup.select('title')"
   ]
  },
  {
   "cell_type": "code",
   "execution_count": 12,
   "metadata": {},
   "outputs": [
    {
     "data": {
      "text/plain": [
       "<title>Example Domain</title>"
      ]
     },
     "execution_count": 12,
     "metadata": {},
     "output_type": "execute_result"
    }
   ],
   "source": [
    "title_tag[0]"
   ]
  },
  {
   "cell_type": "code",
   "execution_count": 13,
   "metadata": {},
   "outputs": [
    {
     "data": {
      "text/plain": [
       "bs4.element.Tag"
      ]
     },
     "execution_count": 13,
     "metadata": {},
     "output_type": "execute_result"
    }
   ],
   "source": [
    "type(title_tag[0])"
   ]
  },
  {
   "cell_type": "code",
   "execution_count": 14,
   "metadata": {},
   "outputs": [
    {
     "data": {
      "text/plain": [
       "'Example Domain'"
      ]
     },
     "execution_count": 14,
     "metadata": {},
     "output_type": "execute_result"
    }
   ],
   "source": [
    "title_tag[0].getText()"
   ]
  },
  {
   "cell_type": "markdown",
   "metadata": {},
   "source": [
    "### Example Task 1 - Grabbing all elements of a class\n",
    "\n",
    "Let's try to grab all the section headings of the Wikipedia Article on Room 641A from this URL: https://en.wikipedia.org/wiki/Room_641A"
   ]
  },
  {
   "cell_type": "code",
   "execution_count": 15,
   "metadata": {
    "collapsed": true
   },
   "outputs": [],
   "source": [
    "# First get the request\n",
    "res = requests.get('https://en.wikipedia.org/wiki/Room_641A')"
   ]
  },
  {
   "cell_type": "code",
   "execution_count": 16,
   "metadata": {
    "collapsed": true
   },
   "outputs": [],
   "source": [
    "# Create a soup from request\n",
    "soup = bs4.BeautifulSoup(res.text,\"lxml\")"
   ]
  },
  {
   "cell_type": "markdown",
   "metadata": {},
   "source": [
    "Now its time to figure out what we are actually looking for. Inspect the element on the page to see that the section headers have the class \"mw-headline\". Because this is a class and not a straight tag, we need to adhere to some syntax for CSS. In this case"
   ]
  },
  {
   "cell_type": "markdown",
   "metadata": {},
   "source": [
    "<table>\n",
    "\n",
    "<thead >\n",
    "<tr>\n",
    "<th>\n",
    "<p>Syntax to pass to the .select() method</p>\n",
    "</th>\n",
    "<th>\n",
    "<p>Match Results</p>\n",
    "</th>\n",
    "</tr>\n",
    "</thead>\n",
    "<tbody>\n",
    "<tr>\n",
    "<td>\n",
    "<p><code>soup.select('div')</code></p>\n",
    "</td>\n",
    "<td>\n",
    "<p>All elements with the <code>&lt;div&gt;</code> tag</p>\n",
    "</td>\n",
    "</tr>\n",
    "<tr>\n",
    "<td>\n",
    "<p><code>soup.select('#some_id')</code></p>\n",
    "</td>\n",
    "<td>\n",
    "<p>The HTML element containing the <code>id</code> attribute of <code>some_id</code></p>\n",
    "</td>\n",
    "</tr>\n",
    "<tr>\n",
    "<td>\n",
    "<p><code>soup.select('.notice')</code></p>\n",
    "</td>\n",
    "<td>\n",
    "<p>All the HTML elements with the CSS <code>class</code> named <code>notice</code></p>\n",
    "</td>\n",
    "</tr>\n",
    "<tr>\n",
    "<td>\n",
    "<p><code>soup.select('div span')</code></p>\n",
    "</td>\n",
    "<td>\n",
    "<p>Any elements named <code>&lt;span&gt;</code> that are within an element named <code>&lt;div&gt;</code></p>\n",
    "</td>\n",
    "</tr>\n",
    "<tr>\n",
    "<td>\n",
    "<p><code>soup.select('div &gt; span')</code></p>\n",
    "</td>\n",
    "<td>\n",
    "<p>Any elements named <code class=\"literal2\">&lt;span&gt;</code> that are <span><em >directly</em></span> within an element named <code class=\"literal2\">&lt;div&gt;</code>, with no other element in between</p>\n",
    "</td>\n",
    "</tr>\n",
    "<tr>\n",
    "\n",
    "</tr>\n",
    "</tbody>\n",
    "</table>"
   ]
  },
  {
   "cell_type": "code",
   "execution_count": 17,
   "metadata": {},
   "outputs": [
    {
     "data": {
      "text/plain": [
       "[<span class=\"mw-headline\" id=\"Description\">Description</span>,\n",
       " <span class=\"mw-headline\" id=\"Lawsuit\">Lawsuit</span>,\n",
       " <span class=\"mw-headline\" id=\"Gallery\">Gallery</span>,\n",
       " <span class=\"mw-headline\" id=\"See_also\">See also</span>,\n",
       " <span class=\"mw-headline\" id=\"References\">References</span>,\n",
       " <span class=\"mw-headline\" id=\"External_links\">External links</span>]"
      ]
     },
     "execution_count": 17,
     "metadata": {},
     "output_type": "execute_result"
    }
   ],
   "source": [
    "soup.select(\".mw-headline\")"
   ]
  },
  {
   "cell_type": "code",
   "execution_count": 18,
   "metadata": {},
   "outputs": [
    {
     "name": "stdout",
     "output_type": "stream",
     "text": [
      "Description\n",
      "Lawsuit\n",
      "Gallery\n",
      "See also\n",
      "References\n",
      "External links\n"
     ]
    }
   ],
   "source": [
    "for item in soup.select(\".mw-headline\"):\n",
    "    print(item.text)"
   ]
  },
  {
   "cell_type": "markdown",
   "metadata": {},
   "source": [
    "### Example Task 3 - Getting an Image from a Website\n",
    "\n",
    "Let's attempt to grab the Cicada image on this Wikipedia Page: https://en.wikipedia.org/wiki/Cicada_3301"
   ]
  },
  {
   "cell_type": "code",
   "execution_count": 19,
   "metadata": {
    "collapsed": true
   },
   "outputs": [],
   "source": [
    "res = requests.get(\"https://en.wikipedia.org/wiki/Cicada_3301\")"
   ]
  },
  {
   "cell_type": "code",
   "execution_count": 20,
   "metadata": {
    "collapsed": true
   },
   "outputs": [],
   "source": [
    "soup = bs4.BeautifulSoup(res.text,'lxml')"
   ]
  },
  {
   "cell_type": "code",
   "execution_count": 21,
   "metadata": {
    "collapsed": true
   },
   "outputs": [],
   "source": [
    "image_info = soup.select('.thumbimage')"
   ]
  },
  {
   "cell_type": "code",
   "execution_count": 22,
   "metadata": {},
   "outputs": [
    {
     "data": {
      "text/plain": [
       "[<img alt=\"\" class=\"thumbimage\" data-file-height=\"246\" data-file-width=\"405\" height=\"134\" src=\"//upload.wikimedia.org/wikipedia/en/thumb/7/7e/Cicada_3301_logo.jpg/220px-Cicada_3301_logo.jpg\" srcset=\"//upload.wikimedia.org/wikipedia/en/thumb/7/7e/Cicada_3301_logo.jpg/330px-Cicada_3301_logo.jpg 1.5x, //upload.wikimedia.org/wikipedia/en/7/7e/Cicada_3301_logo.jpg 2x\" width=\"220\"/>]"
      ]
     },
     "execution_count": 22,
     "metadata": {},
     "output_type": "execute_result"
    }
   ],
   "source": [
    "image_info"
   ]
  },
  {
   "cell_type": "code",
   "execution_count": 23,
   "metadata": {
    "collapsed": true
   },
   "outputs": [],
   "source": [
    "cicada = image_info[0]"
   ]
  },
  {
   "cell_type": "code",
   "execution_count": 24,
   "metadata": {},
   "outputs": [
    {
     "data": {
      "text/plain": [
       "bs4.element.Tag"
      ]
     },
     "execution_count": 24,
     "metadata": {},
     "output_type": "execute_result"
    }
   ],
   "source": [
    "type(cicada)"
   ]
  },
  {
   "cell_type": "markdown",
   "metadata": {},
   "source": [
    "You can make dictionary like calls for parts of the Tag, in this case, we are interested in the **src** , or \"source\" of the image, which should be its own .jpg or .png link:"
   ]
  },
  {
   "cell_type": "code",
   "execution_count": 25,
   "metadata": {},
   "outputs": [
    {
     "data": {
      "text/plain": [
       "'//upload.wikimedia.org/wikipedia/en/thumb/7/7e/Cicada_3301_logo.jpg/220px-Cicada_3301_logo.jpg'"
      ]
     },
     "execution_count": 25,
     "metadata": {},
     "output_type": "execute_result"
    }
   ],
   "source": [
    "cicada['src']"
   ]
  },
  {
   "cell_type": "markdown",
   "metadata": {},
   "source": [
    "Now that you have the actual src link, you can grab the image with requests and get along with the .content attribute. Note how we had to add http:// before the link, if you don't do this, requests will complain (but it gives you a pretty descriptive error code)."
   ]
  },
  {
   "cell_type": "code",
   "execution_count": 26,
   "metadata": {
    "collapsed": true
   },
   "outputs": [],
   "source": [
    "image_link = requests.get('http://upload.wikimedia.org/wikipedia/en/thumb/7/7e/Cicada_3301_logo.jpg/220px-Cicada_3301_logo.jpg')"
   ]
  },
  {
   "cell_type": "code",
   "execution_count": 27,
   "metadata": {},
   "outputs": [
    {
     "data": {
      "text/plain": [
       "b'\\xff\\xd8\\xff\\xe0\\x00\\x10JFIF\\x00\\x01\\x01\\x00\\x00\\x01\\x00\\x01\\x00\\x00\\xff\\xfe\\x00FFile source: https://en.wikipedia.org/wiki/File:Cicada_3301_logo.jpg\\xff\\xdb\\x00C\\x00\\x06\\x04\\x05\\x06\\x05\\x04\\x06\\x06\\x05\\x06\\x07\\x07\\x06\\x08\\n\\x10\\n\\n\\t\\t\\n\\x14\\x0e\\x0f\\x0c\\x10\\x17\\x14\\x18\\x18\\x17\\x14\\x16\\x16\\x1a\\x1d%\\x1f\\x1a\\x1b#\\x1c\\x16\\x16 , #&\\')*)\\x19\\x1f-0-(0%()(\\xff\\xc0\\x00\\x0b\\x08\\x00\\x86\\x00\\xdc\\x01\\x01\"\\x00\\xff\\xc4\\x00\\x1c\\x00\\x01\\x00\\x03\\x01\\x01\\x01\\x01\\x01\\x00\\x00\\x00\\x00\\x00\\x00\\x00\\x00\\x00\\x01\\x06\\x07\\x05\\x04\\x03\\x08\\x02\\xff\\xc4\\x007\\x10\\x00\\x01\\x03\\x04\\x01\\x03\\x02\\x04\\x05\\x03\\x04\\x01\\x05\\x00\\x00\\x00\\x01\\x02\\x03\\x04\\x00\\x05\\x06\\x11\\x12\\x07!1\\x13A\\x14\"Qa\\x08\\x152q\\x81#R\\x91$3B\\xa1\\x17\\x16C\\x82\\xc1\\xe1\\xff\\xda\\x00\\x08\\x01\\x01\\x00\\x00?\\x00\\xfdSJR\\x94\\xa5)JR\\x94\\xa7\\xbd)JR\\x94\\xa5)JR\\x94\\xa5)JR\\x94\\xa5)JR\\x94\\xa5)JR\\x94\\xa5)JR\\x94\\xa5)JR\\x94\\xa5)JR\\x94\\xa5)JR\\x944\\xa5(iJR\\x94\\xa5)\\xefJR\\x94\\xa5)J\\x0fzR\\x95\\x1b\\xd5Ss.\\xa6\\xe2\\x18z\\xcb7\\xdb\\xdcf\\xa5\\xf6\\xff\\x00J\\xd6\\xde{\\xbf\\x8f\\x91\\x1b#\\xf9\\xd5S\\x9e\\xeb=\\xc2b\\x14\\xack\\xa6\\xf9\\x85\\xc9\\x1cJ\\x90\\xeb\\xf1Lv\\x9c\\x1b\\xd0!ZV\\xc1\\xff\\x00?j\\x94\\xe7\\xddN\\x9f\\xe8~_\\xd2\\xa5\\xc7\\xe7\\xb5\\x15L\\xbb6\\x90\\x06\\xbd\\xc6\\x81\\x07\\xf7\\xa4\\x8c\\xcb\\xabq\\x8a\\x16\\xefL\\xa2<\\xdf \\x14\\x96/\\r\\x95\\x11\\xf6\\xef\\xdb\\xc7\\x9dW\\x92\\x7fV\\xb3\\xabhP\\x9b\\xd2;\\xba\\x94\\x84\\xf2Y\\x8d7\\xd6H\\xfeP\\xda\\xbb\\xf7\\x1d\\xbc\\xd7\\x9a\\x07\\xe2\\x05\\xdfEO]\\xfa{\\x95\\xc3e\\x92\\xa4\\xc9u\\xa8\\xe5\\xd4\\xb2\\xa4\\xfe\\xa0I\\t\\xf0;\\x9d\\xebUg\\xc7\\xba\\xed\\xd3\\xdb\\xdf\\x04\\xb7\\x905\\t\\xe5\\x1dzs\\xd0\\xa65\\xfb\\xa8\\x8e?\\xf7Z-\\xba\\xe3\\n\\xe7\\x1cH\\xb6\\xcc\\x8d29\\xf0\\xe4wR\\xe2O\\xf2\\t\\x15\\xeb\\xdfj\\x81SU,\\xdb\\xa8\\x98\\xb6\\x13\\xe9\\x8c\\x96\\xf0\\xc47\\x9cO40\\x02\\x9cuI\\xf1\\xb0\\x84\\x82u\\xd8\\xf7\\xf1\\xda\\xb2{\\xbf\\xe2n\\xd4\\xb9\\xa2>#\\x8d]\\xaf\\xba\\xec\\xe2\\xff\\x00\\xd9\\x03\\xd8q\\x01*\\'\\x7fp+\\xbb\\x85\\xfe\"\\xb0\\xbc\\x802\\xc5\\xcd\\xf7,S\\xd4\\x82\\\\D\\xdf\\xf6\\x92\\xa1\\xe5!\\xd1\\xdb\\xfc\\x81[\\x1cg\\xd9\\x94\\xc3o\\xc6u\\xb7\\x99u!m\\xb8\\xda\\x82\\x92\\xb4\\x91\\xb0A\\x1d\\x885\\xf5\\xa5@>\\xd5^\\xc83\\\\k\\x1c\\x07\\xf3\\xbb\\xf5\\xb6\\x12\\xb7\\xae\\x0fHHY?d\\xef\\x7f\\xf5Y\\xf5\\xcb\\xf1\\x15\\x81\\xc6\\x90\\xa8\\xf6\\xf7\\xaeWw\\xb5\\xf2\\x880\\xd4B\\xd5\\xec\\x91\\xcb\\x8fz\\xe5\\xbb\\xf8\\x8c\\x82\\xe3\\xc8f\\xdb\\x85er\\x9fQ\\x00\\xb6\\xa8\\xc1*\\x1b\\xf1\\xa0\\n\\x89\\xdf\\x7f\\xf1]v\\xfa\\x99\\x9d\\xca+\\\\\\x0e\\x92\\xdd\\x94\\xc0:I\\x95pn:\\xcfot)=\\xab\\xf8s\\xa9\\x1dC\\x8e\\x1cvWJ]f:u\\xa5\\xb9|a\\x00~\\xe4\\x8dW\\xca/V\\xf3\\x05/r\\xbaK\\x90%\\xae$\\x85\\xb0\\xff\\x00\\xab\\xbf\\xdb\\xe4\\x00\\x8f\\xe6\\xbd6\\xdf\\xc4\\x16\\x1c\\xe4\\xf1\\x06\\xfa\\xd5\\xdf\\x1d\\x99\\xbd\\x16\\xee\\xb0\\xcbz?r\\x92u\\xfc\\xea\\xb5kt\\xe8\\xb7(L\\xcc\\x81%\\x991\\x1fH[O2\\xb0\\xb4-\\'\\xdc\\x11\\xd8\\xd7\\xa7U\\x87\\xfe&\\xba\\x8bv\\xc4\\xad\\xd6\\x9b\\x1e1\\xea\\xb5y\\xbd,\\xa12[G%4\\xd8!$ \\x7fz\\x8a\\x80\\x07\\xd8o]\\xc8#\\xd6,\\x18\\xd7Im\\x11T\\x99\\xf6kK\\xaf\\x05\\xfa\\xf7{\\x83FL\\xf9N\\x9d|\\xcd\\xa7\\xc9\\'{)\\x1b\\x03~\\x0e\\xc9>L.\\xd1>\\xf9\\x9c\\xb5\\x91\\xdc\\xc6F\\xd65meo3&\\xfb1l\\xb9*V\\xc2C\\x9f\\r\\xb0\\x86\\xd9\\x08*)\\xf9\\x12I \\x9d\\xf8\\x16\\xbe\\xa0dM\\xcf\\xc1.\\x93\\xb1,\\x95\\xa2\\xe8i\\xe6#\\x1bbS)\\xd7\\xa4\\x84\\xfc\\xad\\xa3\\x8e\\xfem\\xeb`\\r\\xf7\\xde\\xc5P\\xfak\\xd3\\x8cf\\xe9\\x82F\\xbe\\xe7\\x0f\\\\\\x9d\\xba\\xfc\\xdf\\x99\\xaeu\\xe1\\xf6\\xc3\\x0e\\xa5ZP^\\x96\\x9e\\'Z\\xd8W\\x8d\\xea\\xadp\\xaf\\xf7\\\\M\\x94\\xc7\\xb6t\\xcaG\\xe4\\xcaW\\xa7\\x19\\xfb4\\xd6d\\x97\\xc0\\x1f#\\x8aO\\xca@)\\x1b\\xe4\\xa2{\\xf6>F\\xf8\\xf9\\xa6Q\\xd4\\x0b\\xf5\\x95\\xd8\\xf6,\\x06\\xf7\\x00\\x97\\x13\\xe8\\xbc\\xf4\\xb8\\xa3\\xd4W\\xb2]l\\x9d\\x84o\\xc9J\\x87\\x81\\xdf\\xda\\xb87\\xebno\\xf9\\x13W\\\\\\xa3\\n\\xc7.\\x91\\x03\\x0bL\\xd8>\\x83\\x0e\\xccd\\x824\\xe3\\x0bJJT\\xa3\\xbd\\xf0\\xd1\\xee\\x8d{\\xee\\xb2\\xd7\\x9a\\xc3X\\xc8]\\x91`\\xbd\\xdc\\xf0\\xf9\\xe4$5\\x1as\\x0f[\\xddI\\xf7\\xdb\\xcdz\\x88\\xd1\\xfb\\xa1#\\xee\\x05\\\\\\xec}D\\xea^;\\x11o\\xb9*\\xdb\\x93Y\\xdb\\x1f,\\x87\\xca\\\\\\x07\\xe8\\x94\\xc8`\\x94\\x95l\\x81\\xfdM\\x1d\\x9f\\x15\\xa3b\\x1d\\x7f\\xc7.kf.N\\xcb\\xf8\\xcc\\xf7?O\\xc5\\x9eq\\x9c\\xfb\\xa5\\xf05\\xaf=\\xd5\\xa1\\xf7\\xadz4\\x86&FjLW\\x9b~;\\xa9\\x0bm\\xd6\\x96\\x14\\x85\\xa4\\xf8 \\x8e\\xc4\\x1a\\xfcm\\x9d\\xe1\\xca\\x8d\\xf8\\x9a\\x8a\\xc6i%w\\x0b}\\xe2Y\\x9a\\xc2\\x99)Y\\x0c\\x95\\xab\\xd3m\\xd4\\xac\\x8d6\\x9e\\x1aW\\xb7\\x00H\\xfaW\\xe8\\xab-\\xc3\\x1fg\\xa8\\xaa\\xc7Z\\xf5#\\xcfE\\xb0\\xaa,6#\\x06#\\x18\\xc4\\x8eN$\\xa0\\xf1W\"\\x06\\xbf\\xb4$\\x80\\x07rhy\\xe6%\\x8e\\xe4\\x19k\\x98\\xc5\\xfa\\xf3\\x02<\\x88\\xb0\\xd7x\\x93#\\xf2\\x86\\x9aX\\x8e9\\xa0\\'\\xd7\\x07H\\x08J\\x81\\xd1\\x1f\\xf1\\n\\xef\\xb3Z\\xb7K\\xf1Fp\\x9c\"\\xdbc\\x8frz\\xe4\\xd4t\\xa9I\\x90\\xe0\\x00+\\x91\\xe4x\\x81\\xbd\\'g\\xb0\\xd9\\xf3\\xe6\\xbc\\xf9\\xd7S1<%\\xb3\\xf9\\xed\\xdd\\x84J\\x1e!\\xb2}W\\xd5\\xff\\x00\\xc0w\\x1f\\xb9\\xd0\\xaa\\x12\\xfa\\x8f\\xd4\\x0c\\xc9*k\\xa7\\x98;\\xd0b/\\xb2n\\xb7\\xe3\\xe9\\'_\\xdc\\x1b\\xf7\\xfe\\n\\xbfj\\xa8\\xe4\\x91\\xed\\xc1\\x92z\\xb7\\xd6\\'f8\\x1c\\xd1\\xb5X\\\\\\tN\\xff\\x00\\xb4\\xa1\\xb4\\x92~\\x9b)\\x1a\\xfa\\xd7\\xf5\\x86`V<\\xc1O1\\x87\\xe1\\x8cZ1r=7\\xef\\xb7\\xc6\\x0c\\x89\\x92\\x0e\\xc6\\xfe\\x19\\xb7\\x14B;\\x7f\\xee\\x10G\\x7f\\x1b\\x1a\\xad\\x08\\xde\\x93\\x8b\\xb6\\xf5\\x83\\x18\\xe9\\xe6J\\xc4h\\x87\\xd3n\\\\\\x18q\\xb8\\xac\\x8d\\x8fQ!K\\xf9\\x81\\xeey\\x107\\xb3\\xe2\\xbei\\xea\\xd5\\xd3\\xd5\\x89i\\x87\\x80\\xe5\\x93/\\xabO\\xcc\\x89\\x91\\xdb\\x82\\xda\\x80\\xecU\\xea\\x15):\\xdf\\xf1\\xf7\\xa4LN\\xef\\x98]\\xa5\\xddsX\\xb3q\\x9f\\\\\\x06\\xa23o\\xc8\\x1e\\x0f\\x02;\\x0ehA\\xf4\\xb6R<\\xa4\\xf7\\xd1\\xd8\\xdfz\\xecO\\xc4cZ\\xb0k\\xfd\\x817\\xc97\\x06&Gye7\\xd9^\\xba\\x99Il\\xeb\\x8a\\x88\\xdaR\\x08\\xe5\\xb3\\xcbZ&\\xa9\\x1f\\x87\\xb1\\n\\xcb\\xd3\\x88\\xf7v\\x1b\\xb9\\xdd_m.\\xa00\\xc4\\xe1-Q\\x92H\\xdba\\xb4\\x90\\x00*H#I:\\xde\\xfb\\x02Mq\\x9d\\x9f\\x8d\\xe7\\xf2\\x8d\\xaau\\xa2\\xd6\\xbb\\xac\\x8em\\xb7\\x12\\xee\\xc2\\xa2\\xce\\xe5\\xd8v\\x94\\x90\\xa4\\xb8\\xb04@\\nJ\\x8f\\xb8\\xab\\xef@\\xf1\\x16q\\xabS\\xee\\xda\\xaf\\xd2\\xa6[_\\xda\\x1d\\x86\\xa6\\xb82\\xd4\\x94\\x10\\x97\\n\\x01<\\x90B\\xd2\\xe0P\\xf0v5\\xe2\\xb5\\x9a\\xa9\\xe7\\xb8-\\xaf0D\\x07f\\xa5\\xd6n6\\xe7=hSXp\\xb6\\xeb\\x0b\\xd8?*\\x87\\xdc\\'\\xc8><V{r\\xb1d\\xb8\\xceW:\\xfd\\x1f\\x1dN_r\\xf4\\x99j\\x04\\xe92\\xb4\\xa8\\xed\\x8d\\xf3AA\\xdf\\x15o\\x92\\xb9\\xa0\\x10w\\xad$\\x93\\xba\\x9c\\x81c\\x9bks2\\xeb~J\\xc5\\xc08\\xb5*\\x169\\x0eQ\\xf4X\\x01|x\\xfaI!KX \\x83\\xbe\\xc3G\\x91>\\xd6\\xec\\'&\\xbf\\xc6\\\\\\x9b\\x91\\xc7lX\\x7fM\\x92\\x85\\x18\\x86zDG\\xd2x\\x8e\\x0e)\\tW\\x1d)]\\xb5\\xd8\\xe8\\xf6\\'\\xde\\xad2,\\x1c\\xeb\\xad\\xf0\\xe1ewu_\\xf1\\xd9P\\x84\\xfbJm\\xee\\x8f\\x81mI^\\x94\\x1dOq\\xb2PRvTIP\\x07[\\x00iy<\\x0e\\xa0H\\x13}\\x1c\\xa7\\x1c\\xc5\\xec\\xac\\xac\\xa9\\xa9LB.\\xbc\\x96A\\xec\\x1c.\\xa86\\x9e\\xdet?\\xc5g\\xd0_j\\xe9}M\\x8a\\xcf\\xd4\\xdc\\xd3%\\xb8-e/\\xaa\\xd2\\xd3\\x06<T\\x7f{\\xae)<8\\xf9\\xf0\\xa2O\\x80+\\xa5x\\xc6s\\x86q\\xf8\\xe8\\xc7]\\x99{z\\xdd)\\x06#7\\x98Q\\xe3\\x90\\xea]$\\xbe\\x95\\xa5iW\\x01\\xc7a*\\x04\\xab\\x90\\xf2+\\x97{\\xb0\\xe5H\\x92\\x89}C\\xea^3\\r\\x87=#2\\xda\\xf3-\\xad\\xb5\\x81\\xc7\\x92\\x02]\\xd8\\x07D\\xf7J|\\xe8\\xeb\\xde\\xaaY\"\\xba?\\x1e\\xf6\\xa9\\x98\\x9b7K\\xa5\\xcd-\\x14\\xa6\\xdf`S\\xd1\\x9aR\\xf9l8\\xa7<\\'@\\x7f\\xc3\\xb7\\xd8\\xd5f\\xfb\\x81\\xdd\\xe7E\\x9br\\x9d\\x8d\\xfeWax6\\xf3\\xf2d\\xdc\\x96\\xfb\\x96\\xe6\\xd0\\xb0T\\xf6\\xd4\\xa4\\xa5\\xc5\\xa9\\n\\xe1\\xc3\\xba\\x89\\x1d\\x80&\\xae_\\xf8\\xe7%\\xe9\\x9b\\x11o\\xbd?\\xcf\\x1aT9\\xae\\xb6![. \\xb1\\xf1e\\xc5\\x00\\x86\\xca\\x16x\\xa9D\\x1f\\xa2H\\xef\\xe2\\xb3\\xa8\\x132\\xfe\\xa2u\\xc5\\x17W\\xadr\\x1f\\xb8\\xc3\\x94\\x85\\xc9\\x8b\\x1d\\xb4\\xa91Yia%\\x00,\\x84\\xeb\\xc8\\xd2\\x8frO\\x9d\\xd6\\xf3\\x87\\xf4nE\\xb6\\xe5w\\xb9\\xb9>\\xe8\\xc4\\x89Vw\\xad\\xd1S.h\\x912\\x1aT\\x90\\x84\\x14)\\x1cP\\x02@\\xd0\\x1b:\\xd0\\xd1\\x1a\\xaf\\x14;$>\\x8bF\\xbb_\\xef\\x88\\xc8r\\x912#q\\xee\\x0e:\\xc3\\x0f\\x046F\\x80QS\\x85IN\\xfeR\\x0e\\xc1\\xf9~\\x95H\\x86\\x8e\\xa4\\xe6\\xd8\\xc5\\xb24;\\xcc<?\\x12}f=\\xaa4\\x89\\ne\\xd7\\xa3\\x83\\xb4\\x8ei\\x05K\\tG\\x14\\x8d\\x94\\x85v\\xd0;\\xddv\\xa0t\\xe6\\x7fM\\xdfi\\x9b$$\\\\\\xb2)\\xe9K\\x90\\xeeF\\x1a_\\x92\\xd2\\x93\\xb2\\xf1)q~\\x94p\\x07t\\xabk*=\\xbe\\xc3\\x9bz\\xbeb\\x13=v\\xb2\\xfc\\xc36\\x91pR>kM\\xd5\\xe51\\x188\\x01\\x1bZZJRQ\\xbdk\\x82\\xb6@5p\\xc5\\x11\\r\\x8bU\\x96\\x1fH\\x1a\\xc1\\xceA\\xc5_\\x1d.LgT\\x15\\xc7\\xdd\\x0e$\\xadC\\xbe\\xfb)G\\xb7\\x8a\\xfa\\xb9\\x99\\xf5em**\\xed\\xb6\\xb6\\xa2\\xb2\\xe3\\x8d\\xcd\\xbfA`>\\xdb$\\x1d\\xed\\xb6\\x96\\xe2I\\xe2\\x06\\x8f {\\xfd}\\xfc\\xaeLy\\x8b}\\xba^a\\xd5l\\x9a\\xc1.\\xee\\x92\\xf46eDe\\x80\\x1a\\x07@\\xac!%\\t$h\\xeb\\x90\\xd6\\xc6\\xea2L^\\xf92\\xdc\\xbc\\xb2\\xc3\\xd4hW\\xa5B`\\xb2\\xd5\\xc9\\xb8\\x87\\xe2\\x98o\\xd9\\x1c\\xe2\\x9f\\xea\\r\\xa8\\x12\\x95\\xa0\\x8f&\\xb4k\\x16\\'l\\xbd\\xff\\x00\\xe9\\xbc\\xbeM\\xf5\\xf9\\xd7\\xc6#6\\r\\xe2\\x03\\xde\\x83S\\x1b\\x1c\\x94R\\xa6\\x87\\xc9\\xc0\\xf2;\\x1a\\x07\\xe5\\x1d\\xc6\\xab0\\xeb\\x07Q^\\xcb\\xdb\\x8f\\x8a\\xe1\\xca\\xb1\\xddcMC\\xa2t\\xe0T\\xb6\\xdaH\\xd8\\x08\\'_\\xd2$\\x83\\xa5l\\xef\\xb1\\x07\\xbdS.\\xb0\\xed6E\\xd9#\\xc6\\xb4_\\xac\\xf9\\xab/0\\xcf\\xc2\\xf3\\x1f\\x19\\xe9\\xa8\\x10\\x1d\\x8c\\xea4\\x89#\\x97\\x11\\xa5{\\x05\\x03\\xf5\\x1ae\\x9b\\xa3\\xf7\\x9c\\x8b#E\\xe3\\xa8\\xa6\\xd2\\xda\\x1cm\"|kZ\\xdcI\\xba\\xad\\x1a\\xf4\\xd5!;\\x08II\\x1b\\xfe\\x9f\\x93\\xbe\\xfa\\xad\\xca\\xd7o\\x89k\\x82\\xcc;tf\\xa2\\xc4dqm\\xa6\\x92\\x12\\x94\\x8d\\xec\\xe8\\x0f\\xa9$\\xff\\x005\\xeb\\xdd+\\xf9)\\xd9\\x04\\xeb\\xb1\\xdde\\xfdK\\xc0\\x911\\xf1~\\xb1\\xdam\\xaf\\xdfXu\\x0f\\xfa\\xaeFB\\x94\\xf7\\x15r-\\xb8\\x924\\xb4\\x90\\x00\\xed\\xa5\\x8d\\x02\\t\\xf1Y\\xa5\\xe9\\xe8\\xd9~N\\xe1\\xea\\xf6[\\x1a%\\x82\\x10L\\x86l\\xb0\\xc3\\x8d2\\xef%\\x10\\x92\\xb5\\xfe\\xa2S\\xdd*\\x04%I\\xed\\xd9 \\xf7\\xea\\xe2\\x13\\xb2\\xec\\xa9\\xb5\\xb9\\xd2\\x88\\xf6\\x0cs\\x01\\x83+\\x84d\\xcf\\x88w4\\xa4\\x82\\xb75\\xc4\\x9e$\\xf7\\x04\\x10v\\x9dl\\x10uR\\xebfam\\xeaL\\xfbu\\x87\\x12\\x93y\\xc9\\x1fjx\\xf5\\xe1\\xc3eMFq\\xae]\\xcaU\\xf5\\x1a\\xd75\\x05\\'J$j\\xb5\\x89\\x18\\x96aab&9\\xd2\\xe6lX\\xf68\\x96B\\xdd\\x9f()\\xf9^\\xaa\\x89\\xe5\\xf2\\xf7\\nW\\x8e\\xe7\\x7f\\xb8\\xd6\\xab3\\x8f\\x8d\\xde\\xb2l\\x9a\\xe1o=^\\xb9\\xdc\\x8d\\xbd\\x0bM\\xdd\\xd8\\xfc\\xe2\\xc7\\x847\\xa2\\x92\\xae\\\\\\x17\\xc8\\x85\\x80\\x13\\xadq;#\\xc5z1\\xac3\\xa6m\\xc8\\\\k\\r\\x86\\xf7\\x9e\\xcd\\xf5\\x80v[\\r\\x7f\\xa5B\\xb7\\xe0\\xbc\\xb2\\x94k\\xcf\\x85+z\\xad\\xc3\\x1e\\xc6\\x91o\\x85\\x196\\xab5\\xa6\\xc0\\x14\\x85z\\xed\\xb2\\xda^u\\n\\xdf`\\x14\\x00\\x07\\xeaw\\xbe\\xff\\x00_5\\xea\\xb7\\xe1V\\xc6_\\x12nj\\x93z\\x9a\\x16\\x16$\\\\\\xdc\\xf5\\xca\\x14\\x0e\\xc1m\\x07\\xe4oG\\xc7\\x14\\x8a\\xcc\\xba\\xf1\\x8f\\xdc$5\\x1f*\\xc8rdZ\\xecv5\\xadm\\xc2\\x83\\x14\\xad\\xd5\\x95\\x8e\\x00\\x87\\x14O\\xf5\\x15\\xb0\\x9d\\xf1\\xd2\\x06\\xd5\\xf5\\xaewE:\\xaf\\x8e\\xa3\\xa7\\x97\\x19\\x0b\\xb7\\xaa\\x03\\x96f\\x8a\\x9d\\x8e\\x99\"L\\x89\\x0c\\xa4\\xf2+\\x1b\\xd2\\x8e\\xbdO*\\xed\\xb3\\xe7\\xce\\xb8\\x9d\\x1e\\xea[\\x0fe=F\\xcc\\xf2i\\xb3U\\x8f\\xa1l1\\x16c\\xed\\x12Yd\\xbc\\xe0m\\xae\\x08\\x04oK\\x04\\xebdh\\x9fs_N\\x93\\xe4s:\\x99\\xd6\\xbc\\x9b$\\x96\\x96\\x95\\x89\\xc7\\xb7\\xae\\xd6\\x94Ie!.0\\xe3\\xbbm\\xa5\\x8f\\n*<\\x94w\\xbf:\\xf7\\x15\\xa9_\\xf1k\\xbb\\r\\xfeci~\\r\\xec\\xaa(\\x89*\\xd5.\\x1ba\\x89\\xc9\\x0e\\xed\\xb2\\x08 6P\\x93\\xad\\xe9@\\x81\\xe3`W9\\xac{\\xe7\\x8fmh\\xae\\xdc\\xead\\x155n\\xb9\\xeelUh|\\xc6;\\x84\\x87\\x1a\\x1d\\x8e\\xb4@\\x1e\\xc3U\\xe8\\xcb\\xed\\x17\\xf5\\xdca\\x86\\xedrd\\xc3 6\\xfb\\x91\\xa7\\xa1\\xd4 k\\xf5z\\x0f\\xa1C\\xb0\\xdfa\\xbeUA\\xc9\\xbao\\x8d-\\xa7\\x1f\\x9d\\x0f\\x1fh\\xa5\\x85KH\\x95\\xca\\xd3\\'\\xd2H\\xda\\xdc\\x05\\x82\\xa4\\xa8\\x02{\\x9544}\\xb5\\xaa\\xaf\\xdb \\xdd\\xad\\x995\\xb3\\x1b\\xc53\\xbb\\xf5\\xb5W\\x16\\x0b\\xac\\x89\\x8bb\\xe5o1\\xd2\\x95)Ji\\xe0\\xae% \\x82\\x9f\\xd0\\x93\\xf5\\x1d\\xc5E\\xcf\\x12\\xcd\\xe3\\xaa\\xe9\\x8b\\xdb/\\xb6+\\x94\\xb9\\x8a\\r\\xc9i\\xd5.!m\\xb0>w>\\x1d\\xc1\\xe9)\\x05>V\\xd8\\xe5\\xee\\r]\\xed\\xb6\\x1c#\\xa1\\x92\\xe1\\xcdZo\\x8f]n\\x0c\\x86\\x0b\\x91\\x9au\\xf6=C\\xc4h!:N\\xd4vR\\x93\\xb3\\xa0u\\xf7\\xe0^\\xaf9\\x87S\\xa6\\xe4\\x16\\xacz\\xf5\\n\\xd1kq\\x82\\xd5\\xb2\\x0c\\xa8*`]\\x9a\\xee\\x1cu\\xa7\\x1cO$\\xac\\x11\\xad\\r\\xf1\\xde\\x8e\\xbb\\x9a\\xe5\\xe0\\x98\\xfc\\x19\\xb7\\x06-=:\\x17\\xab6Sig\\xd3\\x9bwu\\xa4\\x96;:C\\xb1f6\\x07\\x05\\xa9:\\x1cx\\xf2\\xe5\\xa0I\\xed\\xdb~\\xe9\\xc6\\x14\\x8cF\\xc3\\x1a,\\xbb\\x83\\xf7\\x89\\xed\\xec\\xfcd\\x9096\\x08\\xff\\x00m\\xa1\\xdc\\xa1\\xb1\\xdfI\\xdfm\\x9a\\xb7\\xebU&\\xa3U45\\x1a\\xedU|\\xab\\x03\\xc7\\xb2w\\x93\"\\xedma\\xc9\\xa8\\x05)\\x94\\x94\\x80\\xe0\\x04\\x01\\xdc\\xeb\\xbfa\\xae\\xfb\\xaa-\\xcb\\xa6Y\\x04\\x98F\\xc7/)\\xbcK\\xc6\\x9aB\\xc4V\\xe2J\\x11$\\x84\\x94\\x91\\xe8<\\xa0\\x92\\x1el\\xec\\r\\x9d\\x11\\xa3\\xe7um\\xc0q\\xabv\\x17\\x84*\\x0ch\\xac\\xd8\\xd0\\xc2W\\xebH\\xe6\\x95\\x15k\\x7f\\xd6Z\\xd4;\\xfd~n\\xc0}\\xab\\x1c\\x9b\\x91Y\\xf2\\x0b\\xb4\\x8bv)\\x0f;\\xea\\x02\\x80\\xf4\\x9cs\\xf3w\\xa2\\xc1J\\xfe\\xebG\\x14\\x8f>t\\x01\\x07\\xb6\\xeb\\x93\\x1b\\r\\xb0\\xf4\\xff\\x00\\x13\\xba[z\\x80\\xfd\\xbe\\xd8o\\x17\\x18\\xf3\\xa0\\xda\\xd9.\\\\d\\x045\\xc8zj\\t\\xe2\\x15\\xfa\\x94\\x01 \\xa7d\\xef}\\x80\\xdd:?\\x97X\\xb2\\xbcU\\n\\xc7\\x1d\\x92Z\\x84\\xaf\\x86u\\x99L\\x06\\\\i@v\\x05)\\xf9\\x07m\\x1f\\x97\\xb7\\xf3\\xb1W\\xbaVw\\xd7\\xe8I\\x97\\xd2\\x9b\\xfa\\xd2\\xeb\\xec\\xc9b2\\x9de\\xc6\\x06\\xdc*\\xfe\\xc1\\xae\\xe0+\\xc1\\xd7\\xb6\\xf7\\xb1\\xda\\xb1O\\xc3\\r\\xbe\\xcd\\x0f\\x02\\xcan\\x17\\xa6\\xb9\\xc2\\\\\\xa6\\xa1\\xcay\\r\\xfa\\xc1\\xf6\\\\m \\xb2\\xa4\\xa4\\x12\\x12\\x14\\xe8$\\x8f\\xfe\\x8dk\\x0ce\\xf6\\x86\\xecW?\\xcam\\x12\\xad\\xf8\\x9cFR\\xc3R\\xd5fQ\\x8c\\x17\\xa5\\x9fT5\\xd9ki!(\\xd9\\xd0\\x1b#\\xbf\\xb8\\xf5a\\xafXrX`@\\x87\\x19r\\xa2\\xa9\\xa9\\xf2\\x15kiH\\x84\\xec\\xa5\\x04\\xf0q+Z@R\\xd2\\x94\\xa1\\\\N\\xf8\\xecodU\\xb7\\x14\\xb6\\xd9!2\\xe2\\xb1\\xc5\\xa0CO\\xfaOE\\x87\\x8a\\x99iM-|\\x92\\x94\\xefIW%+\\x97\\xb9>|W^L(\\xd2\\x94\\x85\\xc8a\\xa7\\x16\\xde\\xf8)I\\x05I\\xfa\\xe8\\xf9\\x15\\xf4\\x8c\\xca\\x18e-\\xb7\\xcb\\x8a|rQQ\\xff\\x00\\'\\xbdU:\\xab\\x8dB\\xc9\\xf0\\xc9\\xf1f\\xbd\\x12\"\\xdaO\\xac\\xcc\\xd9H\\nLe\\xa4\\x82\\x14vGn\\xda#z \\xf7\\x04v\\xaf\\xca_\\x87<57\\xec\\xb2fE\\x151\\xa6\\xc6\\xb4\\xfa\\x856\\xf7\\xdc,)\\xf5\\xad\\x04$\\x82\\x13\\xc0#d\\x82=\\x86\\xbb\\x1d\\xd5\\xc0d\\xcf\\xe3\\x8f\\xc8\\x83\\x91\\xc7\\xce\\xb1\\x99(k\\x93A\\xab\\xda\\xaeM!\\x00\\xefe\\xa5\\x82B44T\\x02\\x87\\x9f\\xda\\xb4\\xecB\\xdb\\x92\\xe4\\xf66.\\xb0\\xba\\x92\\xd4\\xa6d6y\\x88\\xf0\\xd9y,\\xbcS\\xa3\\xa7\\x11\\xe9\\xec\\xa4k\\\\\\xd2t@5\\xf6o\\xa1X\\xeb\\xb2[v\\xf3x\\xcaoM\\xa1\\xd1 3q\\xba\\xadh.\\x81\\xafS\\xe5\\t<\\xb5\\xef\\xba\\xd4`\\xc2\\x8d\\x022#\\xc3a\\xb6\\x18G\\xe9m\\xb4\\xe8\\x0f\\xff\\x00~\\xf5\\xe8\\xa5)JS\\xbd)_\\x9b\\xbf\\x19w[\\xabV|j\\xcb\\r\\xdf\\x86\\xb6\\xdc\\xdfpJp\\xb9\\xc5\\x0bR\\n8%g\\xd9#\\x91W\\xf1\\xbfj\\xf6\\xcd\\xc9\\xed8\\x8c\\xf88\\xf6+.\\xf1\\x91\\\\\\xa3DLF\\xec\\x16\\x00\\x19\\x8c\\xcax\\xa4\\xa9\\xd7\\x1c\\t$\\xac\\x91\\xbe\\\\\\x89\\x1c\\x8f\\x8d\\xd7\\x12\\x1e%r\\xca\\xfa\\x84\\xd4{\\xcc\\xe8X\\x95\\xd9\\x98\\xaa\\x93\\x1e\\xd9i\\x94\\xb7\\xae)B\\x9cIZ\\xa4I\\xfb\\x82t\\n\\xbd\\xc6\\x80\\xf2wk%\\x9a%\\x8b\"\\\\k]\\xa2\\x14\\x18\\n\\x80\\xda[y\\x8eAn\\x14,\\xed+\\x1a\\xe3\\xd8)$(\\x92\\xa5m_J\\xb4\\x8f\\x14\\xaa\\xdfQl\\x8c\\xe4XM\\xe6\\xd7)\\xe5\\xc7jDe\\x82\\xea?R47\\xb1\\xfe+\\t\\xfc3J\\x8a\\xae\\x85_\\x92\\xbb\\xc2\\xecB,\\xf7\\x15&{A!M\\xa4\\xa1\\xb2\\x15\\xb2\\x0f\\xdc\\x7f\\x9dV\\xa3\\x88g\\xd6\\xb9M\\xcbf\\x07\\xe7\\xf7+M\\xbe\\'\\xc4=~\\x91\\x15\\xc2\\x87\\xd7\\xc8\\x0e\\x08\\x1c\\x01Q\\xd7\\xcd\\xf2\\'\\x88\\x15\\xe8\\xc5\\xb2[5\\xfb5\\x97\\xf9~`\\x9b\\x92\\x8ct\\xbb\\x1a\\xd3\\x1c%\\x08\\x8c\\x80\\x00R\\x96\\x07\\xcc\\xa5l\\x83\\xf3k[\\x00\\n\\xb8Z\\xed\\xf0mn\\xc9j\\x12\\x10\\xd2\\xe5<\\xe4\\xc7\\x104\\n\\x96\\xa29\\xab_s\\xad\\xfd\\xcdtiY\\x1f\\xe2\\x9a\\xe2\\xab\\x7fE\\xef)KKs\\xe2\\xdcf1RT\\x07\\x00V\\x15\\xc8\\xef\\xc8\\xf9u\\xa1\\xf5\\xaf\\xa7M\\xf0\\xf9X\\xbfE\\xec\\xf1-\\xb1\\xd9\\x93|m\\x8f\\x8fB\\x1fZ\\xd9B\\x9fp\\xf3)_\\x1e\\xfd\\x81\\t\\xf1\\xff\\x00\\x11\\xd8V\\x1b\\xd6<\\xf6\\xe1\\x95%\\x887\\x0bR\\xad\\x17\\xa6\\x1fK.z\\x8d4C\\x1a\\xf9\\x94Y\\x97\\xb0\\xa4(\\xeb\\xba\\x15\\xad\\x85V\\xab\\xd0L~\\xd0\\xf4\\x87\\xb2\\xccB\\xee\\xfa\\xe3\\xc8yp\\xae1\\nBYt\\xa1 \\xa5`k\\xfd\\xc0J\\x0f.\\xdb\\nWa\\xba\\xdd\\x06\\xfd\\xeai\\xfbST\\xa7zT\\x0f5&\\x94\\xaa\\xcfP\\xf0\\xcbVw\\x8c\\xc8\\xb2^\\x9b%\\x97>v\\xdeG\\xeba\\xc1\\xfaV\\x93\\xf5\\x1b?\\xb8${\\xd7\\xe7\\xb7-Y_I1\\x8b\\x85\\x9aE\\xd3\\xe0\\xad\\xf3\\xa7\\xb7\\xc6\\xfb\\x12\\'\\xaa\\xf1h\\x94\\xa3\\x82Or\\x95\\x84\\xf8B\\xf5\\xae\\'\\x82\\xcfa]kL\\x98X\\xf3\\xd3\\xa4Y[\\x97\\x03\\x12\\xb6\\xbc\\x86gMJC\\xd7l\\x92b\\xc8\\xe0\\xcaO\\xebH$\\x83\\xaf\\x94\\xfc\\xdd\\xb4\\t)\\xbbd\\x19\\xdc\\x84^q\\xe8\\x17\\x1b\\xcc\\x1cqP\\xdb\\x17\\\\\\x85\\t!\\xe0\\xc3|\\x90\\x96\\xa2)z\\xd2T\\xb2\\xe0\\xdf\\x83\\xa4\\x92;\\x11\\xbb\\xa5\\x8b\\xa8x}\\xf5,\\xfeU\\x92\\xdad-\\xe2Cm|RR\\xea\\x88>=5\\x10\\xaf\\xfa\\xabH\\xef^\\x1b\\xfc5\\xdc,\\x97\\x08M\\xa9H\\\\\\x98\\xce\\xb2\\x14\\x93\\xa2\\x92\\xa4\\x91\\xb0~\\xbd\\xeb\\x05\\xfc\\x18\\xcb.\\xe0w\\xcb[\\xf1[A\\x89q%J\\xf9v\\xbeh\\x03J\\x1ev\\n<\\x9e\\xc7`\\x0f\\x06\\xb5\\x8b\\'\\xac\\xae\\xa6d\\xff\\x00\\xeb%\\xb8\\xc2bC\\xff\\x00N\\xb9)[m(\\xfa\\x9d\\xd0\\xd8\\x1bF\\xc0\\xd9\\xd9<\\xbf\\xc6\\xa3\\x0c\\xb5Gn\\xf1z\\xbc\\xb2\\xb7R\\xa9\\x8aCB*\\xc3e1\\xf8\\xef~\\x99H\\xe4\\x12\\xbe\\xca)Q\\xf26<\\xd72e\\xe9\\xf97azf;\\xb1\\x93e\\xbb\\xb9f\\x98\\x92\\xb0R\\xecgC\\x7f\\xd5\\xfe\\x14\\xa6\\x95\\xf6\\x01b\\xb4D\\xef]\\xfc\\xd7\\xf0\\xfb\\xcd\\xb0\\xd9[\\xcbJ\\x10;rR\\x80\\x1f\\xe4\\xd7\\xe5\\xff\\x00\\xc4^P\\xd6q\\x97[z{h\\xbf\\xdab\\xdb\\x92\\x93.t\\xc7\\x97\\xfd4<\\x84\\xadA\\x05\\xc1\\xb1\\xd9#z\\x1e\\xe4\\x02{U\\xa1\\xee\\xb2\\xc4WK\\x04\\x9b\"\\x8bw8\\xf1\\x10\\xdb\\x8d\\xad`)\\xa5#\\x8a\\x1d)Y\\xd8*F\\xd2tB\\xbfRI\\x05$\\x91J\\xe9\\xff\\x00J\\xb2>\\xa0\\xdc\\xcd\\xf3/\\x12m6\\xa7\\x1e\\xe4\\xebR\\x1bRd\\xdc\\x1b\\xdf\"\\x827\\xb4\\xb6F\\xb5\\xcc\\xa8\\xa4\\xfe\\x8d\\rk\\xf5\\x05\\x82\\xcbn\\xc7\\xedL[l\\xb0\\x98\\x83\\x01\\x91\\xa6\\xd9e<R7\\xdc\\x9f\\xb9>\\xe4\\xf75\\xd1\\xa5)JR\\x94\\xa5)_\\x19qX\\x97\\x1d\\xc8\\xf2\\x99i\\xf8\\xee$\\xa5\\xc6\\x9dHRV\\x0f\\xb1\\x07\\xb1\\x15FOL,\\xf1.\\x8f\\xcc\\xb4\\xa9\\xc8)\\x92\\xe2V\\xfbI\\xd9#\\x89\\xd8\\xf4\\x9c\\x048\\xd7\\xb7`\\xae#\\xc0MY\\xce3dS\\xd3^]\\x9e\\xdc\\xb7g\\x14\\x19K\\\\d)R\\n?Ap\\x91\\xf3\\x11\\xecO\\x8a\\xf1H\\xc3\\xac\\xcc\\xba\\xf4\\xebE\\x9e\\xcb\\x0e\\xf0\\xae*L\\xc3omJ\\nN\\xbb\\x9dh\\x9e\\xc3]\\x8dY\\x05\\x0f\\x8a\\xfc\\xcf\\x87D\\xff\\x00\\xc7\\x9f\\x8a\\x9b\\xcd\\xb2D\\xd3\\x1a\\xd9\\x91\\xb2\\xb91PQ\\xf2<\\xb7\\x17\\xcd(\\xfa$\\xa5A\\xd4\\x83\\xf6\\xd7\\xfc\\xaa\\xe3c\\xb9\\xe0\\xd6{\\xf6e\\x1d\\x0eKg\\xe2\\x9ff\\xd6\\xf9o\\xe2\\x9eu\\xc5\\xb6\\x95\\'E`\\x15%[YH<\\xbd\\x86\\xb5\\xda\\xb6(\\xa8Kq\\xdbKh-\\xa0\\x01\\xa4\\x91\\xdc}\\xab\\x9b\\x0b\\x1e\\x81\\x0e\\xd32\\xda\\x96\\xd4\\xe49\\x8e\\xc8u\\xf48w\\xea\\x17\\x96\\xa5,\\x12=\\xb6\\xb2\\x07\\xd0j\\xbe0c\\xdc\\xed\\r\\xb5\\x11\\x80\\x89\\xf0\\x19h6\\xda\\xdex\\xa6@\\x00v\\n$\\x10\\xbfo\\x9b`\\xfdw\\xe6\\xb9\\xb9\\xee\\x01g\\xce\\x04CyC\\x8e*(W\\xa4\\x85,\\xa9\\xad\\xa8h\\x957\\xbd\\x13\\xf4P\\xd2\\x87\\xb1\\x15\\xe4\\xb2t\\xd3\\x1b\\xb6\\xa1\\xd4\\xb5b\\xb3GyL.0\\x91\\x0e\\'\\xa6\\xbfMCJ\\x1f7.\\xe4\\x12\\t\\xd9\\xed\\xda\\xbb\\x18\\xfe\\x15\\x8d\\xe3\\xed\\xb0\\x8b5\\x8e\\xdf\\x10\\xb2\\x08C\\x8d\\xb0\\x9ec~O-l\\x93\\xf5\\xab\\x16\\xaa}\\xa9\\xe2\\xa3\\xde\\xa7\\xcd\\x00\\xa5)O\\x14\\xa5)\\xaaST\\xa1\\xa8\\xa9\\xac\\x17\\xf1u\\x8e?7\\x08\\x81\\x91\\xdb\\xb9\\xa2\\xe1a\\x94\\x97}F\\x87\\xce\\x96\\x96@*\\x04w\\x1cT\\x10~\\xdd\\xcdj}6\\xc9\\x86c\\x84Z/\\xe9l4f\\xb3\\xcdm\\x83\\xb0\\x85\\x83\\xc5i\\x07\\xdc\\x05$\\xf9\\xab>\\xa8\\x07zPx\\xa5*\\rH\\xa5(h\\x06\\x85)JSt\\xa5)JR\\x94\\xaf\\x9b\\xec\\xb6\\xfb+i\\xe4!\\xc6\\x96\\x92\\x85\\xa1`\\x14\\xa9\\'\\xc8 \\xf9\\x06\\xb0\\xce\\x8f\\xe3\\x19\\x07O\\xba\\xa7\\x92\\xd8\\x85\\xb6h\\xc2\\xee\\x1c\\xe5[\\x9fJ\\xbdFYP#@\\x9f\\xf8\\x12\\x92S\\xdfD\\xf0\\x1e|\\xd6\\xee\\r)OzR\\x94\\xa5EO\\xefJR\\xa2\\xa6\\x94\\xa0\\xf1JR\\x86\\xa2\\xa6\\xa3_z\\x93Q\\xfbT\\xfbT\\n\\x9aT\\x1a\\x93JR\\x94\\xa5)JR\\x94\\xa5*\\x05MF\\xaahj\\r\\x05\\x0f\\x9a\\x91JTk\\xbdM)Jn\\x9b\\xa5\\r5CC\\xe2\\x94\\xdd\\x05A\\xa9\\xa1\\xa5)QS\\xaaT\\x1f5\"\\x86\\xa3\\xde\\xa6\\x82\\x9b\\xa5\\rE\\x05M*7_\\xff\\xd9'"
      ]
     },
     "execution_count": 27,
     "metadata": {},
     "output_type": "execute_result"
    }
   ],
   "source": [
    "# The raw content (its a binary file, meaning we will need to use binary read/write methods for saving it)\n",
    "image_link.content"
   ]
  },
  {
   "cell_type": "markdown",
   "metadata": {},
   "source": [
    "**Let's write this to a file:=, not the 'wb' call to denote a binary writing of the file.**"
   ]
  },
  {
   "cell_type": "code",
   "execution_count": 28,
   "metadata": {
    "collapsed": true
   },
   "outputs": [],
   "source": [
    "f = open('my_new_file_name.jpg','wb')"
   ]
  },
  {
   "cell_type": "code",
   "execution_count": 29,
   "metadata": {},
   "outputs": [
    {
     "data": {
      "text/plain": [
       "5892"
      ]
     },
     "execution_count": 29,
     "metadata": {},
     "output_type": "execute_result"
    }
   ],
   "source": [
    "f.write(image_link.content)"
   ]
  },
  {
   "cell_type": "code",
   "execution_count": 30,
   "metadata": {
    "collapsed": true
   },
   "outputs": [],
   "source": [
    "f.close()"
   ]
  },
  {
   "cell_type": "markdown",
   "metadata": {},
   "source": [
    "Now we can display this file right here in the notebook as markdown using:\n",
    "\n",
    "    <img src=\"'my_new_file_name.jpg'>\n",
    "    \n",
    "Just write the above line in a new markdown cell and it will display the image we just downloaded!"
   ]
  },
  {
   "cell_type": "markdown",
   "metadata": {},
   "source": [
    "<img src='my_new_file_name.jpg'>"
   ]
  },
  {
   "cell_type": "markdown",
   "metadata": {},
   "source": [
    "### Example Project - Working with Multiple Pages and Items\n",
    "\n",
    "Let's show a more realistic example of scraping a full site. The website: http://books.toscrape.com/index.html is specifically designed for people to scrape it. Let's try to get the title of every book that has a 2 star rating and at the end just have a Python list with all their titles.\n",
    "\n",
    "We will do the following:\n",
    "\n",
    "1. Figure out the URL structure to go through every page\n",
    "2. Scrap every page in the catalogue\n",
    "3. Figure out what tag/class represents the Star rating\n",
    "4. Filter by that star rating using an if statement\n",
    "5. Store the results to a list"
   ]
  },
  {
   "cell_type": "markdown",
   "metadata": {
    "collapsed": true
   },
   "source": [
    "We can see that the URL structure is the following:\n",
    "\n",
    "    http://books.toscrape.com/catalogue/page-1.html"
   ]
  },
  {
   "cell_type": "code",
   "execution_count": 31,
   "metadata": {
    "collapsed": true
   },
   "outputs": [],
   "source": [
    "base_url = 'http://books.toscrape.com/catalogue/page-{}.html'"
   ]
  },
  {
   "cell_type": "markdown",
   "metadata": {},
   "source": [
    "We can then fill in the page number with .format()"
   ]
  },
  {
   "cell_type": "code",
   "execution_count": 113,
   "metadata": {
    "collapsed": true
   },
   "outputs": [],
   "source": [
    "res = requests.get(base_url.format('1'))"
   ]
  },
  {
   "cell_type": "markdown",
   "metadata": {},
   "source": [
    "Now let's grab the products (books) from the get request result:"
   ]
  },
  {
   "cell_type": "code",
   "execution_count": 116,
   "metadata": {
    "collapsed": true
   },
   "outputs": [],
   "source": [
    "soup = bs4.BeautifulSoup(res.text,\"lxml\")"
   ]
  },
  {
   "cell_type": "code",
   "execution_count": 117,
   "metadata": {},
   "outputs": [
    {
     "data": {
      "text/plain": [
       "[<article class=\"product_pod\">\n",
       " <div class=\"image_container\">\n",
       " <a href=\"a-light-in-the-attic_1000/index.html\"><img alt=\"A Light in the Attic\" class=\"thumbnail\" src=\"../media/cache/2c/da/2cdad67c44b002e7ead0cc35693c0e8b.jpg\"/></a>\n",
       " </div>\n",
       " <p class=\"star-rating Three\">\n",
       " <i class=\"icon-star\"></i>\n",
       " <i class=\"icon-star\"></i>\n",
       " <i class=\"icon-star\"></i>\n",
       " <i class=\"icon-star\"></i>\n",
       " <i class=\"icon-star\"></i>\n",
       " </p>\n",
       " <h3><a href=\"a-light-in-the-attic_1000/index.html\" title=\"A Light in the Attic\">A Light in the ...</a></h3>\n",
       " <div class=\"product_price\">\n",
       " <p class=\"price_color\">Â£51.77</p>\n",
       " <p class=\"instock availability\">\n",
       " <i class=\"icon-ok\"></i>\n",
       "     \n",
       "         In stock\n",
       "     \n",
       " </p>\n",
       " <form>\n",
       " <button class=\"btn btn-primary btn-block\" data-loading-text=\"Adding...\" type=\"submit\">Add to basket</button>\n",
       " </form>\n",
       " </div>\n",
       " </article>, <article class=\"product_pod\">\n",
       " <div class=\"image_container\">\n",
       " <a href=\"tipping-the-velvet_999/index.html\"><img alt=\"Tipping the Velvet\" class=\"thumbnail\" src=\"../media/cache/26/0c/260c6ae16bce31c8f8c95daddd9f4a1c.jpg\"/></a>\n",
       " </div>\n",
       " <p class=\"star-rating One\">\n",
       " <i class=\"icon-star\"></i>\n",
       " <i class=\"icon-star\"></i>\n",
       " <i class=\"icon-star\"></i>\n",
       " <i class=\"icon-star\"></i>\n",
       " <i class=\"icon-star\"></i>\n",
       " </p>\n",
       " <h3><a href=\"tipping-the-velvet_999/index.html\" title=\"Tipping the Velvet\">Tipping the Velvet</a></h3>\n",
       " <div class=\"product_price\">\n",
       " <p class=\"price_color\">Â£53.74</p>\n",
       " <p class=\"instock availability\">\n",
       " <i class=\"icon-ok\"></i>\n",
       "     \n",
       "         In stock\n",
       "     \n",
       " </p>\n",
       " <form>\n",
       " <button class=\"btn btn-primary btn-block\" data-loading-text=\"Adding...\" type=\"submit\">Add to basket</button>\n",
       " </form>\n",
       " </div>\n",
       " </article>, <article class=\"product_pod\">\n",
       " <div class=\"image_container\">\n",
       " <a href=\"soumission_998/index.html\"><img alt=\"Soumission\" class=\"thumbnail\" src=\"../media/cache/3e/ef/3eef99c9d9adef34639f510662022830.jpg\"/></a>\n",
       " </div>\n",
       " <p class=\"star-rating One\">\n",
       " <i class=\"icon-star\"></i>\n",
       " <i class=\"icon-star\"></i>\n",
       " <i class=\"icon-star\"></i>\n",
       " <i class=\"icon-star\"></i>\n",
       " <i class=\"icon-star\"></i>\n",
       " </p>\n",
       " <h3><a href=\"soumission_998/index.html\" title=\"Soumission\">Soumission</a></h3>\n",
       " <div class=\"product_price\">\n",
       " <p class=\"price_color\">Â£50.10</p>\n",
       " <p class=\"instock availability\">\n",
       " <i class=\"icon-ok\"></i>\n",
       "     \n",
       "         In stock\n",
       "     \n",
       " </p>\n",
       " <form>\n",
       " <button class=\"btn btn-primary btn-block\" data-loading-text=\"Adding...\" type=\"submit\">Add to basket</button>\n",
       " </form>\n",
       " </div>\n",
       " </article>, <article class=\"product_pod\">\n",
       " <div class=\"image_container\">\n",
       " <a href=\"sharp-objects_997/index.html\"><img alt=\"Sharp Objects\" class=\"thumbnail\" src=\"../media/cache/32/51/3251cf3a3412f53f339e42cac2134093.jpg\"/></a>\n",
       " </div>\n",
       " <p class=\"star-rating Four\">\n",
       " <i class=\"icon-star\"></i>\n",
       " <i class=\"icon-star\"></i>\n",
       " <i class=\"icon-star\"></i>\n",
       " <i class=\"icon-star\"></i>\n",
       " <i class=\"icon-star\"></i>\n",
       " </p>\n",
       " <h3><a href=\"sharp-objects_997/index.html\" title=\"Sharp Objects\">Sharp Objects</a></h3>\n",
       " <div class=\"product_price\">\n",
       " <p class=\"price_color\">Â£47.82</p>\n",
       " <p class=\"instock availability\">\n",
       " <i class=\"icon-ok\"></i>\n",
       "     \n",
       "         In stock\n",
       "     \n",
       " </p>\n",
       " <form>\n",
       " <button class=\"btn btn-primary btn-block\" data-loading-text=\"Adding...\" type=\"submit\">Add to basket</button>\n",
       " </form>\n",
       " </div>\n",
       " </article>, <article class=\"product_pod\">\n",
       " <div class=\"image_container\">\n",
       " <a href=\"sapiens-a-brief-history-of-humankind_996/index.html\"><img alt=\"Sapiens: A Brief History of Humankind\" class=\"thumbnail\" src=\"../media/cache/be/a5/bea5697f2534a2f86a3ef27b5a8c12a6.jpg\"/></a>\n",
       " </div>\n",
       " <p class=\"star-rating Five\">\n",
       " <i class=\"icon-star\"></i>\n",
       " <i class=\"icon-star\"></i>\n",
       " <i class=\"icon-star\"></i>\n",
       " <i class=\"icon-star\"></i>\n",
       " <i class=\"icon-star\"></i>\n",
       " </p>\n",
       " <h3><a href=\"sapiens-a-brief-history-of-humankind_996/index.html\" title=\"Sapiens: A Brief History of Humankind\">Sapiens: A Brief History ...</a></h3>\n",
       " <div class=\"product_price\">\n",
       " <p class=\"price_color\">Â£54.23</p>\n",
       " <p class=\"instock availability\">\n",
       " <i class=\"icon-ok\"></i>\n",
       "     \n",
       "         In stock\n",
       "     \n",
       " </p>\n",
       " <form>\n",
       " <button class=\"btn btn-primary btn-block\" data-loading-text=\"Adding...\" type=\"submit\">Add to basket</button>\n",
       " </form>\n",
       " </div>\n",
       " </article>, <article class=\"product_pod\">\n",
       " <div class=\"image_container\">\n",
       " <a href=\"the-requiem-red_995/index.html\"><img alt=\"The Requiem Red\" class=\"thumbnail\" src=\"../media/cache/68/33/68339b4c9bc034267e1da611ab3b34f8.jpg\"/></a>\n",
       " </div>\n",
       " <p class=\"star-rating One\">\n",
       " <i class=\"icon-star\"></i>\n",
       " <i class=\"icon-star\"></i>\n",
       " <i class=\"icon-star\"></i>\n",
       " <i class=\"icon-star\"></i>\n",
       " <i class=\"icon-star\"></i>\n",
       " </p>\n",
       " <h3><a href=\"the-requiem-red_995/index.html\" title=\"The Requiem Red\">The Requiem Red</a></h3>\n",
       " <div class=\"product_price\">\n",
       " <p class=\"price_color\">Â£22.65</p>\n",
       " <p class=\"instock availability\">\n",
       " <i class=\"icon-ok\"></i>\n",
       "     \n",
       "         In stock\n",
       "     \n",
       " </p>\n",
       " <form>\n",
       " <button class=\"btn btn-primary btn-block\" data-loading-text=\"Adding...\" type=\"submit\">Add to basket</button>\n",
       " </form>\n",
       " </div>\n",
       " </article>, <article class=\"product_pod\">\n",
       " <div class=\"image_container\">\n",
       " <a href=\"the-dirty-little-secrets-of-getting-your-dream-job_994/index.html\"><img alt=\"The Dirty Little Secrets of Getting Your Dream Job\" class=\"thumbnail\" src=\"../media/cache/92/27/92274a95b7c251fea59a2b8a78275ab4.jpg\"/></a>\n",
       " </div>\n",
       " <p class=\"star-rating Four\">\n",
       " <i class=\"icon-star\"></i>\n",
       " <i class=\"icon-star\"></i>\n",
       " <i class=\"icon-star\"></i>\n",
       " <i class=\"icon-star\"></i>\n",
       " <i class=\"icon-star\"></i>\n",
       " </p>\n",
       " <h3><a href=\"the-dirty-little-secrets-of-getting-your-dream-job_994/index.html\" title=\"The Dirty Little Secrets of Getting Your Dream Job\">The Dirty Little Secrets ...</a></h3>\n",
       " <div class=\"product_price\">\n",
       " <p class=\"price_color\">Â£33.34</p>\n",
       " <p class=\"instock availability\">\n",
       " <i class=\"icon-ok\"></i>\n",
       "     \n",
       "         In stock\n",
       "     \n",
       " </p>\n",
       " <form>\n",
       " <button class=\"btn btn-primary btn-block\" data-loading-text=\"Adding...\" type=\"submit\">Add to basket</button>\n",
       " </form>\n",
       " </div>\n",
       " </article>, <article class=\"product_pod\">\n",
       " <div class=\"image_container\">\n",
       " <a href=\"the-coming-woman-a-novel-based-on-the-life-of-the-infamous-feminist-victoria-woodhull_993/index.html\"><img alt=\"The Coming Woman: A Novel Based on the Life of the Infamous Feminist, Victoria Woodhull\" class=\"thumbnail\" src=\"../media/cache/3d/54/3d54940e57e662c4dd1f3ff00c78cc64.jpg\"/></a>\n",
       " </div>\n",
       " <p class=\"star-rating Three\">\n",
       " <i class=\"icon-star\"></i>\n",
       " <i class=\"icon-star\"></i>\n",
       " <i class=\"icon-star\"></i>\n",
       " <i class=\"icon-star\"></i>\n",
       " <i class=\"icon-star\"></i>\n",
       " </p>\n",
       " <h3><a href=\"the-coming-woman-a-novel-based-on-the-life-of-the-infamous-feminist-victoria-woodhull_993/index.html\" title=\"The Coming Woman: A Novel Based on the Life of the Infamous Feminist, Victoria Woodhull\">The Coming Woman: A ...</a></h3>\n",
       " <div class=\"product_price\">\n",
       " <p class=\"price_color\">Â£17.93</p>\n",
       " <p class=\"instock availability\">\n",
       " <i class=\"icon-ok\"></i>\n",
       "     \n",
       "         In stock\n",
       "     \n",
       " </p>\n",
       " <form>\n",
       " <button class=\"btn btn-primary btn-block\" data-loading-text=\"Adding...\" type=\"submit\">Add to basket</button>\n",
       " </form>\n",
       " </div>\n",
       " </article>, <article class=\"product_pod\">\n",
       " <div class=\"image_container\">\n",
       " <a href=\"the-boys-in-the-boat-nine-americans-and-their-epic-quest-for-gold-at-the-1936-berlin-olympics_992/index.html\"><img alt=\"The Boys in the Boat: Nine Americans and Their Epic Quest for Gold at the 1936 Berlin Olympics\" class=\"thumbnail\" src=\"../media/cache/66/88/66883b91f6804b2323c8369331cb7dd1.jpg\"/></a>\n",
       " </div>\n",
       " <p class=\"star-rating Four\">\n",
       " <i class=\"icon-star\"></i>\n",
       " <i class=\"icon-star\"></i>\n",
       " <i class=\"icon-star\"></i>\n",
       " <i class=\"icon-star\"></i>\n",
       " <i class=\"icon-star\"></i>\n",
       " </p>\n",
       " <h3><a href=\"the-boys-in-the-boat-nine-americans-and-their-epic-quest-for-gold-at-the-1936-berlin-olympics_992/index.html\" title=\"The Boys in the Boat: Nine Americans and Their Epic Quest for Gold at the 1936 Berlin Olympics\">The Boys in the ...</a></h3>\n",
       " <div class=\"product_price\">\n",
       " <p class=\"price_color\">Â£22.60</p>\n",
       " <p class=\"instock availability\">\n",
       " <i class=\"icon-ok\"></i>\n",
       "     \n",
       "         In stock\n",
       "     \n",
       " </p>\n",
       " <form>\n",
       " <button class=\"btn btn-primary btn-block\" data-loading-text=\"Adding...\" type=\"submit\">Add to basket</button>\n",
       " </form>\n",
       " </div>\n",
       " </article>, <article class=\"product_pod\">\n",
       " <div class=\"image_container\">\n",
       " <a href=\"the-black-maria_991/index.html\"><img alt=\"The Black Maria\" class=\"thumbnail\" src=\"../media/cache/58/46/5846057e28022268153beff6d352b06c.jpg\"/></a>\n",
       " </div>\n",
       " <p class=\"star-rating One\">\n",
       " <i class=\"icon-star\"></i>\n",
       " <i class=\"icon-star\"></i>\n",
       " <i class=\"icon-star\"></i>\n",
       " <i class=\"icon-star\"></i>\n",
       " <i class=\"icon-star\"></i>\n",
       " </p>\n",
       " <h3><a href=\"the-black-maria_991/index.html\" title=\"The Black Maria\">The Black Maria</a></h3>\n",
       " <div class=\"product_price\">\n",
       " <p class=\"price_color\">Â£52.15</p>\n",
       " <p class=\"instock availability\">\n",
       " <i class=\"icon-ok\"></i>\n",
       "     \n",
       "         In stock\n",
       "     \n",
       " </p>\n",
       " <form>\n",
       " <button class=\"btn btn-primary btn-block\" data-loading-text=\"Adding...\" type=\"submit\">Add to basket</button>\n",
       " </form>\n",
       " </div>\n",
       " </article>, <article class=\"product_pod\">\n",
       " <div class=\"image_container\">\n",
       " <a href=\"starving-hearts-triangular-trade-trilogy-1_990/index.html\"><img alt=\"Starving Hearts (Triangular Trade Trilogy, #1)\" class=\"thumbnail\" src=\"../media/cache/be/f4/bef44da28c98f905a3ebec0b87be8530.jpg\"/></a>\n",
       " </div>\n",
       " <p class=\"star-rating Two\">\n",
       " <i class=\"icon-star\"></i>\n",
       " <i class=\"icon-star\"></i>\n",
       " <i class=\"icon-star\"></i>\n",
       " <i class=\"icon-star\"></i>\n",
       " <i class=\"icon-star\"></i>\n",
       " </p>\n",
       " <h3><a href=\"starving-hearts-triangular-trade-trilogy-1_990/index.html\" title=\"Starving Hearts (Triangular Trade Trilogy, #1)\">Starving Hearts (Triangular Trade ...</a></h3>\n",
       " <div class=\"product_price\">\n",
       " <p class=\"price_color\">Â£13.99</p>\n",
       " <p class=\"instock availability\">\n",
       " <i class=\"icon-ok\"></i>\n",
       "     \n",
       "         In stock\n",
       "     \n",
       " </p>\n",
       " <form>\n",
       " <button class=\"btn btn-primary btn-block\" data-loading-text=\"Adding...\" type=\"submit\">Add to basket</button>\n",
       " </form>\n",
       " </div>\n",
       " </article>, <article class=\"product_pod\">\n",
       " <div class=\"image_container\">\n",
       " <a href=\"shakespeares-sonnets_989/index.html\"><img alt=\"Shakespeare's Sonnets\" class=\"thumbnail\" src=\"../media/cache/10/48/1048f63d3b5061cd2f424d20b3f9b666.jpg\"/></a>\n",
       " </div>\n",
       " <p class=\"star-rating Four\">\n",
       " <i class=\"icon-star\"></i>\n",
       " <i class=\"icon-star\"></i>\n",
       " <i class=\"icon-star\"></i>\n",
       " <i class=\"icon-star\"></i>\n",
       " <i class=\"icon-star\"></i>\n",
       " </p>\n",
       " <h3><a href=\"shakespeares-sonnets_989/index.html\" title=\"Shakespeare's Sonnets\">Shakespeare's Sonnets</a></h3>\n",
       " <div class=\"product_price\">\n",
       " <p class=\"price_color\">Â£20.66</p>\n",
       " <p class=\"instock availability\">\n",
       " <i class=\"icon-ok\"></i>\n",
       "     \n",
       "         In stock\n",
       "     \n",
       " </p>\n",
       " <form>\n",
       " <button class=\"btn btn-primary btn-block\" data-loading-text=\"Adding...\" type=\"submit\">Add to basket</button>\n",
       " </form>\n",
       " </div>\n",
       " </article>, <article class=\"product_pod\">\n",
       " <div class=\"image_container\">\n",
       " <a href=\"set-me-free_988/index.html\"><img alt=\"Set Me Free\" class=\"thumbnail\" src=\"../media/cache/5b/88/5b88c52633f53cacf162c15f4f823153.jpg\"/></a>\n",
       " </div>\n",
       " <p class=\"star-rating Five\">\n",
       " <i class=\"icon-star\"></i>\n",
       " <i class=\"icon-star\"></i>\n",
       " <i class=\"icon-star\"></i>\n",
       " <i class=\"icon-star\"></i>\n",
       " <i class=\"icon-star\"></i>\n",
       " </p>\n",
       " <h3><a href=\"set-me-free_988/index.html\" title=\"Set Me Free\">Set Me Free</a></h3>\n",
       " <div class=\"product_price\">\n",
       " <p class=\"price_color\">Â£17.46</p>\n",
       " <p class=\"instock availability\">\n",
       " <i class=\"icon-ok\"></i>\n",
       "     \n",
       "         In stock\n",
       "     \n",
       " </p>\n",
       " <form>\n",
       " <button class=\"btn btn-primary btn-block\" data-loading-text=\"Adding...\" type=\"submit\">Add to basket</button>\n",
       " </form>\n",
       " </div>\n",
       " </article>, <article class=\"product_pod\">\n",
       " <div class=\"image_container\">\n",
       " <a href=\"scott-pilgrims-precious-little-life-scott-pilgrim-1_987/index.html\"><img alt=\"Scott Pilgrim's Precious Little Life (Scott Pilgrim #1)\" class=\"thumbnail\" src=\"../media/cache/94/b1/94b1b8b244bce9677c2f29ccc890d4d2.jpg\"/></a>\n",
       " </div>\n",
       " <p class=\"star-rating Five\">\n",
       " <i class=\"icon-star\"></i>\n",
       " <i class=\"icon-star\"></i>\n",
       " <i class=\"icon-star\"></i>\n",
       " <i class=\"icon-star\"></i>\n",
       " <i class=\"icon-star\"></i>\n",
       " </p>\n",
       " <h3><a href=\"scott-pilgrims-precious-little-life-scott-pilgrim-1_987/index.html\" title=\"Scott Pilgrim's Precious Little Life (Scott Pilgrim #1)\">Scott Pilgrim's Precious Little ...</a></h3>\n",
       " <div class=\"product_price\">\n",
       " <p class=\"price_color\">Â£52.29</p>\n",
       " <p class=\"instock availability\">\n",
       " <i class=\"icon-ok\"></i>\n",
       "     \n",
       "         In stock\n",
       "     \n",
       " </p>\n",
       " <form>\n",
       " <button class=\"btn btn-primary btn-block\" data-loading-text=\"Adding...\" type=\"submit\">Add to basket</button>\n",
       " </form>\n",
       " </div>\n",
       " </article>, <article class=\"product_pod\">\n",
       " <div class=\"image_container\">\n",
       " <a href=\"rip-it-up-and-start-again_986/index.html\"><img alt=\"Rip it Up and Start Again\" class=\"thumbnail\" src=\"../media/cache/81/c4/81c4a973364e17d01f217e1188253d5e.jpg\"/></a>\n",
       " </div>\n",
       " <p class=\"star-rating Five\">\n",
       " <i class=\"icon-star\"></i>\n",
       " <i class=\"icon-star\"></i>\n",
       " <i class=\"icon-star\"></i>\n",
       " <i class=\"icon-star\"></i>\n",
       " <i class=\"icon-star\"></i>\n",
       " </p>\n",
       " <h3><a href=\"rip-it-up-and-start-again_986/index.html\" title=\"Rip it Up and Start Again\">Rip it Up and ...</a></h3>\n",
       " <div class=\"product_price\">\n",
       " <p class=\"price_color\">Â£35.02</p>\n",
       " <p class=\"instock availability\">\n",
       " <i class=\"icon-ok\"></i>\n",
       "     \n",
       "         In stock\n",
       "     \n",
       " </p>\n",
       " <form>\n",
       " <button class=\"btn btn-primary btn-block\" data-loading-text=\"Adding...\" type=\"submit\">Add to basket</button>\n",
       " </form>\n",
       " </div>\n",
       " </article>, <article class=\"product_pod\">\n",
       " <div class=\"image_container\">\n",
       " <a href=\"our-band-could-be-your-life-scenes-from-the-american-indie-underground-1981-1991_985/index.html\"><img alt=\"Our Band Could Be Your Life: Scenes from the American Indie Underground, 1981-1991\" class=\"thumbnail\" src=\"../media/cache/54/60/54607fe8945897cdcced0044103b10b6.jpg\"/></a>\n",
       " </div>\n",
       " <p class=\"star-rating Three\">\n",
       " <i class=\"icon-star\"></i>\n",
       " <i class=\"icon-star\"></i>\n",
       " <i class=\"icon-star\"></i>\n",
       " <i class=\"icon-star\"></i>\n",
       " <i class=\"icon-star\"></i>\n",
       " </p>\n",
       " <h3><a href=\"our-band-could-be-your-life-scenes-from-the-american-indie-underground-1981-1991_985/index.html\" title=\"Our Band Could Be Your Life: Scenes from the American Indie Underground, 1981-1991\">Our Band Could Be ...</a></h3>\n",
       " <div class=\"product_price\">\n",
       " <p class=\"price_color\">Â£57.25</p>\n",
       " <p class=\"instock availability\">\n",
       " <i class=\"icon-ok\"></i>\n",
       "     \n",
       "         In stock\n",
       "     \n",
       " </p>\n",
       " <form>\n",
       " <button class=\"btn btn-primary btn-block\" data-loading-text=\"Adding...\" type=\"submit\">Add to basket</button>\n",
       " </form>\n",
       " </div>\n",
       " </article>, <article class=\"product_pod\">\n",
       " <div class=\"image_container\">\n",
       " <a href=\"olio_984/index.html\"><img alt=\"Olio\" class=\"thumbnail\" src=\"../media/cache/55/33/553310a7162dfbc2c6d19a84da0df9e1.jpg\"/></a>\n",
       " </div>\n",
       " <p class=\"star-rating One\">\n",
       " <i class=\"icon-star\"></i>\n",
       " <i class=\"icon-star\"></i>\n",
       " <i class=\"icon-star\"></i>\n",
       " <i class=\"icon-star\"></i>\n",
       " <i class=\"icon-star\"></i>\n",
       " </p>\n",
       " <h3><a href=\"olio_984/index.html\" title=\"Olio\">Olio</a></h3>\n",
       " <div class=\"product_price\">\n",
       " <p class=\"price_color\">Â£23.88</p>\n",
       " <p class=\"instock availability\">\n",
       " <i class=\"icon-ok\"></i>\n",
       "     \n",
       "         In stock\n",
       "     \n",
       " </p>\n",
       " <form>\n",
       " <button class=\"btn btn-primary btn-block\" data-loading-text=\"Adding...\" type=\"submit\">Add to basket</button>\n",
       " </form>\n",
       " </div>\n",
       " </article>, <article class=\"product_pod\">\n",
       " <div class=\"image_container\">\n",
       " <a href=\"mesaerion-the-best-science-fiction-stories-1800-1849_983/index.html\"><img alt=\"Mesaerion: The Best Science Fiction Stories 1800-1849\" class=\"thumbnail\" src=\"../media/cache/09/a3/09a3aef48557576e1a85ba7efea8ecb7.jpg\"/></a>\n",
       " </div>\n",
       " <p class=\"star-rating One\">\n",
       " <i class=\"icon-star\"></i>\n",
       " <i class=\"icon-star\"></i>\n",
       " <i class=\"icon-star\"></i>\n",
       " <i class=\"icon-star\"></i>\n",
       " <i class=\"icon-star\"></i>\n",
       " </p>\n",
       " <h3><a href=\"mesaerion-the-best-science-fiction-stories-1800-1849_983/index.html\" title=\"Mesaerion: The Best Science Fiction Stories 1800-1849\">Mesaerion: The Best Science ...</a></h3>\n",
       " <div class=\"product_price\">\n",
       " <p class=\"price_color\">Â£37.59</p>\n",
       " <p class=\"instock availability\">\n",
       " <i class=\"icon-ok\"></i>\n",
       "     \n",
       "         In stock\n",
       "     \n",
       " </p>\n",
       " <form>\n",
       " <button class=\"btn btn-primary btn-block\" data-loading-text=\"Adding...\" type=\"submit\">Add to basket</button>\n",
       " </form>\n",
       " </div>\n",
       " </article>, <article class=\"product_pod\">\n",
       " <div class=\"image_container\">\n",
       " <a href=\"libertarianism-for-beginners_982/index.html\"><img alt=\"Libertarianism for Beginners\" class=\"thumbnail\" src=\"../media/cache/0b/bc/0bbcd0a6f4bcd81ccb1049a52736406e.jpg\"/></a>\n",
       " </div>\n",
       " <p class=\"star-rating Two\">\n",
       " <i class=\"icon-star\"></i>\n",
       " <i class=\"icon-star\"></i>\n",
       " <i class=\"icon-star\"></i>\n",
       " <i class=\"icon-star\"></i>\n",
       " <i class=\"icon-star\"></i>\n",
       " </p>\n",
       " <h3><a href=\"libertarianism-for-beginners_982/index.html\" title=\"Libertarianism for Beginners\">Libertarianism for Beginners</a></h3>\n",
       " <div class=\"product_price\">\n",
       " <p class=\"price_color\">Â£51.33</p>\n",
       " <p class=\"instock availability\">\n",
       " <i class=\"icon-ok\"></i>\n",
       "     \n",
       "         In stock\n",
       "     \n",
       " </p>\n",
       " <form>\n",
       " <button class=\"btn btn-primary btn-block\" data-loading-text=\"Adding...\" type=\"submit\">Add to basket</button>\n",
       " </form>\n",
       " </div>\n",
       " </article>, <article class=\"product_pod\">\n",
       " <div class=\"image_container\">\n",
       " <a href=\"its-only-the-himalayas_981/index.html\"><img alt=\"It's Only the Himalayas\" class=\"thumbnail\" src=\"../media/cache/27/a5/27a53d0bb95bdd88288eaf66c9230d7e.jpg\"/></a>\n",
       " </div>\n",
       " <p class=\"star-rating Two\">\n",
       " <i class=\"icon-star\"></i>\n",
       " <i class=\"icon-star\"></i>\n",
       " <i class=\"icon-star\"></i>\n",
       " <i class=\"icon-star\"></i>\n",
       " <i class=\"icon-star\"></i>\n",
       " </p>\n",
       " <h3><a href=\"its-only-the-himalayas_981/index.html\" title=\"It's Only the Himalayas\">It's Only the Himalayas</a></h3>\n",
       " <div class=\"product_price\">\n",
       " <p class=\"price_color\">Â£45.17</p>\n",
       " <p class=\"instock availability\">\n",
       " <i class=\"icon-ok\"></i>\n",
       "     \n",
       "         In stock\n",
       "     \n",
       " </p>\n",
       " <form>\n",
       " <button class=\"btn btn-primary btn-block\" data-loading-text=\"Adding...\" type=\"submit\">Add to basket</button>\n",
       " </form>\n",
       " </div>\n",
       " </article>]"
      ]
     },
     "execution_count": 117,
     "metadata": {},
     "output_type": "execute_result"
    }
   ],
   "source": [
    "soup.select(\".product_pod\")"
   ]
  },
  {
   "cell_type": "markdown",
   "metadata": {},
   "source": [
    "Now we can see that each book has the product_pod class. We can select any tag with this class, and then further reduce it by its rating."
   ]
  },
  {
   "cell_type": "code",
   "execution_count": 78,
   "metadata": {
    "collapsed": true
   },
   "outputs": [],
   "source": [
    "products = soup.select(\".product_pod\")"
   ]
  },
  {
   "cell_type": "code",
   "execution_count": 79,
   "metadata": {
    "collapsed": true
   },
   "outputs": [],
   "source": [
    "example = products[0]"
   ]
  },
  {
   "cell_type": "code",
   "execution_count": 80,
   "metadata": {},
   "outputs": [
    {
     "data": {
      "text/plain": [
       "bs4.element.Tag"
      ]
     },
     "execution_count": 80,
     "metadata": {},
     "output_type": "execute_result"
    }
   ],
   "source": [
    "type(example)"
   ]
  },
  {
   "cell_type": "code",
   "execution_count": 115,
   "metadata": {},
   "outputs": [
    {
     "data": {
      "text/plain": [
       "{'class': ['product_pod']}"
      ]
     },
     "execution_count": 115,
     "metadata": {},
     "output_type": "execute_result"
    }
   ],
   "source": [
    "example.attrs"
   ]
  },
  {
   "cell_type": "markdown",
   "metadata": {},
   "source": [
    "Now by inspecting the site we can see that the class we want is class='star-rating Two' , if you click on this in your browser, you'll notice it displays the space as a . , so that means we want to search for \".star-rating.Two\""
   ]
  },
  {
   "cell_type": "code",
   "execution_count": 145,
   "metadata": {},
   "outputs": [
    {
     "data": {
      "text/plain": [
       "['\\n', <div class=\"image_container\">\n",
       " <a href=\"a-light-in-the-attic_1000/index.html\"><img alt=\"A Light in the Attic\" class=\"thumbnail\" src=\"../media/cache/2c/da/2cdad67c44b002e7ead0cc35693c0e8b.jpg\"/></a>\n",
       " </div>, '\\n', <p class=\"star-rating Three\">\n",
       " <i class=\"icon-star\"></i>\n",
       " <i class=\"icon-star\"></i>\n",
       " <i class=\"icon-star\"></i>\n",
       " <i class=\"icon-star\"></i>\n",
       " <i class=\"icon-star\"></i>\n",
       " </p>, '\\n', <h3><a href=\"a-light-in-the-attic_1000/index.html\" title=\"A Light in the Attic\">A Light in the ...</a></h3>, '\\n', <div class=\"product_price\">\n",
       " <p class=\"price_color\">Â£51.77</p>\n",
       " <p class=\"instock availability\">\n",
       " <i class=\"icon-ok\"></i>\n",
       "     \n",
       "         In stock\n",
       "     \n",
       " </p>\n",
       " <form>\n",
       " <button class=\"btn btn-primary btn-block\" data-loading-text=\"Adding...\" type=\"submit\">Add to basket</button>\n",
       " </form>\n",
       " </div>, '\\n']"
      ]
     },
     "execution_count": 145,
     "metadata": {},
     "output_type": "execute_result"
    }
   ],
   "source": [
    "list(example.children)"
   ]
  },
  {
   "cell_type": "code",
   "execution_count": 147,
   "metadata": {},
   "outputs": [
    {
     "data": {
      "text/plain": [
       "[<p class=\"star-rating Three\">\n",
       " <i class=\"icon-star\"></i>\n",
       " <i class=\"icon-star\"></i>\n",
       " <i class=\"icon-star\"></i>\n",
       " <i class=\"icon-star\"></i>\n",
       " <i class=\"icon-star\"></i>\n",
       " </p>]"
      ]
     },
     "execution_count": 147,
     "metadata": {},
     "output_type": "execute_result"
    }
   ],
   "source": [
    "example.select('.star-rating.Three')"
   ]
  },
  {
   "cell_type": "markdown",
   "metadata": {},
   "source": [
    "But we are looking for 2 stars, so it looks like we can just check to see if something was returned"
   ]
  },
  {
   "cell_type": "code",
   "execution_count": 148,
   "metadata": {},
   "outputs": [
    {
     "data": {
      "text/plain": [
       "[]"
      ]
     },
     "execution_count": 148,
     "metadata": {},
     "output_type": "execute_result"
    }
   ],
   "source": [
    "example.select('.star-rating.Two')"
   ]
  },
  {
   "cell_type": "markdown",
   "metadata": {},
   "source": [
    "Alternatively, we can just quickly check the text string to see if \"star-rating Two\" is in it. Either approach is fine (there are also many other alternative approaches!)\n",
    "\n",
    "Now let's see how we can get the title if we have a 2-star match:"
   ]
  },
  {
   "cell_type": "code",
   "execution_count": 149,
   "metadata": {},
   "outputs": [
    {
     "data": {
      "text/plain": [
       "[<a href=\"a-light-in-the-attic_1000/index.html\"><img alt=\"A Light in the Attic\" class=\"thumbnail\" src=\"../media/cache/2c/da/2cdad67c44b002e7ead0cc35693c0e8b.jpg\"/></a>,\n",
       " <a href=\"a-light-in-the-attic_1000/index.html\" title=\"A Light in the Attic\">A Light in the ...</a>]"
      ]
     },
     "execution_count": 149,
     "metadata": {},
     "output_type": "execute_result"
    }
   ],
   "source": [
    "example.select('a')"
   ]
  },
  {
   "cell_type": "code",
   "execution_count": 150,
   "metadata": {},
   "outputs": [
    {
     "data": {
      "text/plain": [
       "<a href=\"a-light-in-the-attic_1000/index.html\" title=\"A Light in the Attic\">A Light in the ...</a>"
      ]
     },
     "execution_count": 150,
     "metadata": {},
     "output_type": "execute_result"
    }
   ],
   "source": [
    "example.select('a')[1]"
   ]
  },
  {
   "cell_type": "code",
   "execution_count": 152,
   "metadata": {},
   "outputs": [
    {
     "data": {
      "text/plain": [
       "'A Light in the Attic'"
      ]
     },
     "execution_count": 152,
     "metadata": {},
     "output_type": "execute_result"
    }
   ],
   "source": [
    "example.select('a')[1]['title']"
   ]
  },
  {
   "cell_type": "markdown",
   "metadata": {},
   "source": [
    "Okay, let's give it a shot by combining all the ideas we've talked about! (this should take about 20-60 seconds to complete running. Be aware a firwall may prevent this script from running. Also if you are getting a no response error, maybe try adding a sleep step with time.sleep(1)."
   ]
  },
  {
   "cell_type": "code",
   "execution_count": 156,
   "metadata": {
    "collapsed": true
   },
   "outputs": [],
   "source": [
    "two_star_titles = []\n",
    "\n",
    "for n in range(1,51):\n",
    "\n",
    "    scrape_url = base_url.format(n)\n",
    "    res = requests.get(scrape_url)\n",
    "    \n",
    "    soup = bs4.BeautifulSoup(res.text,\"lxml\")\n",
    "    books = soup.select(\".product_pod\")\n",
    "    \n",
    "    for book in books:\n",
    "        if len(book.select('.star-rating.Two')) != 0:\n",
    "            two_star_titles.append(book.select('a')[1]['title'])"
   ]
  },
  {
   "cell_type": "code",
   "execution_count": 157,
   "metadata": {},
   "outputs": [
    {
     "data": {
      "text/plain": [
       "['Starving Hearts (Triangular Trade Trilogy, #1)',\n",
       " 'Libertarianism for Beginners',\n",
       " \"It's Only the Himalayas\",\n",
       " 'How Music Works',\n",
       " 'Maude (1883-1993):She Grew Up with the country',\n",
       " \"You can't bury them all: Poems\",\n",
       " 'Reasons to Stay Alive',\n",
       " 'Without Borders (Wanderlove #1)',\n",
       " 'Soul Reader',\n",
       " 'Security',\n",
       " 'Saga, Volume 5 (Saga (Collected Editions) #5)',\n",
       " 'Reskilling America: Learning to Labor in the Twenty-First Century',\n",
       " 'Political Suicide: Missteps, Peccadilloes, Bad Calls, Backroom Hijinx, Sordid Pasts, Rotten Breaks, and Just Plain Dumb Mistakes in the Annals of American Politics',\n",
       " 'Obsidian (Lux #1)',\n",
       " 'My Paris Kitchen: Recipes and Stories',\n",
       " 'Masks and Shadows',\n",
       " 'Lumberjanes, Vol. 2: Friendship to the Max (Lumberjanes #5-8)',\n",
       " 'Lumberjanes Vol. 3: A Terrible Plan (Lumberjanes #9-12)',\n",
       " 'Judo: Seven Steps to Black Belt (an Introductory Guide for Beginners)',\n",
       " 'I Hate Fairyland, Vol. 1: Madly Ever After (I Hate Fairyland (Compilations) #1-5)',\n",
       " 'Giant Days, Vol. 2 (Giant Days #5-8)',\n",
       " 'Everydata: The Misinformation Hidden in the Little Data You Consume Every Day',\n",
       " \"Don't Be a Jerk: And Other Practical Advice from Dogen, Japan's Greatest Zen Master\",\n",
       " 'Bossypants',\n",
       " 'Bitch Planet, Vol. 1: Extraordinary Machine (Bitch Planet (Collected Editions))',\n",
       " 'Avatar: The Last Airbender: Smoke and Shadow, Part 3 (Smoke and Shadow #3)',\n",
       " 'Tuesday Nights in 1980',\n",
       " 'The Psychopath Test: A Journey Through the Madness Industry',\n",
       " 'The Power of Now: A Guide to Spiritual Enlightenment',\n",
       " \"The Omnivore's Dilemma: A Natural History of Four Meals\",\n",
       " 'The Love and Lemons Cookbook: An Apple-to-Zucchini Celebration of Impromptu Cooking',\n",
       " 'The Girl on the Train',\n",
       " 'The Emerald Mystery',\n",
       " 'The Argonauts',\n",
       " 'Suddenly in Love (Lake Haven #1)',\n",
       " 'Soft Apocalypse',\n",
       " \"So You've Been Publicly Shamed\",\n",
       " 'Shoe Dog: A Memoir by the Creator of NIKE',\n",
       " 'Louisa: The Extraordinary Life of Mrs. Adams',\n",
       " 'Large Print Heart of the Pride',\n",
       " 'Grumbles',\n",
       " 'Chasing Heaven: What Dying Taught Me About Living',\n",
       " 'Becoming Wise: An Inquiry into the Mystery and Art of Living',\n",
       " 'Beauty Restored (Riley Family Legacy Novellas #3)',\n",
       " 'Batman: The Long Halloween (Batman)',\n",
       " \"Ayumi's Violin\",\n",
       " 'Wild Swans',\n",
       " \"What's It Like in Space?: Stories from Astronauts Who've Been There\",\n",
       " 'Until Friday Night (The Field Party #1)',\n",
       " 'Unbroken: A World War II Story of Survival, Resilience, and Redemption',\n",
       " 'Twenty Yawns',\n",
       " 'Through the Woods',\n",
       " 'This Is Where It Ends',\n",
       " 'The Year of Magical Thinking',\n",
       " 'The Last Mile (Amos Decker #2)',\n",
       " 'The Immortal Life of Henrietta Lacks',\n",
       " 'The Hidden Oracle (The Trials of Apollo #1)',\n",
       " 'The Guilty (Will Robie #4)',\n",
       " 'Red Hood/Arsenal, Vol. 1: Open for Business (Red Hood/Arsenal #1)',\n",
       " 'Once Was a Time',\n",
       " 'No Dream Is Too High: Life Lessons From a Man Who Walked on the Moon',\n",
       " 'Naruto (3-in-1 Edition), Vol. 14: Includes Vols. 40, 41 & 42 (Naruto: Omnibus #14)',\n",
       " 'More Than Music (Chasing the Dream #1)',\n",
       " 'Lowriders to the Center of the Earth (Lowriders in Space #2)',\n",
       " 'Eat Fat, Get Thin',\n",
       " 'Doctor Sleep (The Shining #2)',\n",
       " 'Crazy Love: Overwhelmed by a Relentless God',\n",
       " 'Carrie',\n",
       " 'Batman: Europa',\n",
       " 'Angels Walking (Angels Walking #1)',\n",
       " 'Adulthood Is a Myth: A \"Sarah\\'s Scribbles\" Collection',\n",
       " 'A Study in Scarlet (Sherlock Holmes #1)',\n",
       " 'A Series of Catastrophes and Miracles: A True Story of Love, Science, and Cancer',\n",
       " \"A People's History of the United States\",\n",
       " 'My Kitchen Year: 136 Recipes That Saved My Life',\n",
       " 'The Lonely City: Adventures in the Art of Being Alone',\n",
       " 'The Dinner Party',\n",
       " 'Stars Above (The Lunar Chronicles #4.5)',\n",
       " 'Love, Lies and Spies',\n",
       " 'Troublemaker: Surviving Hollywood and Scientology',\n",
       " 'The Widow',\n",
       " 'Setting the World on Fire: The Brief, Astonishing Life of St. Catherine of Siena',\n",
       " 'Mothering Sunday',\n",
       " 'Lilac Girls',\n",
       " '10% Happier: How I Tamed the Voice in My Head, Reduced Stress Without Losing My Edge, and Found Self-Help That Actually Works',\n",
       " 'Underlying Notes',\n",
       " 'The Flowers Lied',\n",
       " 'Modern Day Fables',\n",
       " \"Chernobyl 01:23:40: The Incredible True Story of the World's Worst Nuclear Disaster\",\n",
       " '23 Degrees South: A Tropical Tale of Changing Whether...',\n",
       " 'When Breath Becomes Air',\n",
       " 'Vagabonding: An Uncommon Guide to the Art of Long-Term World Travel',\n",
       " 'The Martian (The Martian #1)',\n",
       " \"Miller's Valley\",\n",
       " \"Love That Boy: What Two Presidents, Eight Road Trips, and My Son Taught Me About a Parent's Expectations\",\n",
       " 'Left Behind (Left Behind #1)',\n",
       " 'Howl and Other Poems',\n",
       " \"Heaven is for Real: A Little Boy's Astounding Story of His Trip to Heaven and Back\",\n",
       " \"Brazen: The Courage to Find the You That's Been Hiding\",\n",
       " '32 Yolks',\n",
       " 'Wildlife of New York: A Five-Borough Coloring Book',\n",
       " 'Unreasonable Hope: Finding Faith in the God Who Brings Purpose to Your Pain',\n",
       " 'The Art Book',\n",
       " 'Steal Like an Artist: 10 Things Nobody Told You About Being Creative',\n",
       " 'Raymie Nightingale',\n",
       " 'Like Never Before (Walker Family #2)',\n",
       " 'How to Be a Domestic Goddess: Baking and the Art of Comfort Cooking',\n",
       " 'Finding God in the Ruins: How God Redeems Pain',\n",
       " 'Chronicles, Vol. 1',\n",
       " 'A Summer In Europe',\n",
       " 'The Rise and Fall of the Third Reich: A History of Nazi Germany',\n",
       " 'The Makings of a Fatherless Child',\n",
       " 'The Fellowship of the Ring (The Lord of the Rings #1)',\n",
       " \"Tell the Wolves I'm Home\",\n",
       " 'In the Woods (Dublin Murder Squad #1)',\n",
       " 'Give It Back',\n",
       " 'Why Save the Bankers?: And Other Essays on Our Economic and Political Crisis',\n",
       " 'The Raven King (The Raven Cycle #4)',\n",
       " 'The Expatriates',\n",
       " 'The 5th Wave (The 5th Wave #1)',\n",
       " 'Peak: Secrets from the New Science of Expertise',\n",
       " 'Logan Kade (Fallen Crest High #5.5)',\n",
       " \"I Know Why the Caged Bird Sings (Maya Angelou's Autobiography #1)\",\n",
       " 'Drama',\n",
       " \"America's War for the Greater Middle East: A Military History\",\n",
       " 'A Game of Thrones (A Song of Ice and Fire #1)',\n",
       " \"The Pilgrim's Progress\",\n",
       " 'The Hound of the Baskervilles (Sherlock Holmes #5)',\n",
       " \"The Geography of Bliss: One Grump's Search for the Happiest Places in the World\",\n",
       " 'The Demonists (Demonist #1)',\n",
       " 'The Demon Prince of Momochi House, Vol. 4 (The Demon Prince of Momochi House #4)',\n",
       " 'Misery',\n",
       " 'Far From True (Promise Falls Trilogy #2)',\n",
       " 'Confessions of a Shopaholic (Shopaholic #1)',\n",
       " 'Vegan Vegetarian Omnivore: Dinner for Everyone at the Table',\n",
       " 'Two Boys Kissing',\n",
       " 'Twilight (Twilight #1)',\n",
       " 'Twenties Girl',\n",
       " 'The Tipping Point: How Little Things Can Make a Big Difference',\n",
       " 'The Stand',\n",
       " 'The Picture of Dorian Gray',\n",
       " 'The Name of God is Mercy',\n",
       " \"The Lover's Dictionary\",\n",
       " 'The Last Painting of Sara de Vos',\n",
       " 'The Guns of August',\n",
       " 'The Girl Who Played with Fire (Millennium Trilogy #2)',\n",
       " 'The Da Vinci Code (Robert Langdon #2)',\n",
       " 'The Cat in the Hat (Beginner Books B-1)',\n",
       " 'The Book Thief',\n",
       " 'The Autobiography of Malcolm X',\n",
       " \"Surely You're Joking, Mr. Feynman!: Adventures of a Curious Character\",\n",
       " 'Soldier (Talon #3)',\n",
       " 'Shopaholic & Baby (Shopaholic #5)',\n",
       " 'Seven Days in the Art World',\n",
       " 'Rework',\n",
       " 'Packing for Mars: The Curious Science of Life in the Void',\n",
       " 'Orange Is the New Black',\n",
       " 'One for the Money (Stephanie Plum #1)',\n",
       " 'Midnight Riot (Peter Grant/ Rivers of London - books #1)',\n",
       " 'Me Talk Pretty One Day',\n",
       " 'Manuscript Found in Accra',\n",
       " 'Lust & Wonder',\n",
       " \"Life, the Universe and Everything (Hitchhiker's Guide to the Galaxy #3)\",\n",
       " 'Life After Life',\n",
       " 'I Am Malala: The Girl Who Stood Up for Education and Was Shot by the Taliban',\n",
       " 'House of Lost Worlds: Dinosaurs, Dynasties, and the Story of Life on Earth',\n",
       " 'Horrible Bear!',\n",
       " 'Holidays on Ice',\n",
       " 'Girl in the Blue Coat',\n",
       " 'Fruits Basket, Vol. 3 (Fruits Basket #3)',\n",
       " 'Cosmos',\n",
       " 'Civilization and Its Discontents',\n",
       " \"Catastrophic Happiness: Finding Joy in Childhood's Messy Years\",\n",
       " 'Career of Evil (Cormoran Strike #3)',\n",
       " 'Born to Run: A Hidden Tribe, Superathletes, and the Greatest Race the World Has Never Seen',\n",
       " \"Best of My Love (Fool's Gold #20)\",\n",
       " 'Beowulf',\n",
       " 'Awkward',\n",
       " 'And Then There Were None',\n",
       " 'A Storm of Swords (A Song of Ice and Fire #3)',\n",
       " 'The Suffragettes (Little Black Classics, #96)',\n",
       " 'Vampire Girl (Vampire Girl #1)',\n",
       " 'Three Wishes (River of Time: California #1)',\n",
       " 'The Wicked + The Divine, Vol. 1: The Faust Act (The Wicked + The Divine)',\n",
       " 'The Little Prince',\n",
       " 'The Last Girl (The Dominion Trilogy #1)',\n",
       " 'Taking Shots (Assassins #1)',\n",
       " 'Settling the Score (The Summer Games #1)',\n",
       " 'Rhythm, Chord & Malykhin',\n",
       " 'One Second (Seven #7)',\n",
       " \"Old Records Never Die: One Man's Quest for His Vinyl and His Past\",\n",
       " 'Of Mice and Men',\n",
       " 'My Perfect Mistake (Over the Top #1)',\n",
       " 'Meditations',\n",
       " 'Frankenstein',\n",
       " 'Emma']"
      ]
     },
     "execution_count": 157,
     "metadata": {},
     "output_type": "execute_result"
    }
   ],
   "source": [
    "two_star_titles"
   ]
  },
  {
   "cell_type": "markdown",
   "metadata": {},
   "source": [
    "** Excellent! You should now have the tools necessary to scrape any websites that interest you! Keep in mind, the more complex the website, the harder it will be to scrape. Always ask for permission! **"
   ]
  }
 ],
 "metadata": {
  "anaconda-cloud": {},
  "kernelspec": {
   "display_name": "Python 3",
   "language": "python",
   "name": "python3"
  },
  "language_info": {
   "codemirror_mode": {
    "name": "ipython",
    "version": 3
   },
   "file_extension": ".py",
   "mimetype": "text/x-python",
   "name": "python",
   "nbconvert_exporter": "python",
   "pygments_lexer": "ipython3",
   "version": "3.6.1"
  }
 },
 "nbformat": 4,
 "nbformat_minor": 2
}
