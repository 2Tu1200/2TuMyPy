{
 "cells": [
  {
   "cell_type": "markdown",
   "metadata": {
    "collapsed": true
   },
   "source": [
    "# Red Mission Overview\n",
    "\n",
    "Welcome to the field agent. This is where your training really comes into play. Remember a real agent is never done learning. You will need to constantly adapt to whatever scenario your presented.\n",
    "\n",
    "It is time for you to find the RAINBOW Rogues. We were previously close to cracking this rogue network, but they realized we were on to them and it seems they have completely changed their approach. \n",
    "\n",
    "We believe that they hide their communications through some sort of interwoven series of connections, however we've been having trouble getting any traction.\n",
    "\n",
    "All we know is the following, before  rogue agent leaves the institute, they visit the website of a band:\n",
    "\n",
    "[https://www.thegoldbugs.com](https://www.thegoldbugs.com)\n",
    "\n",
    "It seems like they want other agents to find this site, because before leaving they clear everything in their browsing history except for this site.\n",
    "\n",
    "## Your Mission\n",
    "\n",
    "Visit the site and see if you can gather any evidence indicating the location of the rogue agents.\n",
    "\n",
    "Best of luck Agent."
   ]
  },
  {
   "cell_type": "markdown",
   "metadata": {},
   "source": [
    "----"
   ]
  }
 ],
 "metadata": {
  "anaconda-cloud": {},
  "kernelspec": {
   "display_name": "Python [default]",
   "language": "python",
   "name": "python3"
  },
  "language_info": {
   "codemirror_mode": {
    "name": "ipython",
    "version": 3
   },
   "file_extension": ".py",
   "mimetype": "text/x-python",
   "name": "python",
   "nbconvert_exporter": "python",
   "pygments_lexer": "ipython3",
   "version": "3.5.3"
  }
 },
 "nbformat": 4,
 "nbformat_minor": 2
}
