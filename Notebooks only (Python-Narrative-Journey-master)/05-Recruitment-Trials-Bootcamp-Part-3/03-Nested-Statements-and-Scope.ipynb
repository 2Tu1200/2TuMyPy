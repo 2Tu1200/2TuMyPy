{
 "cells": [
  {
   "cell_type": "markdown",
   "metadata": {
    "collapsed": true
   },
   "source": [
    "# Nested Statements and Scope\n",
    "\n",
    "Welcome back recruit. After those Function Tasks you should now be a lot more comfortable writing functions. Later on we will see how functions can interact with each other as part of larger scripts, in order to continue this discussion, we need to learn about nested statements and scope. Its important to understand how Python deals with the variable and function names you assign. When you create a variable name in Python the name is stored in a name-space. Variable names also have a scope, the scope determines the visibility of that variable name to other parts of your code.\n",
    "\n",
    "### Simple Example\n",
    "Lets start with a quick thought experiment, imagine the following code:"
   ]
  },
  {
   "cell_type": "code",
   "execution_count": 1,
   "metadata": {
    "collapsed": true
   },
   "outputs": [],
   "source": [
    "x = 'outside'\n",
    "\n",
    "def report():\n",
    "    x = 'inside'\n",
    "    return x"
   ]
  },
  {
   "cell_type": "markdown",
   "metadata": {},
   "source": [
    "What do you expect the output of calling report() to be?"
   ]
  },
  {
   "cell_type": "code",
   "execution_count": 2,
   "metadata": {},
   "outputs": [
    {
     "data": {
      "text/plain": [
       "'inside'"
      ]
     },
     "execution_count": 2,
     "metadata": {},
     "output_type": "execute_result"
    }
   ],
   "source": [
    "report()"
   ]
  },
  {
   "cell_type": "markdown",
   "metadata": {},
   "source": [
    "Okay, that makes sense, as we see x was reassigned inside of the report() function. What do you think happens if we call print(x) outside of this function?"
   ]
  },
  {
   "cell_type": "code",
   "execution_count": 4,
   "metadata": {},
   "outputs": [
    {
     "name": "stdout",
     "output_type": "stream",
     "text": [
      "outside\n"
     ]
    }
   ],
   "source": [
    "print(x)"
   ]
  },
  {
   "cell_type": "markdown",
   "metadata": {},
   "source": [
    "The reason we don't see the effect of this reassignment outside of the function, is because of **scope**."
   ]
  },
  {
   "cell_type": "markdown",
   "metadata": {},
   "source": [
    "## Scope\n",
    "\n",
    "This idea of scope in your code is very important to understand in order to properly assign and call variable names.\n",
    "\n",
    "In simple terms, the idea of scope can be described by 3 general rules:\n",
    "\n",
    "1. Name assignments will create or change local names by default.\n",
    "2. Name references search (at most) four scopes, these are:\n",
    "    * local\n",
    "    * enclosing functions\n",
    "    * global\n",
    "    * built-in\n",
    "3. Names declared in global and nonlocal statements map assigned names to enclosing module and function scopes."
   ]
  },
  {
   "cell_type": "markdown",
   "metadata": {},
   "source": [
    "The statement in #2 above can be defined by the LEGB rule.\n",
    "\n",
    "**LEGB Rule.**\n",
    "\n",
    "**L: Local ** — Names assigned in any way within a function (def or lambda)), and not declared global in that function.\n",
    "\n",
    "**E: Enclosing function locals** — Name in the local scope of any and all enclosing functions (def or lambda), from inner to outer.\n",
    "\n",
    "**G: Global (module)** — Names assigned at the top-level of a module file, or declared global in a def within the file.\n",
    "\n",
    "**B: Built-in (Python)** — Names preassigned in the built-in names module : open,range,SyntaxError,..."
   ]
  },
  {
   "cell_type": "markdown",
   "metadata": {},
   "source": [
    "### Example of Local"
   ]
  },
  {
   "cell_type": "code",
   "execution_count": 5,
   "metadata": {
    "collapsed": true
   },
   "outputs": [],
   "source": [
    "def report():\n",
    "    \n",
    "    # This is a local assignment\n",
    "    x = 'local'\n",
    "    print(x)"
   ]
  },
  {
   "cell_type": "markdown",
   "metadata": {},
   "source": [
    "### Example of Enclosing Function Locals\n",
    "\n",
    "Remember that this occurs when a function is inside of another function (we'll see more examples of this later, these are called nested functions, you won't use them that often as you start out programming)."
   ]
  },
  {
   "cell_type": "code",
   "execution_count": 7,
   "metadata": {},
   "outputs": [],
   "source": [
    "x = 'This is a global level'\n",
    "\n",
    "def enclosing():\n",
    "    x = 'Enclosing Level'\n",
    "    \n",
    "    def inside():\n",
    "        # This function is inside enclosing\n",
    "        # Notice the indentation\n",
    "        print(x)\n",
    "        \n",
    "    # Now let's call inside()\n",
    "    # Note the indentation\n",
    "    inside()"
   ]
  },
  {
   "cell_type": "markdown",
   "metadata": {},
   "source": [
    "So what will happen when we call enclosing()? What will we see?"
   ]
  },
  {
   "cell_type": "code",
   "execution_count": 8,
   "metadata": {},
   "outputs": [
    {
     "name": "stdout",
     "output_type": "stream",
     "text": [
      "Enclosing Level\n"
     ]
    }
   ],
   "source": [
    "enclosing()"
   ]
  },
  {
   "cell_type": "markdown",
   "metadata": {},
   "source": [
    "This means the inside() function first looks for the **x** variable locally. Since its not defined there, it looks at the enclosing level, it finds it defined there, so it can then print it out. Let's see what happens if it wasn't defined in the enclosing function (meaning it was global).\n",
    "\n",
    "### Global"
   ]
  },
  {
   "cell_type": "code",
   "execution_count": 9,
   "metadata": {
    "collapsed": true
   },
   "outputs": [],
   "source": [
    "x = 'This is a global level'\n",
    "\n",
    "def enclosing():\n",
    "    # X is not defined inside this enclosing function either!\n",
    "    \n",
    "    def inside():\n",
    "        # This function is inside enclosing\n",
    "        # Notice the indentation\n",
    "        print(x)\n",
    "        \n",
    "    # Now let's call inside()\n",
    "    # Note the indentation\n",
    "    inside()"
   ]
  },
  {
   "cell_type": "code",
   "execution_count": 10,
   "metadata": {},
   "outputs": [
    {
     "name": "stdout",
     "output_type": "stream",
     "text": [
      "This is a global level\n"
     ]
    }
   ],
   "source": [
    "enclosing()"
   ]
  },
  {
   "cell_type": "markdown",
   "metadata": {},
   "source": [
    "### Built-in\n",
    "\n",
    "These are built-in functions and keywords, be careful not to overwrite these! If you variable name is already specially highlighted when you are typing it, its probably a built-in function!"
   ]
  },
  {
   "cell_type": "code",
   "execution_count": 11,
   "metadata": {},
   "outputs": [
    {
     "data": {
      "text/plain": [
       "<function len>"
      ]
     },
     "execution_count": 11,
     "metadata": {},
     "output_type": "execute_result"
    }
   ],
   "source": [
    "len"
   ]
  },
  {
   "cell_type": "code",
   "execution_count": 12,
   "metadata": {},
   "outputs": [
    {
     "data": {
      "text/plain": [
       "<function sum>"
      ]
     },
     "execution_count": 12,
     "metadata": {},
     "output_type": "execute_result"
    }
   ],
   "source": [
    "sum"
   ]
  },
  {
   "cell_type": "code",
   "execution_count": 13,
   "metadata": {},
   "outputs": [
    {
     "data": {
      "text/plain": [
       "list"
      ]
     },
     "execution_count": 13,
     "metadata": {},
     "output_type": "execute_result"
    }
   ],
   "source": [
    "list"
   ]
  },
  {
   "cell_type": "markdown",
   "metadata": {},
   "source": [
    "### Local Variables vs Global Variables\n",
    "\n",
    "Now that we've seen the levels, let's make sure we understand with another example:"
   ]
  },
  {
   "cell_type": "code",
   "execution_count": 14,
   "metadata": {
    "collapsed": true
   },
   "outputs": [],
   "source": [
    "x = 'global outside'\n",
    "\n",
    "def myfunc(x):\n",
    "    \n",
    "    print('X is {}'.format(x))\n",
    "    \n",
    "    x = 'redefined inside myfunc()'\n",
    "    \n",
    "    print('X is {}'.format(x))\n",
    "    \n",
    "    "
   ]
  },
  {
   "cell_type": "code",
   "execution_count": 15,
   "metadata": {},
   "outputs": [
    {
     "name": "stdout",
     "output_type": "stream",
     "text": [
      "X is global outside\n",
      "X is redefined inside myfunc()\n"
     ]
    }
   ],
   "source": [
    "myfunc(x)"
   ]
  },
  {
   "cell_type": "code",
   "execution_count": 16,
   "metadata": {},
   "outputs": [
    {
     "name": "stdout",
     "output_type": "stream",
     "text": [
      "global outside\n"
     ]
    }
   ],
   "source": [
    "print(x)"
   ]
  },
  {
   "cell_type": "markdown",
   "metadata": {},
   "source": [
    "## global keyword\n",
    "Now there may be an occasion where you specifically want to overwrite the global variable inside of a function. How can you do that? You can use the **global** keyword before the variable to indicate you want to \"grab\" the global variable. Keep in mind this is generally not recommended, and you should try your best to avoid this until you become more experienced, because it becomes very easy to accidentally create errors this way by overwriting variables in one part of your script that effect the script in a completely different part. \n",
    "\n",
    "Let's see an example of the **global** keyword."
   ]
  },
  {
   "cell_type": "code",
   "execution_count": 20,
   "metadata": {},
   "outputs": [],
   "source": [
    "x = 'global outside'\n",
    "\n",
    "def myfunc():\n",
    "    # Must declare global keyword before every using it\n",
    "    # inside of the function.\n",
    "    global x \n",
    "    \n",
    "    print('X is {}'.format(x))\n",
    "    \n",
    "    x = 'redefined inside myfunc() with global keyword'\n",
    "    \n",
    "    print('X is {}'.format(x))\n",
    "    \n",
    "    "
   ]
  },
  {
   "cell_type": "code",
   "execution_count": 22,
   "metadata": {},
   "outputs": [
    {
     "name": "stdout",
     "output_type": "stream",
     "text": [
      "X is global outside\n",
      "X is redefined inside myfunc() with global keyword\n"
     ]
    }
   ],
   "source": [
    "myfunc()"
   ]
  },
  {
   "cell_type": "code",
   "execution_count": 23,
   "metadata": {},
   "outputs": [
    {
     "name": "stdout",
     "output_type": "stream",
     "text": [
      "redefined inside myfunc() with global keyword\n"
     ]
    }
   ],
   "source": [
    "print(x)"
   ]
  },
  {
   "cell_type": "markdown",
   "metadata": {},
   "source": [
    "Excellent work recruit! Now this should help you build an understanding when you later on create scripts with multiple functions and variables!"
   ]
  }
 ],
 "metadata": {
  "kernelspec": {
   "display_name": "Python 3",
   "language": "python",
   "name": "python3"
  },
  "language_info": {
   "codemirror_mode": {
    "name": "ipython",
    "version": 3
   },
   "file_extension": ".py",
   "mimetype": "text/x-python",
   "name": "python",
   "nbconvert_exporter": "python",
   "pygments_lexer": "ipython3",
   "version": "3.6.1"
  }
 },
 "nbformat": 4,
 "nbformat_minor": 2
}
