{
 "cells": [
  {
   "cell_type": "markdown",
   "metadata": {
    "collapsed": true
   },
   "source": [
    "# Overview of Green Mission\n",
    "\n",
    "It seems like the email we obtained from the previous mission:\n",
    "\n",
    "    info@thegoldbugs.com\n",
    "    \n",
    "has been set to an auto-reply function that will reveal more information.\n",
    "\n",
    "Send an email to the address and use Python to see what the reply is.\n",
    "\n",
    "**Note: We expect that this email will probably send some sort of auto-reply with a reference link in HTML. Because of this, the content_type() may be 'text/html' instead of 'test/plain'. If you do get some text mixed with HTML code, try pasting the HTML code into a markdown cell in the jupyter notebook, it should be able to format the message correctly.**\n",
    "\n",
    "Best of luck agent!"
   ]
  }
 ],
 "metadata": {
  "kernelspec": {
   "display_name": "Python 3",
   "language": "python",
   "name": "python3"
  },
  "language_info": {
   "codemirror_mode": {
    "name": "ipython",
    "version": 3
   },
   "file_extension": ".py",
   "mimetype": "text/x-python",
   "name": "python",
   "nbconvert_exporter": "python",
   "pygments_lexer": "ipython3",
   "version": "3.6.1"
  }
 },
 "nbformat": 4,
 "nbformat_minor": 1
}
