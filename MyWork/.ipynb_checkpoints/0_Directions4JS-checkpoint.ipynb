{
 "cells": [
  {
   "cell_type": "markdown",
   "metadata": {},
   "source": [
    "# Critical directions post JN through Anaconda and VScode installation# "
   ]
  },
  {
   "cell_type": "code",
   "execution_count": 1,
   "metadata": {},
   "outputs": [
    {
     "data": {
      "text/plain": [
       "8"
      ]
     },
     "execution_count": 1,
     "metadata": {},
     "output_type": "execute_result"
    }
   ],
   "source": [
    "5+3"
   ]
  },
  {
   "cell_type": "markdown",
   "metadata": {},
   "source": [
    "Actually I created this file in VScode, and opened in JN to check and its running well here. Markdown feature too is very necessary, so that I can take notes about my codes using any environment (Python or JS). Also, It was not autosaving, untill I removed it from the protected folder category from ransomeware protection of Win10. Thanks and CU again."
   ]
  },
  {
   "cell_type": "markdown",
   "metadata": {},
   "source": [
    "The only extension in VScode required is \"Live Server\" for JS coding. Additionally I installed Jupyter notebook extension along with extension for python. Its working well."
   ]
  },
  {
   "cell_type": "code",
   "execution_count": 1,
   "metadata": {},
   "outputs": [
    {
     "data": {
      "application/javascript": [
       "var x = 5;\n",
       "var y = 6;\n",
       "var z = x + y;\n",
       "element.text(z)\n"
      ],
      "text/plain": [
       "<IPython.core.display.Javascript object>"
      ]
     },
     "metadata": {},
     "output_type": "display_data"
    }
   ],
   "source": [
    "%%js\n",
    "var x = 5;\n",
    "var y = 6;\n",
    "var z = x + y;\n",
    "element.text(z)"
   ]
  },
  {
   "cell_type": "markdown",
   "metadata": {},
   "source": [
    "Here I am running JS using magic command (%%), as It enables me to run any language here in JN. "
   ]
  },
  {
   "cell_type": "code",
   "execution_count": 2,
   "metadata": {},
   "outputs": [
    {
     "data": {
      "application/javascript": [
       "alert(\"hello, world!\");\n"
      ],
      "text/plain": [
       "<IPython.core.display.Javascript object>"
      ]
     },
     "metadata": {},
     "output_type": "display_data"
    }
   ],
   "source": [
    "%%js\n",
    "alert(\"hello, world!\");"
   ]
  },
  {
   "cell_type": "markdown",
   "metadata": {},
   "source": [
    "Here I am taking print output as a notification."
   ]
  },
  {
   "cell_type": "code",
   "execution_count": 3,
   "metadata": {},
   "outputs": [
    {
     "data": {
      "application/javascript": [
       "alert(\"hello, world!\")"
      ],
      "text/plain": [
       "<IPython.core.display.Javascript object>"
      ]
     },
     "metadata": {},
     "output_type": "display_data"
    }
   ],
   "source": [
    "from IPython.display import Javascript\n",
    "simpjs = Javascript('alert(\"hello, world!\")')\n",
    "display(simpjs)"
   ]
  },
  {
   "cell_type": "markdown",
   "metadata": {},
   "source": [
    "Here I am using a built-in module in IPython, doing the same thing."
   ]
  },
  {
   "cell_type": "code",
   "execution_count": 5,
   "metadata": {
    "scrolled": true
   },
   "outputs": [
    {
     "ename": "SyntaxError",
     "evalue": "invalid syntax (1798331433.py, line 1)",
     "output_type": "error",
     "traceback": [
      "\u001b[1;36m  Cell \u001b[1;32mIn[5], line 1\u001b[1;36m\u001b[0m\n\u001b[1;33m    var msg = \"Hello, World!\"\u001b[0m\n\u001b[1;37m        ^\u001b[0m\n\u001b[1;31mSyntaxError\u001b[0m\u001b[1;31m:\u001b[0m invalid syntax\n"
     ]
    }
   ],
   "source": [
    "var msg = \"Hello, World!\"\n",
    "console.log(msg)\n"
   ]
  },
  {
   "cell_type": "markdown",
   "metadata": {},
   "source": [
    "However, console.log command is not running. For that, i have to install Visual Studio and Node. NVM and then Ijavascript."
   ]
  },
  {
   "cell_type": "markdown",
   "metadata": {},
   "source": [
    "It was a nightmare (running console.log command) running my JS codes in JN. Because MSVisual studio was asking for more than 31 gb in space to download and install, that too not granted. But, thanks Conda. I installed conda, entered in my working directory (JScode) and running only 4 commands on Conda command prompt installed a JS kernel here. 4 commands are: \n",
    "**conda install nodejs**\n",
    "**conda install jupyter**\n",
    "**npm install -g ijavascript**\n",
    "**ijsinstall**.\n",
    "Thanks God. Now I can run all my Python and JS commands at one place, take notes, and can keep backup to manage after PC disaster. Thanks OA."
   ]
  },
  {
   "cell_type": "code",
   "execution_count": 1,
   "metadata": {},
   "outputs": [
    {
     "name": "stdout",
     "output_type": "stream",
     "text": [
      "Hello, World!\n"
     ]
    }
   ],
   "source": [
    "var msg = \"Hello, World!\"\n",
    "console.log(msg)\n"
   ]
  },
  {
   "cell_type": "markdown",
   "metadata": {},
   "source": [
    "How I changed the default working directory of Jupyter Notebook:\n",
    "    \n",
    "    ***run anaconda command prompt\n",
    "    ***run jupyter notebook --generate-config\n",
    "    ***a directory .jupyter/ should have created in your home with a file jupyter_notebook_config.py\n",
    "\n",
    "You don't have to do anything on the prompt anymore. it shows something like:\n",
    "\n",
    "C:\\Users\\name\\.jupyter\n",
    "Find this folder on your C: drive, and in this folder, find the python file jupyter_notebook_config.py.\n",
    "Drag the file into a Notepad ++ to edit it. When editing, look around line 214, for the string that looks like:\n",
    "\n",
    "#c.NotebookApp.notebook_dir = ''\n",
    "Uncomment it, i.e., delete the \"#\" in the first column. Now add our target folder address into the ' ' like this:\n",
    "\n",
    "c.NotebookApp.notebook_dir = 'C:\\\\Users\\\\name\\\\Desktop\\\\foldername'\n",
    "Then save the file. Then open anaconda prompt again, type jupyter notebook.\n",
    "This should launch Jupyter Notebook in the browser in the folder with the above address.\n",
    "Here, the key point is to UNCOMMENT (which means to delete) the # at front of the line, and then, USE \\\\ double slashes (for the path separator) between folders. If you use only single slashes \\, it won't work.\n",
    "\n",
    "    ***Now In the start menu, right click Jupyter Notebook -> Properties. In the Target field, change %USERPROFILE% to your new \"D:/path\".\n",
    "Add the path that you would like (but use / not \\ for path).\n",
    "\n",
    "Now, Just clicking the JN shortcut provided by Conda opens JN in my desired folder.|||\n",
    "\n",
    "Thanks by 22."
   ]
  },
  {
   "cell_type": "markdown",
   "metadata": {},
   "source": [
    "# Now I can use:\n",
    "    1. Intellisense and other techs of VScode to write down complex codes after navigating in my work folder through \"open folder\".\n",
    "    2. Open the same code snippet in JN and  experiment, take notes, analyse, autosave, and get live output of running the code without using to open anything extra."
   ]
  },
  {
   "cell_type": "markdown",
   "metadata": {},
   "source": [
    "# Handling VLC player for making permanent bookmarks in VLC# "
   ]
  },
  {
   "cell_type": "markdown",
   "metadata": {},
   "source": [
    "** Finaly I got succeeded in bookmarking a clip in VLC and saving it permanently with the same VLC file. Just download an extension from \n",
    "\n",
    "https://addons.videolan.org/p/1718547/#:~:text=This%20VLC%20extension%20allows%20you,files%20and%20store%20them%20permanently.&text=The%20default%20Custom%20Bookmarks%20of,file%2C%20the%20bookmarks%20will%20disappear.\n",
    "\n",
    "save in: \n",
    "\n",
    "• Windows (all users): %ProgramFiles%\\VideoLAN\\VLC\\lua\\extensions\\\n",
    "• Windows (current user): %APPDATA%\\vlc\\lua\\extensions\\\n",
    "\n",
    "Other instructions are already mentioned in the same link, also has been bookmarked as 22 VVII\n",
    "\n",
    "Just pause the clip, click view option and then bookmark, ready with permanent save.\n",
    "**"
   ]
  },
  {
   "cell_type": "code",
   "execution_count": null,
   "metadata": {},
   "outputs": [],
   "source": [
    "My Python files running here\n",
    "\n",
    "Tu2 see this \\below remarks as some of my first perceptions this JN has made in myself\\ Why JN is necessary in a learning journey, equally well is Colab, but JN is unreplaceable>¶\n",
    "Actually I created this file (MyPycode) in VScode, and opened in JN to check and its running well here. Markdown feature too is very necessary, so that I can take notes about my codes using any environment (Python or JS). Also, It was not autosaving, untill I removed it from the protected folder category from ransomeware protection of Win10. Thanks and CU again.\n",
    "\n",
    "The only extension in VScode required is \"Live Server\" for JS coding. Additionally I installed Jupyter notebook extension with python. Its working here well.\n",
    "\n",
    "%%js\n",
    "var x = 5;\n",
    "var y = 6;\n",
    "var z = x + y;\n",
    "element.text(z)\n",
    "<IPython.core.display.Javascript object>\n",
    "Here I am running JS using magic command (%%), as It enables me to run any language here in JN.\n",
    "\n",
    "%%js\n",
    "alert(\"hello, world!\");\n",
    "<IPython.core.display.Javascript object>\n",
    "Here I am taking print output as a notification.\n",
    "\n",
    "from IPython.display import Javascript\n",
    "simpjs = Javascript('alert(\"hello, world!\")')\n",
    "display(simpjs)\n",
    "<IPython.core.display.Javascript object>\n",
    "Here I am using a built-in module in IPython, doing the same thing.\n",
    "\n",
    "var msg = \"Hello, World!\"\n",
    "console.log(msg)\n",
    "​\n",
    "  Cell In[5], line 1\n",
    "    var msg = \"Hello, World!\"\n",
    "        ^\n",
    "SyntaxError: invalid syntax\n",
    "\n",
    "\n",
    "However, console.log command is not running. For that, i have to install Visual Studio and Node. NVM and then Ijavascript.\n",
    "\n",
    "It was a nightmare (running console.log command) running my JS codes in JN. Because MSVisual studio was asking for more than 31 gb in space to download and install, that too not granted. But, thanks Conda. I installed conda, entered in my working directory (JScode) and running only 4 commands on Conda command prompt installed a JS kernel here. 4 commands are: conda install nodejs conda install jupyter npm install -g ijavascript ijsinstall. Thanks God. Now I can run all my Python and JS commands at one place, take notes, and can keep backup to manage after PC disaster. Thanks OA.\n",
    "\n",
    "var msg = \"Hello, World!\"\n",
    "console.log(msg)\n",
    "​\n",
    "Hello, World!\n",
    "How I changed the default working directory of Jupyter Notebook:\n",
    "\n",
    "***run anaconda command prompt\n",
    "***run jupyter notebook --generate-config\n",
    "***a directory .jupyter/ should have created in your home with a file jupyter_notebook_config.py\n",
    "You don't have to do anything on the prompt anymore. it shows something like:\n",
    "\n",
    "C:\\Users\\name.jupyter Find this folder on your C: drive, and in this folder, find the python file jupyter_notebook_config.py. Drag the file into a Notepad ++ to edit it. When editing, look around line 214, for the string that looks like:\n",
    "\n",
    "#c.NotebookApp.notebook_dir = '' Uncomment it, i.e., delete the \"#\" in the first column. Now add our target folder address into the ' ' like this:\n",
    "\n",
    "c.NotebookApp.notebook_dir = 'C:\\Users\\name\\Desktop\\foldername' Then save the file. Then open anaconda prompt again, type jupyter notebook. This should launch Jupyter Notebook in the browser in the folder with the above address. Here, the key point is to UNCOMMENT (which means to delete) the # at front of the line, and then, USE \\ double slashes (for the path separator) between folders. If you use only single slashes , it won't work.\n",
    "\n",
    "***Now In the start menu, right click Jupyter Notebook -> Properties. In the Target field, change %USERPROFILE% to your new \"D:/path\".\n",
    "Add the path that you would like (but use / not \\ for path).\n",
    "\n",
    "Now, Just clicking the JN shortcut provided by Conda opens JN in my desired folder.|||\n",
    "\n",
    "Thanks by 22.\n",
    "\n",
    "%%SAS\n",
    "proc means data=sashelp.cars;\n",
    "run;\n",
    "ods graphics / height=500 width=800;\n",
    "proc sgplot data=sashelp.cars;\n",
    "histogram msrp;\n",
    "run;\n",
    "UsageError: Cell magic `%%SAS` not found.\n",
    "sas.submitLST(\"proc print data=sashelp.cars; run;\", method='listorlog')\n",
    "---------------------------------------------------------------------------\n",
    "NameError                                 Traceback (most recent call last)\n",
    "Input In [3], in <cell line: 1>()\n",
    "----> 1 sas.submitLST(\"proc print data=sashelp.cars; run;\", method='listorlog')\n",
    "\n",
    "NameError: name 'sas' is not defined\n",
    "\n",
    "​"
   ]
  }
 ],
 "metadata": {
  "kernelspec": {
   "display_name": "Python 3",
   "language": "python",
   "name": "python3"
  },
  "language_info": {
   "codemirror_mode": {
    "name": "ipython",
    "version": 3
   },
   "file_extension": ".py",
   "mimetype": "text/x-python",
   "name": "python",
   "nbconvert_exporter": "python",
   "pygments_lexer": "ipython3",
   "version": "3.5.6"
  },
  "vscode": {
   "interpreter": {
    "hash": "548469c6c2bafbb029779e083e6b7a8ec6c3c4d82809e86f97f722b1b0da594c"
   }
  }
 },
 "nbformat": 4,
 "nbformat_minor": 2
}
