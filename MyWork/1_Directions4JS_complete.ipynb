{
 "cells": [
  {
   "cell_type": "markdown",
   "id": "1646b7e0",
   "metadata": {},
   "source": [
    "#                                           Start of my JS #"
   ]
  },
  {
   "cell_type": "code",
   "execution_count": 4,
   "id": "01a928d4",
   "metadata": {
    "vscode": {
     "languageId": "javascript"
    }
   },
   "outputs": [
    {
     "data": {
      "text/plain": [
       "8"
      ]
     },
     "execution_count": 4,
     "metadata": {},
     "output_type": "execute_result"
    }
   ],
   "source": [
    "5+3\n"
   ]
  },
  {
   "cell_type": "markdown",
   "id": "d3df2388",
   "metadata": {},
   "source": [
    "//Sometimes JS kernel does'nt run, just close and restart the JN, may be it take restart as an admin// "
   ]
  },
  {
   "cell_type": "code",
   "execution_count": 3,
   "id": "bc9e1909",
   "metadata": {
    "vscode": {
     "languageId": "javascript"
    }
   },
   "outputs": [
    {
     "name": "stdout",
     "output_type": "stream",
     "text": [
      "Hi Bokachoda\n",
      "Pressing Tab and Exclamation resulted a blank template for HTML\n",
      "Sus\n",
      "Singh\n"
     ]
    }
   ],
   "source": [
    "console.log(\"Hi Bokachoda\");//single or double quote\n",
    "console.log(\"Pressing Tab and Exclamation resulted a blank template for HTML\");\n",
    "//cntrl + forslash makes a codeline comment //\n",
    "// Pressing again cntrl + forslash uncomments a line\n",
    "// Variables \n",
    "var firstName = 'Sus';\n",
    "console.log(firstName);\n",
    "firstName = `Singh`;//Here I m not using any quote, rather a tilt sign, working perfect.\n",
    "console.log(firstName);\n",
    "// Issue is that .ipynb files are only running with kernels not .js files because all other files are text files in JN //\n",
    "// Just open a new JS kernel and open the VScode made .JS file in a new tab, copy and paste here//\n"
   ]
  },
  {
   "cell_type": "markdown",
   "id": "14ff88d1",
   "metadata": {},
   "source": [
    "## Declaring and changing the value of a variable #"
   ]
  },
  {
   "cell_type": "code",
   "execution_count": 1,
   "id": "4f67511c",
   "metadata": {
    "vscode": {
     "languageId": "javascript"
    }
   },
   "outputs": [
    {
     "name": "stdout",
     "output_type": "stream",
     "text": [
      "Sus\n",
      "Sun\n",
      "Sun\n",
      "Sus\n"
     ]
    }
   ],
   "source": [
    "var s = \"Sus\";\n",
    "console.log (s);\n",
    "s = \"Sun\";\n",
    "console.log(s);\n",
    "console.log(s);\n",
    "s = \"Sus\"\n",
    "console.log(s);"
   ]
  },
  {
   "cell_type": "markdown",
   "id": "4fcedce6",
   "metadata": {},
   "source": [
    "// Although we can write without var keyword as s = \"Sus\"\n",
    "// However, \"Use strict\" command on the top of a code snippet saves us from making mistakes(forces us for use of var keyword, being attentive of capital and small letter in variable name declaration). "
   ]
  },
  {
   "cell_type": "code",
   "execution_count": 2,
   "id": "f08c67a2",
   "metadata": {
    "vscode": {
     "languageId": "javascript"
    }
   },
   "outputs": [
    {
     "name": "stdout",
     "output_type": "stream",
     "text": [
      "1.4142135623730951\n"
     ]
    }
   ],
   "source": [
    "var value1 = 2;\n",
    "console.log (value1**0.5);"
   ]
  },
  {
   "cell_type": "markdown",
   "id": "bcb4734b",
   "metadata": {},
   "source": [
    "Var val_1 , using underscore in variable declaration is called snake-case writting. "
   ]
  },
  {
   "cell_type": "markdown",
   "id": "9718fbcb",
   "metadata": {
    "vscode": {
     "languageId": "javascript"
    }
   },
   "source": [
    "FirstName: Using cap and small letters together is called camel-case writting. "
   ]
  },
  {
   "cell_type": "markdown",
   "id": "c9fe51a0",
   "metadata": {},
   "source": [
    "// After Prettier, Python, Jupyter and Live server by Ritwick Dey extension installation, running a JS code in VScode gives options to select server. If chrome is selected then runs with chrome, I have to see developer options and console. If Node is selected then runs localy and output is visible in Debug console. //"
   ]
  },
  {
   "cell_type": "markdown",
   "id": "bf501fc0",
   "metadata": {},
   "source": [
    "## One of the great feature in JN is permanent printed output of my codes whereas in JScode in live server each time I will loose my output"
   ]
  },
  {
   "cell_type": "markdown",
   "id": "7c4efd04",
   "metadata": {},
   "source": [
    "### So, start learning in Jupyter Notebook environment. And after mastery when I will be writting lenghty codes, start practising in VScode writting the same codes, like \"File1.js\" "
   ]
  },
  {
   "cell_type": "code",
   "execution_count": 1,
   "id": "72d295b1",
   "metadata": {},
   "outputs": [
    {
     "ename": "SyntaxError",
     "evalue": "Unexpected token '%'",
     "output_type": "error",
     "traceback": [
      "evalmachine.<anonymous>:1",
      "%%SAS",
      "^",
      "",
      "SyntaxError: Unexpected token '%'",
      "    at new Script (node:vm:100:7)",
      "    at createScript (node:vm:257:10)",
      "    at Object.runInThisContext (node:vm:305:10)",
      "    at run ([eval]:1020:15)",
      "    at onRunRequest ([eval]:864:18)",
      "    at onMessage ([eval]:828:13)",
      "    at process.emit (node:events:390:28)",
      "    at emit (node:internal/child_process:917:12)",
      "    at processTicksAndRejections (node:internal/process/task_queues:84:21)"
     ]
    }
   ],
   "source": [
    "%%SAS\n",
    "proc means data=sashelp.cars;\n",
    "run;\n",
    "ods graphics / height=500 width=800;\n",
    "proc sgplot data=sashelp.cars;\n",
    "histogram msrp;\n",
    "run;"
   ]
  },
  {
   "cell_type": "markdown",
   "id": "a15441fa",
   "metadata": {},
   "source": [
    "# Wah moment \"How SAS kernel is running here? God knows. Trying my SAS commands below to check it:"
   ]
  },
  {
   "cell_type": "code",
   "execution_count": 5,
   "id": "caaff661",
   "metadata": {},
   "outputs": [
    {
     "name": "stderr",
     "output_type": "stream",
     "text": [
      "UsageError: Cell magic `%%SAS` not found.\n"
     ]
    }
   ],
   "source": [
    "%%SAS\n",
    "proc means data=sashelp.cars;\n",
    "run;\n",
    "ods graphics / height=500 width=800;\n",
    "proc sgplot data=sashelp.cars;\n",
    "histogram msrp;\n",
    "run;"
   ]
  },
  {
   "cell_type": "code",
   "execution_count": 2,
   "id": "0fd9ea30",
   "metadata": {},
   "outputs": [
    {
     "name": "stdout",
     "output_type": "stream",
     "text": [
      "Object `SasPy` not found.\n"
     ]
    }
   ],
   "source": [
    "SasPy?\n"
   ]
  },
  {
   "cell_type": "code",
   "execution_count": 3,
   "id": "ee5d703c",
   "metadata": {},
   "outputs": [
    {
     "ename": "SyntaxError",
     "evalue": "invalid syntax (2808132443.py, line 1)",
     "output_type": "error",
     "traceback": [
      "\u001b[1;36m  Input \u001b[1;32mIn [3]\u001b[1;36m\u001b[0m\n\u001b[1;33m    Py Help\u001b[0m\n\u001b[1;37m       ^\u001b[0m\n\u001b[1;31mSyntaxError\u001b[0m\u001b[1;31m:\u001b[0m invalid syntax\n"
     ]
    }
   ],
   "source": [
    "Py Help"
   ]
  },
  {
   "cell_type": "code",
   "execution_count": 4,
   "id": "a9ae6ba7",
   "metadata": {},
   "outputs": [
    {
     "ename": "SyntaxError",
     "evalue": "invalid syntax (1116367408.py, line 1)",
     "output_type": "error",
     "traceback": [
      "\u001b[1;36m  Input \u001b[1;32mIn [4]\u001b[1;36m\u001b[0m\n\u001b[1;33m    Python ?\u001b[0m\n\u001b[1;37m           ^\u001b[0m\n\u001b[1;31mSyntaxError\u001b[0m\u001b[1;31m:\u001b[0m invalid syntax\n"
     ]
    }
   ],
   "source": [
    "Python ? "
   ]
  },
  {
   "cell_type": "markdown",
   "id": "c060162c",
   "metadata": {},
   "source": [
    "##Since SAS kernel only is installed, full SAS installation too is needed, pending for now. I have installed FastAPI and going to make my first API. Happy APIng   "
   ]
  },
  {
   "cell_type": "code",
   "execution_count": 1,
   "id": "ea291ee5",
   "metadata": {},
   "outputs": [],
   "source": [
    "# main.py\n",
    "\n",
    "from fastapi import FastAPI\n",
    "\n",
    "app = FastAPI()\n",
    "\n",
    "@app.get(\"/\")\n",
    "async def root():\n",
    "    return {\"message\": \"Hello World\"}"
   ]
  },
  {
   "cell_type": "markdown",
   "id": "a2a596ab",
   "metadata": {},
   "source": [
    "Yeh to yahan run kiya, python kernel par, lekin \"Hello world\" kahan likha ?? "
   ]
  },
  {
   "cell_type": "code",
   "execution_count": 6,
   "id": "a965c189",
   "metadata": {},
   "outputs": [
    {
     "ename": "SyntaxError",
     "evalue": "invalid syntax (3807844594.py, line 1)",
     "output_type": "error",
     "traceback": [
      "\u001b[1;36m  Input \u001b[1;32mIn [6]\u001b[1;36m\u001b[0m\n\u001b[1;33m    uvicorn main:app --reload\u001b[0m\n\u001b[1;37m            ^\u001b[0m\n\u001b[1;31mSyntaxError\u001b[0m\u001b[1;31m:\u001b[0m invalid syntax\n"
     ]
    }
   ],
   "source": [
    "uvicorn main:app --reload"
   ]
  },
  {
   "cell_type": "code",
   "execution_count": null,
   "id": "ea69f4ad",
   "metadata": {},
   "outputs": [],
   "source": []
  }
 ],
 "metadata": {
  "kernelspec": {
   "display_name": "Python 3 (ipykernel)",
   "language": "python",
   "name": "python3"
  },
  "language_info": {
   "codemirror_mode": {
    "name": "ipython",
    "version": 3
   },
   "file_extension": ".py",
   "mimetype": "text/x-python",
   "name": "python",
   "nbconvert_exporter": "python",
   "pygments_lexer": "ipython3",
   "version": "3.9.12"
  }
 },
 "nbformat": 4,
 "nbformat_minor": 5
}
